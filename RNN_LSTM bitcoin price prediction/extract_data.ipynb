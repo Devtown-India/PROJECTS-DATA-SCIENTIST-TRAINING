{
 "metadata": {
  "language_info": {
   "codemirror_mode": {
    "name": "ipython",
    "version": 3
   },
   "file_extension": ".py",
   "mimetype": "text/x-python",
   "name": "python",
   "nbconvert_exporter": "python",
   "pygments_lexer": "ipython3",
   "version": "3.9.5"
  },
  "orig_nbformat": 2,
  "kernelspec": {
   "name": "python395jvsc74a57bd0ecb835f69adf633d6cd4c23f01dec38d73396ce3bc08b9c000c89a271ea77b6c",
   "display_name": "Python 3.9.5 64-bit ('Python39')"
  },
  "metadata": {
   "interpreter": {
    "hash": "ecb835f69adf633d6cd4c23f01dec38d73396ce3bc08b9c000c89a271ea77b6c"
   }
  }
 },
 "nbformat": 4,
 "nbformat_minor": 2,
 "cells": [
  {
   "source": [
    "This is the notebook to scrap the missing data from bitcoin dataset from kaggle."
   ],
   "cell_type": "markdown",
   "metadata": {}
  },
  {
   "cell_type": "code",
   "execution_count": 1,
   "metadata": {},
   "outputs": [],
   "source": [
    "import pandas as pd \n",
    "import numpy as np\n",
    "from datetime import datetime\n",
    "from bs4 import BeautifulSoup\n",
    "import requests\n",
    "from selenium import webdriver\n",
    "from selenium.webdriver.common.by import By\n",
    "from selenium.webdriver.support.ui import WebDriverWait\n",
    "from time import sleep"
   ]
  },
  {
   "cell_type": "code",
   "execution_count": 2,
   "metadata": {},
   "outputs": [],
   "source": [
    "data=pd.read_csv('bitcoin.csv') "
   ]
  },
  {
   "cell_type": "code",
   "execution_count": 3,
   "metadata": {},
   "outputs": [],
   "source": [
    "nn_df=data[data.Open.isnull()]      #create mask for getting rows with null value"
   ]
  },
  {
   "cell_type": "code",
   "execution_count": 4,
   "metadata": {},
   "outputs": [
    {
     "output_type": "stream",
     "name": "stderr",
     "text": [
      "<ipython-input-4-867de58fc6df>:1: SettingWithCopyWarning: \nA value is trying to be set on a copy of a slice from a DataFrame.\nTry using .loc[row_indexer,col_indexer] = value instead\n\nSee the caveats in the documentation: https://pandas.pydata.org/pandas-docs/stable/user_guide/indexing.html#returning-a-view-versus-a-copy\n  nn_df['dates'] = nn_df['Timestamp'].apply(lambda d: datetime.fromtimestamp(int(d)).strftime('%Y-%m-%d'))\n"
     ]
    }
   ],
   "source": [
    "nn_df['dates'] = nn_df['Timestamp'].apply(lambda d: datetime.fromtimestamp(int(d)).strftime('%Y-%m-%d')) #extract the dates for missing rows from unix time"
   ]
  },
  {
   "cell_type": "code",
   "execution_count": 5,
   "metadata": {},
   "outputs": [],
   "source": [
    "uniq_dates=list(nn_df['dates'].unique())"
   ]
  },
  {
   "source": [
    "The dataset provided on kaggle has been abstracted from [bitcoincharts.com]('https://bitcoincharts.com/charts/bitstampUSD#rg60zczsg2021-04-07zeg2021-06-06ztgSzm1g10zm2g25zv'), this details is been provided in the description section of kaggle dataset. So we need to extract the from data from web site using webscraping and we will use Selenium to extract those data.\n",
    "\n",
    "<img src='site.png'/>\n",
    "\n",
    "On the above image , the is link with name `Load raw data`, it contains the value we required . We need to install [Selenium]('https://www.selenium.dev/') and [chrome web driver]('https://sites.google.com/a/chromium.org/chromedriver/') to access chrome for scraping data."
   ],
   "cell_type": "markdown",
   "metadata": {}
  },
  {
   "cell_type": "code",
   "execution_count": 8,
   "metadata": {},
   "outputs": [],
   "source": [
    "df=[] ##data would be stored in this list"
   ]
  },
  {
   "cell_type": "code",
   "execution_count": 22,
   "metadata": {},
   "outputs": [],
   "source": [
    "for date in uniq_dates:\n",
    "    driver = webdriver.Chrome(executable_path='')  ## put your path for chrome driver extension    \n",
    "    url='https://bitcoincharts.com/charts/bitstampUSD#rg60zczsg'+date+'zeg'+date+'ztgSzm1g10zm2g25zv'\n",
    "    driver.get(url)\n",
    "    driver.find_element_by_partial_link_text(\"Load raw data\").click()      #click on the `Load raw data`\n",
    "    sleep(1)\n",
    "    soup=BeautifulSoup(driver.page_source,'html.parser')\n",
    "    mydiv=soup.find('table',{'id':'chart_table'})\n",
    "    rows=mydiv.find('tbody').findAll('tr')\n",
    "    try:\n",
    "        for tr in rows:\n",
    "            if(tr.findAll('td')[1].text!='—'):\n",
    "                df.append([td.text.strip()  for td in tr.findAll('td')])\n",
    "    except:\n",
    "        pass\n",
    "    sleep(1)\n",
    "    driver.quit()"
   ]
  },
  {
   "source": [
    "This will took around 10-11 hours to extract all required data."
   ],
   "cell_type": "markdown",
   "metadata": {}
  },
  {
   "cell_type": "code",
   "execution_count": 23,
   "metadata": {},
   "outputs": [
    {
     "output_type": "execute_result",
     "data": {
      "text/plain": [
       "276866"
      ]
     },
     "metadata": {},
     "execution_count": 23
    }
   ],
   "source": [
    "len(df)"
   ]
  },
  {
   "source": [
    "We have extracted 276866 rows of data."
   ],
   "cell_type": "markdown",
   "metadata": {}
  },
  {
   "cell_type": "code",
   "execution_count": 24,
   "metadata": {},
   "outputs": [],
   "source": [
    "cp=df.copy()"
   ]
  },
  {
   "cell_type": "code",
   "execution_count": 25,
   "metadata": {},
   "outputs": [
    {
     "output_type": "execute_result",
     "data": {
      "text/plain": [
       "['2011-12-30 10:45:00',\n",
       " '4.26',\n",
       " '4.26',\n",
       " '4.21',\n",
       " '4.21',\n",
       " '12.33',\n",
       " '51.96',\n",
       " '4.21']"
      ]
     },
     "metadata": {},
     "execution_count": 25
    }
   ],
   "source": [
    "cp[0]"
   ]
  },
  {
   "cell_type": "code",
   "execution_count": 26,
   "metadata": {},
   "outputs": [],
   "source": [
    "import pickle"
   ]
  },
  {
   "cell_type": "code",
   "execution_count": 27,
   "metadata": {},
   "outputs": [],
   "source": [
    "with open(\"bitcoincharts.txt\", \"wb\") as fp:         ## saving data in text format\n",
    "    pickle.dump(cp, fp)"
   ]
  },
  {
   "cell_type": "code",
   "execution_count": 28,
   "metadata": {},
   "outputs": [],
   "source": [
    "bitcoin=pd.DataFrame(cp,columns=['Timestamp', 'Open', 'High', 'Low', 'Close', 'Volume_(BTC)',\n",
    "       'Volume_(Currency)', 'Weighted_Price'])"
   ]
  },
  {
   "cell_type": "code",
   "execution_count": 29,
   "metadata": {},
   "outputs": [
    {
     "output_type": "execute_result",
     "data": {
      "text/plain": [
       "                  Timestamp      Open      High       Low     Close  \\\n",
       "0       2011-12-30 10:45:00      4.26      4.26      4.21      4.21   \n",
       "1       2011-12-30 14:00:00       4.5       4.5       4.5       4.5   \n",
       "2       2011-12-30 15:15:00      4.21      4.21      4.21      4.21   \n",
       "3       2011-12-30 15:30:00      4.21      4.21      4.21      4.21   \n",
       "4       2011-12-31 07:45:00      4.39      4.39      4.39      4.39   \n",
       "...                     ...       ...       ...       ...       ...   \n",
       "276861  2021-03-30 23:00:00  58699.43  58734.72  58567.11  58733.62   \n",
       "276862  2021-03-30 23:15:00  58704.85  58748.45  58573.63  58748.45   \n",
       "276863  2021-03-30 23:30:00  58766.56  58766.56  58599.78     58600   \n",
       "276864  2021-03-30 23:45:00  58599.99  58770.38  58599.99  58760.59   \n",
       "276865  2021-03-31 00:00:00  58767.75  58931.24  58718.17  58887.18   \n",
       "\n",
       "       Volume_(BTC) Volume_(Currency) Weighted_Price  \n",
       "0             12.33             51.96           4.21  \n",
       "1               4.2              18.9            4.5  \n",
       "2             39.77            167.43           4.21  \n",
       "3              0.44              1.85           4.21  \n",
       "4              0.46                 2           4.39  \n",
       "...             ...               ...            ...  \n",
       "276861         7.85         460410.98       58628.91  \n",
       "276862         5.69         334078.89        58662.7  \n",
       "276863        24.67        1446170.82       58619.58  \n",
       "276864        40.11        2353284.47       58669.39  \n",
       "276865        26.05        1532169.96       58813.66  \n",
       "\n",
       "[276866 rows x 8 columns]"
      ],
      "text/html": "<div>\n<style scoped>\n    .dataframe tbody tr th:only-of-type {\n        vertical-align: middle;\n    }\n\n    .dataframe tbody tr th {\n        vertical-align: top;\n    }\n\n    .dataframe thead th {\n        text-align: right;\n    }\n</style>\n<table border=\"1\" class=\"dataframe\">\n  <thead>\n    <tr style=\"text-align: right;\">\n      <th></th>\n      <th>Timestamp</th>\n      <th>Open</th>\n      <th>High</th>\n      <th>Low</th>\n      <th>Close</th>\n      <th>Volume_(BTC)</th>\n      <th>Volume_(Currency)</th>\n      <th>Weighted_Price</th>\n    </tr>\n  </thead>\n  <tbody>\n    <tr>\n      <th>0</th>\n      <td>2011-12-30 10:45:00</td>\n      <td>4.26</td>\n      <td>4.26</td>\n      <td>4.21</td>\n      <td>4.21</td>\n      <td>12.33</td>\n      <td>51.96</td>\n      <td>4.21</td>\n    </tr>\n    <tr>\n      <th>1</th>\n      <td>2011-12-30 14:00:00</td>\n      <td>4.5</td>\n      <td>4.5</td>\n      <td>4.5</td>\n      <td>4.5</td>\n      <td>4.2</td>\n      <td>18.9</td>\n      <td>4.5</td>\n    </tr>\n    <tr>\n      <th>2</th>\n      <td>2011-12-30 15:15:00</td>\n      <td>4.21</td>\n      <td>4.21</td>\n      <td>4.21</td>\n      <td>4.21</td>\n      <td>39.77</td>\n      <td>167.43</td>\n      <td>4.21</td>\n    </tr>\n    <tr>\n      <th>3</th>\n      <td>2011-12-30 15:30:00</td>\n      <td>4.21</td>\n      <td>4.21</td>\n      <td>4.21</td>\n      <td>4.21</td>\n      <td>0.44</td>\n      <td>1.85</td>\n      <td>4.21</td>\n    </tr>\n    <tr>\n      <th>4</th>\n      <td>2011-12-31 07:45:00</td>\n      <td>4.39</td>\n      <td>4.39</td>\n      <td>4.39</td>\n      <td>4.39</td>\n      <td>0.46</td>\n      <td>2</td>\n      <td>4.39</td>\n    </tr>\n    <tr>\n      <th>...</th>\n      <td>...</td>\n      <td>...</td>\n      <td>...</td>\n      <td>...</td>\n      <td>...</td>\n      <td>...</td>\n      <td>...</td>\n      <td>...</td>\n    </tr>\n    <tr>\n      <th>276861</th>\n      <td>2021-03-30 23:00:00</td>\n      <td>58699.43</td>\n      <td>58734.72</td>\n      <td>58567.11</td>\n      <td>58733.62</td>\n      <td>7.85</td>\n      <td>460410.98</td>\n      <td>58628.91</td>\n    </tr>\n    <tr>\n      <th>276862</th>\n      <td>2021-03-30 23:15:00</td>\n      <td>58704.85</td>\n      <td>58748.45</td>\n      <td>58573.63</td>\n      <td>58748.45</td>\n      <td>5.69</td>\n      <td>334078.89</td>\n      <td>58662.7</td>\n    </tr>\n    <tr>\n      <th>276863</th>\n      <td>2021-03-30 23:30:00</td>\n      <td>58766.56</td>\n      <td>58766.56</td>\n      <td>58599.78</td>\n      <td>58600</td>\n      <td>24.67</td>\n      <td>1446170.82</td>\n      <td>58619.58</td>\n    </tr>\n    <tr>\n      <th>276864</th>\n      <td>2021-03-30 23:45:00</td>\n      <td>58599.99</td>\n      <td>58770.38</td>\n      <td>58599.99</td>\n      <td>58760.59</td>\n      <td>40.11</td>\n      <td>2353284.47</td>\n      <td>58669.39</td>\n    </tr>\n    <tr>\n      <th>276865</th>\n      <td>2021-03-31 00:00:00</td>\n      <td>58767.75</td>\n      <td>58931.24</td>\n      <td>58718.17</td>\n      <td>58887.18</td>\n      <td>26.05</td>\n      <td>1532169.96</td>\n      <td>58813.66</td>\n    </tr>\n  </tbody>\n</table>\n<p>276866 rows × 8 columns</p>\n</div>"
     },
     "metadata": {},
     "execution_count": 29
    }
   ],
   "source": [
    "bitcoin"
   ]
  },
  {
   "cell_type": "code",
   "execution_count": 30,
   "metadata": {},
   "outputs": [],
   "source": [
    "bitcoin.to_csv('bitcoinchart.csv')"
   ]
  },
  {
   "cell_type": "code",
   "execution_count": 35,
   "metadata": {},
   "outputs": [],
   "source": [
    "bitcoin_unix=pd.DataFrame(cp,columns=['Timestamp', 'Open', 'High', 'Low', 'Close', 'Volume_(BTC)',\n",
    "       'Volume_(Currency)', 'Weighted_Price'])"
   ]
  },
  {
   "cell_type": "code",
   "execution_count": 36,
   "metadata": {},
   "outputs": [
    {
     "output_type": "execute_result",
     "data": {
      "text/plain": [
       "(276866, 8)"
      ]
     },
     "metadata": {},
     "execution_count": 36
    }
   ],
   "source": [
    "bitcoin_unix"
   ]
  },
  {
   "source": [
    "The date-time has been extracted in timestamp ,but we need to have unix time format in order to append these to previous data."
   ],
   "cell_type": "markdown",
   "metadata": {}
  },
  {
   "cell_type": "code",
   "execution_count": 37,
   "metadata": {},
   "outputs": [
    {
     "output_type": "stream",
     "name": "stdout",
     "text": [
      "<class 'pandas.core.frame.DataFrame'>\nRangeIndex: 276866 entries, 0 to 276865\nData columns (total 8 columns):\n #   Column             Non-Null Count   Dtype \n---  ------             --------------   ----- \n 0   Timestamp          276866 non-null  object\n 1   Open               276866 non-null  object\n 2   High               276866 non-null  object\n 3   Low                276866 non-null  object\n 4   Close              276866 non-null  object\n 5   Volume_(BTC)       276866 non-null  object\n 6   Volume_(Currency)  276866 non-null  object\n 7   Weighted_Price     276866 non-null  object\ndtypes: object(8)\nmemory usage: 16.9+ MB\n"
     ]
    }
   ],
   "source": [
    "bitcoin_unix.info()  "
   ]
  },
  {
   "cell_type": "code",
   "execution_count": 66,
   "metadata": {},
   "outputs": [],
   "source": [
    "bitcoin_unix['Timestamp']=(pd.to_datetime(bitcoin_unix.Timestamp)-pd.Timestamp(\"1970-01-01\")) // pd.Timedelta('1s')   ## converting date-time to unix format\n"
   ]
  },
  {
   "cell_type": "code",
   "execution_count": 68,
   "metadata": {},
   "outputs": [],
   "source": [
    "bitcoin_unix.to_csv('bitcoinunix.csv')"
   ]
  },
  {
   "cell_type": "code",
   "execution_count": null,
   "metadata": {},
   "outputs": [],
   "source": []
  }
 ]
}