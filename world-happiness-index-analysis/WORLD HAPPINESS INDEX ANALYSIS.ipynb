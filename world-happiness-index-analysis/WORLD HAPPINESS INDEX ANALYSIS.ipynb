{
 "cells": [
  {
   "cell_type": "markdown",
   "metadata": {},
   "source": [
    "# <span style='color:Blue'> WORLD HAPPINESS INDEX ANALYSIS"
   ]
  },
  {
   "cell_type": "markdown",
   "metadata": {},
   "source": [
    "# --------------------------------------------------------------------------------------------------------"
   ]
  },
  {
   "cell_type": "markdown",
   "metadata": {},
   "source": [
    "<span style='background :#e6eeff' >We all strive for happiness right? All of us will have a lot of goals and dreams for ourselve, but we all have one common target, happiness. We all function well when we are contented and happy in our lives. Similarly a country as a whole will perform better if the citizens are happy and content.\n",
    "\n",
    "<span style='background :#e6eeff' >Today we are going to analyze how different factors that prevail in a country affects the overall happiness of that particular country, each year world happiness index report is formulated rating various countries on the level of happiness condidering various deciding factors in those countries.\n",
    "\n",
    "\n"
   ]
  },
  {
   "cell_type": "markdown",
   "metadata": {},
   "source": [
    "#### <span style='color:Blue'> What is World Happiness Report?\n",
    "\n",
    "<span style='background :#ffe6f0' >The World Happiness Report is a publication of the United Nations Sustainable Development Solutions Network. It contains articles and rankings of national happiness, based on respondent ratings of their own lives, which the report also correlates with various (quality of) life factors.\n",
    "Each country is given a happiness score that is the sum of scores from the following 7 criteria:\n",
    "\n",
    "<span style='background :#ffe6f0' >GDP per capita healthy years of life expectancy, social support (as measured by having someone to count on in times of trouble), trust (as measured by a perceived absence of corruption in government and business) perceived freedom to make life decisions generosity (as measured by recent donations) dystopia (benchmark country corresponding to the lowest possible values in each of the criteria) The countries are then ranked from most happy to least happy.\n"
   ]
  },
  {
   "cell_type": "markdown",
   "metadata": {},
   "source": [
    "<span style='background :#ffe6f0' >Let's take some time and analyse the world happiness index report and find out how the index has been computed and how the other factors affect the computation.\n"
   ]
  },
  {
   "cell_type": "markdown",
   "metadata": {},
   "source": [
    "<span style='background :#fffba8' >We can easily get a variety of datasets for analysing the world happiness index, but we are going to take a different root this time around.We are actually not going to work on a already formulated dataset, we are actually going to extract datya from a website and make a dataframe out of it, sounds interesting? Yes, I know, let's dive in."
   ]
  },
  {
   "cell_type": "markdown",
   "metadata": {},
   "source": [
    "### <span style='color:Blue'>Let's look at the site from which we are going to extract the data from.\n",
    "\n",
    "https://www.theglobaleconomy.com/rankings/happiness/\n",
    "\n",
    "<span style='background :#fffba8' >Go to this website and look at the plot, we are going to extract the data from this very plot."
   ]
  },
  {
   "cell_type": "markdown",
   "metadata": {},
   "source": [
    "<span style='background :#fffba8' >Extracting Data from website is not a very tedious job, we have a lot of packages available to extract data from websites, today we are going to use one very popular one,<span style='color:Blue'> Beautiful Soup.</span>"
   ]
  },
  {
   "cell_type": "markdown",
   "metadata": {},
   "source": [
    "#### <span style='color:Blue'> Before learning about beautiful soup lets first understand what web scraping  is.\n"
   ]
  },
  {
   "cell_type": "markdown",
   "metadata": {},
   "source": [
    "As a data analyst you will need to extract data for analysis frequently.It will not be always that you are given a proper dataset to work with, sometimes we have to collect and extract data from different sources and create a data frame ourself. This is an essential skill. Today we are going to create our own dataset by web scraping for this project."
   ]
  },
  {
   "cell_type": "markdown",
   "metadata": {},
   "source": [
    "#### <span style='color:Blue'> Data extraction from websites\n",
    "\n",
    "<span style='background :#e6eeff' >There are mainly two ways to extract data from a website:\n",
    "\n",
    "Use the API of the website (if it exists). For example, Facebook has the Facebook Graph API which allows retrieval of data posted on Facebook.\n",
    "\n",
    "Access the HTML of the webpage and extract useful information/data from it. This technique is called web scraping or web harvesting or web data extraction (Which we are about to do)."
   ]
  },
  {
   "cell_type": "markdown",
   "metadata": {},
   "source": [
    "#### <span style='color:Blue'> What Is Web Scraping?\n",
    "\n",
    "<span style='background :#e6eeff' >Web scraping is the process of gathering information from the Internet. Even copying and pasting the lyrics of your favorite song is a form of web scraping! However, the words “web scraping” usually refer to a process that involves automation. Some websites don’t like it when automatic scrapers gather their data, while others don’t mind.\n",
    "\n",
    "<span style='background :#e6eeff' >If you’re scraping a page respectfully for educational purposes, then you’re unlikely to have any problems. "
   ]
  },
  {
   "cell_type": "markdown",
   "metadata": {},
   "source": [
    "#### <span style='color:Blue'> Steps involved in web scraping\n",
    "\n",
    "--Find the URL of the webpage that you want to scrape\n",
    "\n",
    "--Select the particular elements by inspecting\n",
    "\n",
    "--Write the code to get the content of the selected elements\n",
    "\n",
    "--Store the data in the required format\n",
    "\n"
   ]
  },
  {
   "cell_type": "markdown",
   "metadata": {},
   "source": [
    "#### <span style='color:Blue'> Uses of Web Scraping\n",
    "\n",
    "Social Media Sentiment Analysis\n",
    "\n",
    "Lead Generation in Marketing Domain\n",
    "\n",
    "Market Analysis, Online Price Comparison in eCommerce Domain\n",
    "\n",
    "Collect train and test data in Machine Learning Applications\n",
    "\n"
   ]
  },
  {
   "cell_type": "markdown",
   "metadata": {},
   "source": [
    "#### <span style='color:Blue'>Why Python for Web Scraping?\n",
    "\n",
    "<span style='background :#e6eeff' >Python is one of the most popular languages for web scraping as it can handle most of the web crawling related tasks very easily.\n",
    "\n",
    "Below are some of the points on why to choose python for web scraping:\n",
    "\n",
    " <span style='color:Blue'>--Ease of Use</span>\n",
    "\n",
    "As most of the developers agree that python is very easy to code. We don’t have to use any curly braces “{ }” or semi-colons “;” anywhere, which makes it more readable and easy-to-use while developing web scrapers.\n",
    "\n",
    "<span style='color:Blue'>--Huge Library Support</span>\n",
    "\n",
    "Python provides huge set of libraries for different requirements, so it is appropriate for web scraping as well as for data visualization, machine learning, etc.\n",
    "\n",
    "<span style='color:Blue'>--Easily Explicable Syntax</span>\n",
    "\n",
    "Python is a very readable programming language as python syntax are easy to understand. Python is very expressive and code indentation helps the users to differentiate different blocks or scoopes in the code.\n",
    "\n",
    "<span style='color:Blue'>--Dynamically-typed language</span>\n",
    "\n",
    "Python is a dynamically-typed language, which means the data assigned to a variable tells, what type of variable it is. It saves lot of time and makes work faster.\n",
    "\n",
    "<span style='color:Blue'>--Huge Community</span>\n",
    "\n",
    "Python community is huge which helps you wherever you stuck while writing code."
   ]
  },
  {
   "cell_type": "markdown",
   "metadata": {},
   "source": [
    "#### <span style='color:Blue'> What is beautiful Soup?"
   ]
  },
  {
   "cell_type": "markdown",
   "metadata": {},
   "source": [
    "<span style='background :#ffe6f0' >Beautiful Soup is a Python library for parsing structured data. It allows you to interact with HTML in a similar way to how you interact with a web page using developer tools. The library exposes a couple of intuitive functions you can use to explore the HTML you received. "
   ]
  },
  {
   "cell_type": "markdown",
   "metadata": {},
   "source": [
    "#### <span style='color:Blue'> What makes beautiful soup stand out?\n",
    "\n",
    "<span style='background :#ffe6f0' >Beautiful Soup provides a few simple methods and Pythonic idioms for navigating, searching, and modifying a parse tree: a toolkit for dissecting a document and extracting what you need. It doesn't take much code to write an application\n",
    "\n",
    "<span style='background :#ffe6f0' >Beautiful Soup automatically converts incoming documents to Unicode and outgoing documents to UTF-8. You don't have to think about encodings, unless the document doesn't specify an encoding and Beautiful Soup can't detect one. Then you just have to specify the original encoding."
   ]
  },
  {
   "cell_type": "markdown",
   "metadata": {},
   "source": [
    "https://realpython.com/beautiful-soup-web-scraper-python/\n",
    "\n",
    "https://www.geeksforgeeks.org/implementing-web-scraping-python-beautiful-soup/\n",
    "\n",
    "https://www.analyticsvidhya.com/blog/2021/06/web-scraping-with-python-beautifulsoup-library/\n",
    "\n",
    "Refer these sites for more information."
   ]
  },
  {
   "cell_type": "markdown",
   "metadata": {},
   "source": [
    "#### <span style='color:Blue'> If you have never interacted with websites, and requires a comprehensive tutorial about scrapping the web then visit this site.\n",
    "\n",
    "https://www.dataquest.io/blog/web-scraping-python-using-beautiful-soup/"
   ]
  },
  {
   "cell_type": "markdown",
   "metadata": {},
   "source": [
    "https://github.com/datasciencedojo/tutorials/blob/master/Web%20Scraping%20with%20Python%20and%20BeautifulSoup/Web%20Scraping%20with%20Python%20and%20Beautiful%20Soup.py\n",
    "\n",
    "This is a simple extraction project for you to get a feel about the process."
   ]
  },
  {
   "cell_type": "markdown",
   "metadata": {},
   "source": [
    "https://www.crummy.com/software/BeautifulSoup/bs3/documentation.html\n",
    "\n",
    "Beautiful Soup documentation."
   ]
  },
  {
   "cell_type": "markdown",
   "metadata": {},
   "source": [
    "# --------------------------------------------------------------------------------------------------------"
   ]
  },
  {
   "cell_type": "markdown",
   "metadata": {},
   "source": [
    "# --------------------------------------------------------------------------------------------------------"
   ]
  },
  {
   "cell_type": "markdown",
   "metadata": {},
   "source": [
    "## <span style='color:Blue'> Data Extraction (Web Scraping)"
   ]
  },
  {
   "cell_type": "markdown",
   "metadata": {},
   "source": [
    "#### <span style='color:Blue'>WEBSITES TO BE SCRAPED:\n",
    "\n",
    "https://www.theglobaleconomy.com/rankings/happiness/\n",
    "\n",
    "https://www.theglobaleconomy.com/rankings/Life_expectancy/\n",
    "\n",
    "https://www.theglobaleconomy.com/rankings/herit_corruption/\n",
    "\n",
    "https://www.theglobaleconomy.com/rankings/wb_political_stability/#India\n",
    "\n",
    "https://www.theglobaleconomy.com/rankings/kof_overall_glob/"
   ]
  },
  {
   "cell_type": "markdown",
   "metadata": {},
   "source": [
    "#### <span style='color:Blue'>Web Scraping using Beautiful Soup Tutorial:\n",
    "\n",
    "https://youtu.be/ng2o98k983k"
   ]
  },
  {
   "cell_type": "markdown",
   "metadata": {},
   "source": [
    "#### <span style='color:Blue'>Beautiful Soup user Guide\n",
    "\n",
    "https://www.tutorialspoint.com/beautiful_soup/beautiful_soup_quick_guide.htm"
   ]
  },
  {
   "cell_type": "markdown",
   "metadata": {},
   "source": [
    "#### Let's dig in"
   ]
  },
  {
   "cell_type": "markdown",
   "metadata": {},
   "source": [
    "####  <span style='color:Blue'>What is Request module in python\n",
    "\n",
    "<span style='background :#ffe6f0' >Python requests module has several built-in methods to make Http requests to specified URI using GET, POST, PUT, PATCH or HEAD requests. A Http request is meant to either retrieve data from a specified URI or to push data to a server. It works as a request-response protocol between a client and a server\n"
   ]
  },
  {
   "cell_type": "code",
   "execution_count": 507,
   "metadata": {},
   "outputs": [],
   "source": [
    "#first dataframe creation"
   ]
  },
  {
   "cell_type": "code",
   "execution_count": 168,
   "metadata": {},
   "outputs": [],
   "source": [
    "#importing the request package which we need to fetch data from websites.\n",
    "import requests\n",
    "#import beautiful soup package\n",
    "from bs4 import BeautifulSoup\n",
    "#define the url of the website you want to request data of\n",
    "#This is the first url\n",
    "url='https://www.theglobaleconomy.com/rankings/happiness/'"
   ]
  },
  {
   "cell_type": "code",
   "execution_count": 169,
   "metadata": {},
   "outputs": [
    {
     "name": "stdout",
     "output_type": "stream",
     "text": [
      "<Response [200]>\n"
     ]
    }
   ],
   "source": [
    "#Send a request to the previously defined url\n",
    "r=requests.get(url)\n",
    "print(r)\n",
    "#You get a response of 200, which means you get a valid response"
   ]
  },
  {
   "cell_type": "code",
   "execution_count": 170,
   "metadata": {},
   "outputs": [],
   "source": [
    "#import pandas as pd to create dataframe out of the scraped data\n",
    "import pandas as pd\n",
    "\n",
    "#Create a beautiful soup instance and feed the obtained response to parse out html\n",
    "soup=BeautifulSoup(r.text,'html.parser')\n"
   ]
  },
  {
   "cell_type": "markdown",
   "metadata": {},
   "source": [
    "<span style='background :#ffe6f0' >visit the previously defined website https://www.theglobaleconomy.com/rankings/happiness/ and see the visualized data, our goal is to extract the names of the countries and the happiness value denoted inside each bar in the graph.\n",
    "\n",
    "<span style='background :#ffe6f0' >To extract the data, inspect the website and determine the class under which these data is represented. The classes used in the code will make sense if you inspect and observe the website html."
   ]
  },
  {
   "cell_type": "code",
   "execution_count": 408,
   "metadata": {},
   "outputs": [],
   "source": [
    "#Define a list which will later contain the name of countries represented in the chart shown in the website.\n",
    "countries=[]\n",
    "#Soup is the beautiful soup instance we created earlier\n",
    "#soup.find_all will retrive all the html data from the website which belongs to the parameter passed in as the filtering metric\n",
    "#In this case it will retrive all div tags with class name 'outsideTitleElement'.\n",
    "#Now loop through this collected divs and further filter out the 'a' tags with class name 'graph_outside_link'\n",
    "#Now append the innertext of these a tags into the defined list\n",
    "for div in soup.find_all('div','outsideTitleElement'):\n",
    "    a=div.find('a','graph_outside_link',href=True,text=True)\n",
    "    if a:\n",
    "        countries.append([a.text])\n",
    "    \n",
    "    \n",
    "    "
   ]
  },
  {
   "cell_type": "code",
   "execution_count": 409,
   "metadata": {
    "collapsed": true
   },
   "outputs": [
    {
     "data": {
      "text/plain": [
       "[['Finland'],\n",
       " ['Denmark'],\n",
       " ['Switzerland'],\n",
       " ['Iceland'],\n",
       " ['Netherlands'],\n",
       " ['Norway'],\n",
       " ['Sweden'],\n",
       " ['Luxembourg'],\n",
       " ['New Zealand'],\n",
       " ['Austria'],\n",
       " ['Australia'],\n",
       " ['Germany'],\n",
       " ['Israel'],\n",
       " ['Canada'],\n",
       " ['Ireland'],\n",
       " ['Costa Rica'],\n",
       " ['UK'],\n",
       " ['Czechia'],\n",
       " ['USA'],\n",
       " ['Belgium'],\n",
       " ['France'],\n",
       " ['Bahrain'],\n",
       " ['Malta'],\n",
       " ['Taiwan'],\n",
       " ['UA Emirates'],\n",
       " ['Saudi Arabia'],\n",
       " ['Spain'],\n",
       " ['Italy'],\n",
       " ['Slovenia'],\n",
       " ['Guatemala'],\n",
       " ['Uruguay'],\n",
       " ['Singapore'],\n",
       " ['Brazil'],\n",
       " ['Slovakia'],\n",
       " ['Mexico'],\n",
       " ['Jamaica'],\n",
       " ['Lithuania'],\n",
       " ['Estonia'],\n",
       " ['Tr.&Tobago'],\n",
       " ['Panama'],\n",
       " ['Uzbekistan'],\n",
       " ['Chile'],\n",
       " ['Poland'],\n",
       " ['Kazakhstan'],\n",
       " ['Romania'],\n",
       " ['Kuwait'],\n",
       " ['Serbia'],\n",
       " ['El Salvador'],\n",
       " ['Mauritius'],\n",
       " ['Latvia'],\n",
       " ['Colombia'],\n",
       " ['Hungary'],\n",
       " ['Thailand'],\n",
       " ['Nicaragua'],\n",
       " ['Japan'],\n",
       " ['Argentina'],\n",
       " ['Portugal'],\n",
       " ['Honduras'],\n",
       " ['Croatia'],\n",
       " ['Cyprus'],\n",
       " ['Philippines'],\n",
       " ['South Korea'],\n",
       " ['Peru'],\n",
       " ['Bosnia & Herz.'],\n",
       " ['Moldova'],\n",
       " ['Ecuador'],\n",
       " ['Kyrgyzstan'],\n",
       " ['Bolivia'],\n",
       " ['Greece'],\n",
       " ['Mongolia'],\n",
       " ['Paraguay'],\n",
       " ['Montenegro'],\n",
       " ['Domin. Rep.'],\n",
       " ['Belarus'],\n",
       " ['Hong Kong'],\n",
       " ['Russia'],\n",
       " ['Tajikistan'],\n",
       " ['Libya'],\n",
       " ['Vietnam'],\n",
       " ['Malaysia'],\n",
       " ['Indonesia'],\n",
       " ['China'],\n",
       " ['DR Congo'],\n",
       " ['Ivory Coast'],\n",
       " ['Armenia'],\n",
       " ['Bulgaria'],\n",
       " ['Nepal'],\n",
       " ['Maldives'],\n",
       " ['R. of Congo'],\n",
       " ['Azerbaijan'],\n",
       " ['Cameroon'],\n",
       " ['Senegal'],\n",
       " ['Albania'],\n",
       " ['North Macedonia'],\n",
       " ['Ghana'],\n",
       " ['Niger'],\n",
       " ['Turkmenistan'],\n",
       " ['Benin'],\n",
       " ['Gambia'],\n",
       " ['Bangladesh'],\n",
       " ['Laos'],\n",
       " ['Guinea'],\n",
       " ['South Africa'],\n",
       " ['Turkey'],\n",
       " ['Pakistan'],\n",
       " ['Morocco'],\n",
       " ['Algeria'],\n",
       " ['Georgia'],\n",
       " ['Venezuela'],\n",
       " ['Ukraine'],\n",
       " ['Gabon'],\n",
       " ['Iraq'],\n",
       " ['Burkina Faso'],\n",
       " ['Cambodia'],\n",
       " ['Mozambique'],\n",
       " ['Nigeria'],\n",
       " ['Iran'],\n",
       " ['Mali'],\n",
       " ['Uganda'],\n",
       " ['Liberia'],\n",
       " ['Kenya'],\n",
       " ['Tunisia'],\n",
       " ['Lebanon'],\n",
       " ['Namibia'],\n",
       " ['Palestine'],\n",
       " ['Burma'],\n",
       " ['Jordan'],\n",
       " ['Chad'],\n",
       " ['Sri Lanka'],\n",
       " ['Swaziland'],\n",
       " ['Comoros'],\n",
       " ['Egypt'],\n",
       " ['Ethiopia'],\n",
       " ['Mauritania'],\n",
       " ['Madagascar'],\n",
       " ['Togo'],\n",
       " ['Zambia'],\n",
       " ['Sierra Leone'],\n",
       " ['India'],\n",
       " ['Burundi'],\n",
       " ['Yemen'],\n",
       " ['Haiti'],\n",
       " ['Tanzania'],\n",
       " ['Malawi'],\n",
       " ['Lesotho'],\n",
       " ['C.A. Republic'],\n",
       " ['Botswana'],\n",
       " ['Rwanda'],\n",
       " ['Zimbabwe'],\n",
       " ['Afghanistan']]"
      ]
     },
     "execution_count": 409,
     "metadata": {},
     "output_type": "execute_result"
    }
   ],
   "source": [
    "#View the list\n",
    "countries\n"
   ]
  },
  {
   "cell_type": "code",
   "execution_count": 410,
   "metadata": {},
   "outputs": [],
   "source": [
    "#Create a dataframe with the data obtained\n",
    "df = pd.DataFrame(countries, columns = ['Country'])"
   ]
  },
  {
   "cell_type": "code",
   "execution_count": 258,
   "metadata": {
    "collapsed": true
   },
   "outputs": [
    {
     "data": {
      "text/html": [
       "<div>\n",
       "<style scoped>\n",
       "    .dataframe tbody tr th:only-of-type {\n",
       "        vertical-align: middle;\n",
       "    }\n",
       "\n",
       "    .dataframe tbody tr th {\n",
       "        vertical-align: top;\n",
       "    }\n",
       "\n",
       "    .dataframe thead th {\n",
       "        text-align: right;\n",
       "    }\n",
       "</style>\n",
       "<table border=\"1\" class=\"dataframe\">\n",
       "  <thead>\n",
       "    <tr style=\"text-align: right;\">\n",
       "      <th></th>\n",
       "      <th>Country</th>\n",
       "    </tr>\n",
       "  </thead>\n",
       "  <tbody>\n",
       "    <tr>\n",
       "      <th>0</th>\n",
       "      <td>Finland</td>\n",
       "    </tr>\n",
       "    <tr>\n",
       "      <th>1</th>\n",
       "      <td>Denmark</td>\n",
       "    </tr>\n",
       "    <tr>\n",
       "      <th>2</th>\n",
       "      <td>Switzerland</td>\n",
       "    </tr>\n",
       "    <tr>\n",
       "      <th>3</th>\n",
       "      <td>Iceland</td>\n",
       "    </tr>\n",
       "    <tr>\n",
       "      <th>4</th>\n",
       "      <td>Netherlands</td>\n",
       "    </tr>\n",
       "    <tr>\n",
       "      <th>...</th>\n",
       "      <td>...</td>\n",
       "    </tr>\n",
       "    <tr>\n",
       "      <th>145</th>\n",
       "      <td>C.A. Republic</td>\n",
       "    </tr>\n",
       "    <tr>\n",
       "      <th>146</th>\n",
       "      <td>Botswana</td>\n",
       "    </tr>\n",
       "    <tr>\n",
       "      <th>147</th>\n",
       "      <td>Rwanda</td>\n",
       "    </tr>\n",
       "    <tr>\n",
       "      <th>148</th>\n",
       "      <td>Zimbabwe</td>\n",
       "    </tr>\n",
       "    <tr>\n",
       "      <th>149</th>\n",
       "      <td>Afghanistan</td>\n",
       "    </tr>\n",
       "  </tbody>\n",
       "</table>\n",
       "<p>150 rows × 1 columns</p>\n",
       "</div>"
      ],
      "text/plain": [
       "           Country\n",
       "0          Finland\n",
       "1          Denmark\n",
       "2      Switzerland\n",
       "3          Iceland\n",
       "4      Netherlands\n",
       "..             ...\n",
       "145  C.A. Republic\n",
       "146       Botswana\n",
       "147         Rwanda\n",
       "148       Zimbabwe\n",
       "149    Afghanistan\n",
       "\n",
       "[150 rows x 1 columns]"
      ]
     },
     "execution_count": 258,
     "metadata": {},
     "output_type": "execute_result"
    }
   ],
   "source": [
    "#View the dataframe\n",
    "df"
   ]
  },
  {
   "cell_type": "code",
   "execution_count": 411,
   "metadata": {},
   "outputs": [],
   "source": [
    "#Create a new list which will later hold the happiness index scores\n",
    "l=[]\n",
    "#Find all the div tags belonging under the class name fl\n",
    "#The value[6] will make sense if you observe the content under the div with class name 'fl'\n",
    "#The 6th one is what we need\n",
    "#now loop through these div tags abd find all the div tags within it and start from the third value as the first two are not required\n",
    "#We filter in steps of 2 because if not we will get repeating values\n",
    "#Now append the inner text of the happiness values after stripping them of all white space into the pre difined list.\n",
    "happiness_values=soup.find_all('div','fl')[6]\n",
    "for y in happiness_values.find_all('div')[3::2]:\n",
    "    l.append([y.text.strip()])\n",
    "    "
   ]
  },
  {
   "cell_type": "code",
   "execution_count": 412,
   "metadata": {},
   "outputs": [],
   "source": [
    "#This slicing is required because if this slicing is not done then the x values of the plotted graph in the website will also be included.\n",
    "l=l[:150] "
   ]
  },
  {
   "cell_type": "code",
   "execution_count": 261,
   "metadata": {},
   "outputs": [],
   "source": [
    "#Create a data frame out of this values as well\n",
    "df1 = pd.DataFrame(l, columns = ['Happiness_value'])"
   ]
  },
  {
   "cell_type": "code",
   "execution_count": 262,
   "metadata": {
    "collapsed": true
   },
   "outputs": [
    {
     "data": {
      "text/html": [
       "<div>\n",
       "<style scoped>\n",
       "    .dataframe tbody tr th:only-of-type {\n",
       "        vertical-align: middle;\n",
       "    }\n",
       "\n",
       "    .dataframe tbody tr th {\n",
       "        vertical-align: top;\n",
       "    }\n",
       "\n",
       "    .dataframe thead th {\n",
       "        text-align: right;\n",
       "    }\n",
       "</style>\n",
       "<table border=\"1\" class=\"dataframe\">\n",
       "  <thead>\n",
       "    <tr style=\"text-align: right;\">\n",
       "      <th></th>\n",
       "      <th>Happiness_value</th>\n",
       "    </tr>\n",
       "  </thead>\n",
       "  <tbody>\n",
       "    <tr>\n",
       "      <th>0</th>\n",
       "      <td>7.84</td>\n",
       "    </tr>\n",
       "    <tr>\n",
       "      <th>1</th>\n",
       "      <td>7.62</td>\n",
       "    </tr>\n",
       "    <tr>\n",
       "      <th>2</th>\n",
       "      <td>7.57</td>\n",
       "    </tr>\n",
       "    <tr>\n",
       "      <th>3</th>\n",
       "      <td>7.55</td>\n",
       "    </tr>\n",
       "    <tr>\n",
       "      <th>4</th>\n",
       "      <td>7.46</td>\n",
       "    </tr>\n",
       "    <tr>\n",
       "      <th>...</th>\n",
       "      <td>...</td>\n",
       "    </tr>\n",
       "    <tr>\n",
       "      <th>145</th>\n",
       "      <td>3.48</td>\n",
       "    </tr>\n",
       "    <tr>\n",
       "      <th>146</th>\n",
       "      <td>3.47</td>\n",
       "    </tr>\n",
       "    <tr>\n",
       "      <th>147</th>\n",
       "      <td>3.42</td>\n",
       "    </tr>\n",
       "    <tr>\n",
       "      <th>148</th>\n",
       "      <td>3.15</td>\n",
       "    </tr>\n",
       "    <tr>\n",
       "      <th>149</th>\n",
       "      <td>2.52</td>\n",
       "    </tr>\n",
       "  </tbody>\n",
       "</table>\n",
       "<p>150 rows × 1 columns</p>\n",
       "</div>"
      ],
      "text/plain": [
       "    Happiness_value\n",
       "0              7.84\n",
       "1              7.62\n",
       "2              7.57\n",
       "3              7.55\n",
       "4              7.46\n",
       "..              ...\n",
       "145            3.48\n",
       "146            3.47\n",
       "147            3.42\n",
       "148            3.15\n",
       "149            2.52\n",
       "\n",
       "[150 rows x 1 columns]"
      ]
     },
     "execution_count": 262,
     "metadata": {},
     "output_type": "execute_result"
    }
   ],
   "source": [
    "df1"
   ]
  },
  {
   "cell_type": "code",
   "execution_count": 263,
   "metadata": {},
   "outputs": [],
   "source": [
    "df2=df.copy()\n",
    "#add a new column to the previous dataframe by converting the string values of the new data frame into float numbers\n",
    "df2[\"Happiness_value\"] = [float(str(i)) for i in df1[\"Happiness_value\"]]"
   ]
  },
  {
   "cell_type": "code",
   "execution_count": 266,
   "metadata": {},
   "outputs": [
    {
     "data": {
      "text/html": [
       "<div>\n",
       "<style scoped>\n",
       "    .dataframe tbody tr th:only-of-type {\n",
       "        vertical-align: middle;\n",
       "    }\n",
       "\n",
       "    .dataframe tbody tr th {\n",
       "        vertical-align: top;\n",
       "    }\n",
       "\n",
       "    .dataframe thead th {\n",
       "        text-align: right;\n",
       "    }\n",
       "</style>\n",
       "<table border=\"1\" class=\"dataframe\">\n",
       "  <thead>\n",
       "    <tr style=\"text-align: right;\">\n",
       "      <th></th>\n",
       "      <th>Country</th>\n",
       "      <th>Happiness_value</th>\n",
       "    </tr>\n",
       "  </thead>\n",
       "  <tbody>\n",
       "    <tr>\n",
       "      <th>0</th>\n",
       "      <td>Finland</td>\n",
       "      <td>7.84</td>\n",
       "    </tr>\n",
       "    <tr>\n",
       "      <th>1</th>\n",
       "      <td>Denmark</td>\n",
       "      <td>7.62</td>\n",
       "    </tr>\n",
       "    <tr>\n",
       "      <th>2</th>\n",
       "      <td>Switzerland</td>\n",
       "      <td>7.57</td>\n",
       "    </tr>\n",
       "    <tr>\n",
       "      <th>3</th>\n",
       "      <td>Iceland</td>\n",
       "      <td>7.55</td>\n",
       "    </tr>\n",
       "    <tr>\n",
       "      <th>4</th>\n",
       "      <td>Netherlands</td>\n",
       "      <td>7.46</td>\n",
       "    </tr>\n",
       "  </tbody>\n",
       "</table>\n",
       "</div>"
      ],
      "text/plain": [
       "       Country  Happiness_value\n",
       "0      Finland             7.84\n",
       "1      Denmark             7.62\n",
       "2  Switzerland             7.57\n",
       "3      Iceland             7.55\n",
       "4  Netherlands             7.46"
      ]
     },
     "execution_count": 266,
     "metadata": {},
     "output_type": "execute_result"
    }
   ],
   "source": [
    "#view the dataset\n",
    "df2.head()"
   ]
  },
  {
   "cell_type": "code",
   "execution_count": 508,
   "metadata": {},
   "outputs": [],
   "source": [
    "#Creating the second dataframe"
   ]
  },
  {
   "cell_type": "code",
   "execution_count": 326,
   "metadata": {},
   "outputs": [
    {
     "name": "stdout",
     "output_type": "stream",
     "text": [
      "<Response [200]>\n"
     ]
    }
   ],
   "source": [
    "#Second site\n",
    "url2='https://www.theglobaleconomy.com/rankings/Life_expectancy/'\n",
    "req=requests.get(url2)\n",
    "print(req)\n"
   ]
  },
  {
   "cell_type": "code",
   "execution_count": 327,
   "metadata": {},
   "outputs": [],
   "source": [
    "soup3=BeautifulSoup(req.text,'html.parser')"
   ]
  },
  {
   "cell_type": "markdown",
   "metadata": {},
   "source": [
    "####  <span style='background :#ffe6f0' >The procedure to extract data from all the other sites that follows are the same, please inspect the html contents of each defined website properly to understand the use of selectors and the classes used to extract the required data."
   ]
  },
  {
   "cell_type": "code",
   "execution_count": 328,
   "metadata": {},
   "outputs": [],
   "source": [
    "countries1=[]\n",
    "for div in soup3.find_all('div','outsideTitleElement'):\n",
    "    b=div.find('a','graph_outside_link',href=True,text=True)\n",
    "    if b:\n",
    "        countries1.append([b.text])"
   ]
  },
  {
   "cell_type": "code",
   "execution_count": 341,
   "metadata": {},
   "outputs": [],
   "source": [
    "life_exp=[]\n",
    "exp_values=soup3.find_all('div','fl')[6]\n",
    "for z in exp_values.find_all('div')[3::2]:\n",
    "    life_exp.append([z.text.strip()])"
   ]
  },
  {
   "cell_type": "code",
   "execution_count": 344,
   "metadata": {},
   "outputs": [],
   "source": [
    "life_exp=life_exp[:190]\n"
   ]
  },
  {
   "cell_type": "code",
   "execution_count": 347,
   "metadata": {
    "collapsed": true
   },
   "outputs": [
    {
     "data": {
      "text/plain": [
       "[['85.08'],\n",
       " ['84.36'],\n",
       " ['84.24'],\n",
       " ['83.70'],\n",
       " ['83.50'],\n",
       " ['83.49'],\n",
       " ['83.23'],\n",
       " ['83.20'],\n",
       " ['83.04'],\n",
       " ['82.96'],\n",
       " ['82.91'],\n",
       " ['82.90'],\n",
       " ['82.80'],\n",
       " ['82.75'],\n",
       " ['82.60'],\n",
       " ['82.58'],\n",
       " ['82.56'],\n",
       " ['82.45'],\n",
       " ['82.30'],\n",
       " ['82.05'],\n",
       " ['82.04'],\n",
       " ['82.01'],\n",
       " ['81.94'],\n",
       " ['81.87'],\n",
       " ['81.79'],\n",
       " ['81.79'],\n",
       " ['81.75'],\n",
       " ['81.71'],\n",
       " ['81.28'],\n",
       " ['81.20'],\n",
       " ['81.20'],\n",
       " ['80.98'],\n",
       " ['80.94'],\n",
       " ['80.68'],\n",
       " ['80.28'],\n",
       " ['80.23'],\n",
       " ['80.18'],\n",
       " ['79.93'],\n",
       " ['79.19'],\n",
       " ['79.13'],\n",
       " ['78.93'],\n",
       " ['78.92'],\n",
       " ['78.79'],\n",
       " ['78.57'],\n",
       " ['78.51'],\n",
       " ['78.50'],\n",
       " ['78.42'],\n",
       " ['77.97'],\n",
       " ['77.91'],\n",
       " ['77.86'],\n",
       " ['77.86'],\n",
       " ['77.69'],\n",
       " ['77.63'],\n",
       " ['77.47'],\n",
       " ['77.40'],\n",
       " ['77.29'],\n",
       " ['77.29'],\n",
       " ['77.15'],\n",
       " ['77.02'],\n",
       " ['77.01'],\n",
       " ['76.98'],\n",
       " ['76.91'],\n",
       " ['76.88'],\n",
       " ['76.88'],\n",
       " ['76.74'],\n",
       " ['76.70'],\n",
       " ['76.68'],\n",
       " ['76.68'],\n",
       " ['76.67'],\n",
       " ['76.29'],\n",
       " ['76.20'],\n",
       " ['76.16'],\n",
       " ['76.13'],\n",
       " ['76.02'],\n",
       " ['75.88'],\n",
       " ['75.86'],\n",
       " ['75.80'],\n",
       " ['75.69'],\n",
       " ['75.49'],\n",
       " ['75.46'],\n",
       " ['75.40'],\n",
       " ['75.27'],\n",
       " ['75.24'],\n",
       " ['75.13'],\n",
       " ['75.09'],\n",
       " ['75.05'],\n",
       " ['74.91'],\n",
       " ['74.62'],\n",
       " ['74.53'],\n",
       " ['74.49'],\n",
       " ['74.47'],\n",
       " ['74.30'],\n",
       " ['74.25'],\n",
       " ['74.24'],\n",
       " ['74.23'],\n",
       " ['74.08'],\n",
       " ['74.05'],\n",
       " ['73.94'],\n",
       " ['73.92'],\n",
       " ['73.77'],\n",
       " ['73.51'],\n",
       " ['73.32'],\n",
       " ['73.32'],\n",
       " ['73.18'],\n",
       " ['73.08'],\n",
       " ['73.00'],\n",
       " ['73.00'],\n",
       " ['72.98'],\n",
       " ['72.91'],\n",
       " ['72.70'],\n",
       " ['72.59'],\n",
       " ['72.53'],\n",
       " ['72.40'],\n",
       " ['72.27'],\n",
       " ['72.06'],\n",
       " ['71.99'],\n",
       " ['71.90'],\n",
       " ['71.83'],\n",
       " ['71.78'],\n",
       " ['71.72'],\n",
       " ['71.72'],\n",
       " ['71.68'],\n",
       " ['71.60'],\n",
       " ['71.51'],\n",
       " ['71.23'],\n",
       " ['71.10'],\n",
       " ['70.91'],\n",
       " ['70.78'],\n",
       " ['70.60'],\n",
       " ['70.47'],\n",
       " ['70.39'],\n",
       " ['69.91'],\n",
       " ['69.87'],\n",
       " ['69.82'],\n",
       " ['69.66'],\n",
       " ['69.59'],\n",
       " ['69.02'],\n",
       " ['68.37'],\n",
       " ['68.19'],\n",
       " ['67.94'],\n",
       " ['67.92'],\n",
       " ['67.88'],\n",
       " ['67.44'],\n",
       " ['67.27'],\n",
       " ['67.13'],\n",
       " ['67.11'],\n",
       " ['67.04'],\n",
       " ['66.70'],\n",
       " ['66.60'],\n",
       " ['66.47'],\n",
       " ['66.32'],\n",
       " ['66.13'],\n",
       " ['65.46'],\n",
       " ['65.31'],\n",
       " ['64.93'],\n",
       " ['64.83'],\n",
       " ['64.57'],\n",
       " ['64.50'],\n",
       " ['64.32'],\n",
       " ['64.26'],\n",
       " ['64.13'],\n",
       " ['64.10'],\n",
       " ['64.07'],\n",
       " ['64.00'],\n",
       " ['63.89'],\n",
       " ['63.71'],\n",
       " ['63.37'],\n",
       " ['62.42'],\n",
       " ['62.05'],\n",
       " ['61.77'],\n",
       " ['61.60'],\n",
       " ['61.58'],\n",
       " ['61.58'],\n",
       " ['61.49'],\n",
       " ['61.15'],\n",
       " ['61.04'],\n",
       " ['60.85'],\n",
       " ['60.68'],\n",
       " ['60.19'],\n",
       " ['59.31'],\n",
       " ['59.29'],\n",
       " ['58.74'],\n",
       " ['58.32'],\n",
       " ['57.78'],\n",
       " ['57.40'],\n",
       " ['54.70'],\n",
       " ['54.69'],\n",
       " ['54.33'],\n",
       " ['54.24'],\n",
       " ['53.28']]"
      ]
     },
     "execution_count": 347,
     "metadata": {},
     "output_type": "execute_result"
    }
   ],
   "source": [
    "life_exp"
   ]
  },
  {
   "cell_type": "code",
   "execution_count": 356,
   "metadata": {},
   "outputs": [
    {
     "data": {
      "text/html": [
       "<div>\n",
       "<style scoped>\n",
       "    .dataframe tbody tr th:only-of-type {\n",
       "        vertical-align: middle;\n",
       "    }\n",
       "\n",
       "    .dataframe tbody tr th {\n",
       "        vertical-align: top;\n",
       "    }\n",
       "\n",
       "    .dataframe thead th {\n",
       "        text-align: right;\n",
       "    }\n",
       "</style>\n",
       "<table border=\"1\" class=\"dataframe\">\n",
       "  <thead>\n",
       "    <tr style=\"text-align: right;\">\n",
       "      <th></th>\n",
       "      <th>Country</th>\n",
       "      <th>Life_Expectancy</th>\n",
       "    </tr>\n",
       "  </thead>\n",
       "  <tbody>\n",
       "    <tr>\n",
       "      <th>0</th>\n",
       "      <td>Hong Kong</td>\n",
       "      <td>85.08</td>\n",
       "    </tr>\n",
       "    <tr>\n",
       "      <th>1</th>\n",
       "      <td>Japan</td>\n",
       "      <td>84.36</td>\n",
       "    </tr>\n",
       "    <tr>\n",
       "      <th>2</th>\n",
       "      <td>Macao</td>\n",
       "      <td>84.24</td>\n",
       "    </tr>\n",
       "    <tr>\n",
       "      <th>3</th>\n",
       "      <td>Switzerland</td>\n",
       "      <td>83.70</td>\n",
       "    </tr>\n",
       "    <tr>\n",
       "      <th>4</th>\n",
       "      <td>Singapore</td>\n",
       "      <td>83.50</td>\n",
       "    </tr>\n",
       "  </tbody>\n",
       "</table>\n",
       "</div>"
      ],
      "text/plain": [
       "       Country  Life_Expectancy\n",
       "0    Hong Kong            85.08\n",
       "1        Japan            84.36\n",
       "2        Macao            84.24\n",
       "3  Switzerland            83.70\n",
       "4    Singapore            83.50"
      ]
     },
     "execution_count": 356,
     "metadata": {},
     "output_type": "execute_result"
    }
   ],
   "source": [
    "df3 = pd.DataFrame(countries1, columns = ['Country'])\n",
    "df4=pd.DataFrame(life_exp, columns = ['Life_Expectancy'])\n",
    "df3['Life_Expectancy']=[float(str(i)) for i in df4[\"Life_Expectancy\"]]\n",
    "df3.head()\n"
   ]
  },
  {
   "cell_type": "code",
   "execution_count": 509,
   "metadata": {},
   "outputs": [],
   "source": [
    "#Creating the third dataframe"
   ]
  },
  {
   "cell_type": "code",
   "execution_count": 361,
   "metadata": {},
   "outputs": [
    {
     "name": "stdout",
     "output_type": "stream",
     "text": [
      "<Response [200]>\n"
     ]
    }
   ],
   "source": [
    "url4='https://www.theglobaleconomy.com/rankings/herit_corruption/'\n",
    "requ=requests.get(url4)\n",
    "print(requ)\n",
    "soup4=BeautifulSoup(requ.text,'html.parser')"
   ]
  },
  {
   "cell_type": "code",
   "execution_count": 362,
   "metadata": {},
   "outputs": [],
   "source": [
    "countries2=[]\n",
    "for div in soup4.find_all('div','outsideTitleElement'):\n",
    "    c=div.find('a','graph_outside_link',href=True,text=True)\n",
    "    if c:\n",
    "        countries2.append([c.text])"
   ]
  },
  {
   "cell_type": "code",
   "execution_count": 382,
   "metadata": {},
   "outputs": [],
   "source": [
    "Freedom_corruption=[]\n",
    "Freedom_corruption_values=soup4.find_all('div','fl')[6]\n",
    "for q in Freedom_corruption_values.find_all('div')[3::2]:\n",
    "    Freedom_corruption.append([q.text.strip()])"
   ]
  },
  {
   "cell_type": "code",
   "execution_count": 383,
   "metadata": {},
   "outputs": [],
   "source": [
    "Freedom_corruption=Freedom_corruption[:181]\n"
   ]
  },
  {
   "cell_type": "code",
   "execution_count": 387,
   "metadata": {
    "collapsed": true
   },
   "outputs": [
    {
     "data": {
      "text/html": [
       "<div>\n",
       "<style scoped>\n",
       "    .dataframe tbody tr th:only-of-type {\n",
       "        vertical-align: middle;\n",
       "    }\n",
       "\n",
       "    .dataframe tbody tr th {\n",
       "        vertical-align: top;\n",
       "    }\n",
       "\n",
       "    .dataframe thead th {\n",
       "        text-align: right;\n",
       "    }\n",
       "</style>\n",
       "<table border=\"1\" class=\"dataframe\">\n",
       "  <thead>\n",
       "    <tr style=\"text-align: right;\">\n",
       "      <th></th>\n",
       "      <th>Country</th>\n",
       "      <th>Free_From_Corruption</th>\n",
       "    </tr>\n",
       "  </thead>\n",
       "  <tbody>\n",
       "    <tr>\n",
       "      <th>0</th>\n",
       "      <td>Finland</td>\n",
       "      <td>97.0</td>\n",
       "    </tr>\n",
       "    <tr>\n",
       "      <th>1</th>\n",
       "      <td>Norway</td>\n",
       "      <td>96.0</td>\n",
       "    </tr>\n",
       "    <tr>\n",
       "      <th>2</th>\n",
       "      <td>New Zealand</td>\n",
       "      <td>95.0</td>\n",
       "    </tr>\n",
       "    <tr>\n",
       "      <th>3</th>\n",
       "      <td>Denmark</td>\n",
       "      <td>93.0</td>\n",
       "    </tr>\n",
       "    <tr>\n",
       "      <th>4</th>\n",
       "      <td>Luxembourg</td>\n",
       "      <td>93.0</td>\n",
       "    </tr>\n",
       "    <tr>\n",
       "      <th>...</th>\n",
       "      <td>...</td>\n",
       "      <td>...</td>\n",
       "    </tr>\n",
       "    <tr>\n",
       "      <th>176</th>\n",
       "      <td>Eq. Guinea</td>\n",
       "      <td>17.0</td>\n",
       "    </tr>\n",
       "    <tr>\n",
       "      <th>177</th>\n",
       "      <td>Yemen</td>\n",
       "      <td>17.0</td>\n",
       "    </tr>\n",
       "    <tr>\n",
       "      <th>178</th>\n",
       "      <td>Venezuela</td>\n",
       "      <td>15.0</td>\n",
       "    </tr>\n",
       "    <tr>\n",
       "      <th>179</th>\n",
       "      <td>DR Congo</td>\n",
       "      <td>12.0</td>\n",
       "    </tr>\n",
       "    <tr>\n",
       "      <th>180</th>\n",
       "      <td>Somalia</td>\n",
       "      <td>12.0</td>\n",
       "    </tr>\n",
       "  </tbody>\n",
       "</table>\n",
       "<p>181 rows × 2 columns</p>\n",
       "</div>"
      ],
      "text/plain": [
       "         Country  Free_From_Corruption\n",
       "0        Finland                  97.0\n",
       "1         Norway                  96.0\n",
       "2    New Zealand                  95.0\n",
       "3        Denmark                  93.0\n",
       "4     Luxembourg                  93.0\n",
       "..           ...                   ...\n",
       "176   Eq. Guinea                  17.0\n",
       "177        Yemen                  17.0\n",
       "178    Venezuela                  15.0\n",
       "179     DR Congo                  12.0\n",
       "180      Somalia                  12.0\n",
       "\n",
       "[181 rows x 2 columns]"
      ]
     },
     "execution_count": 387,
     "metadata": {},
     "output_type": "execute_result"
    }
   ],
   "source": [
    "df5 = pd.DataFrame(countries2, columns = ['Country'])\n",
    "df6=pd.DataFrame(Freedom_corruption, columns = ['Free_From_Corruption'])\n",
    "df5['Free_From_Corruption']=[float(str(i)) for i in df6[\"Free_From_Corruption\"]]\n",
    "df5\n"
   ]
  },
  {
   "cell_type": "code",
   "execution_count": 510,
   "metadata": {},
   "outputs": [],
   "source": [
    "#Creating the fourth dataframe"
   ]
  },
  {
   "cell_type": "code",
   "execution_count": 389,
   "metadata": {},
   "outputs": [
    {
     "name": "stdout",
     "output_type": "stream",
     "text": [
      "<Response [200]>\n"
     ]
    }
   ],
   "source": [
    "url5='https://www.theglobaleconomy.com/rankings/wb_political_stability/#India'\n",
    "reque=requests.get(url5)\n",
    "print(reque)\n",
    "soup5=BeautifulSoup(reque.text,'html.parser')"
   ]
  },
  {
   "cell_type": "code",
   "execution_count": 390,
   "metadata": {},
   "outputs": [],
   "source": [
    "countries3=[]\n",
    "for div in soup5.find_all('div','outsideTitleElement'):\n",
    "    d=div.find('a','graph_outside_link',href=True,text=True)\n",
    "    if d:\n",
    "        countries3.append([d.text])"
   ]
  },
  {
   "cell_type": "code",
   "execution_count": 393,
   "metadata": {},
   "outputs": [],
   "source": [
    "political_stability=[]\n",
    "political_stability_values=soup5.find_all('div','fl')[6]\n",
    "for s in political_stability_values.find_all('div')[3::2]:\n",
    "    political_stability.append([s.text.strip()])"
   ]
  },
  {
   "cell_type": "code",
   "execution_count": 395,
   "metadata": {
    "collapsed": true
   },
   "outputs": [
    {
     "data": {
      "text/plain": [
       "[['1.66'],\n",
       " ['1.63'],\n",
       " ['1.62'],\n",
       " ['1.59'],\n",
       " ['1.53'],\n",
       " ['1.51'],\n",
       " ['1.36'],\n",
       " ['1.36'],\n",
       " ['1.34'],\n",
       " ['1.25'],\n",
       " ['1.20'],\n",
       " ['1.20'],\n",
       " ['1.19'],\n",
       " ['1.17'],\n",
       " ['1.13'],\n",
       " ['1.12'],\n",
       " ['1.12'],\n",
       " ['1.09'],\n",
       " ['1.09'],\n",
       " ['1.09'],\n",
       " ['1.08'],\n",
       " ['1.07'],\n",
       " ['1.05'],\n",
       " ['1.05'],\n",
       " ['1.04'],\n",
       " ['1.03'],\n",
       " ['1.03'],\n",
       " ['1.01'],\n",
       " ['1.01'],\n",
       " ['1.00'],\n",
       " ['0.98'],\n",
       " ['0.97'],\n",
       " ['0.96'],\n",
       " ['0.96'],\n",
       " ['0.96'],\n",
       " ['0.95'],\n",
       " ['0.94'],\n",
       " ['0.93'],\n",
       " ['0.91'],\n",
       " ['0.90'],\n",
       " ['0.88'],\n",
       " ['0.87'],\n",
       " ['0.86'],\n",
       " ['0.86'],\n",
       " ['0.84'],\n",
       " ['0.83'],\n",
       " ['0.82'],\n",
       " ['0.82'],\n",
       " ['0.78'],\n",
       " ['0.76'],\n",
       " ['0.73'],\n",
       " ['0.72'],\n",
       " ['0.70'],\n",
       " ['0.70'],\n",
       " ['0.69'],\n",
       " ['0.64'],\n",
       " ['0.64'],\n",
       " ['0.59'],\n",
       " ['0.58'],\n",
       " ['0.54'],\n",
       " ['0.53'],\n",
       " ['0.53'],\n",
       " ['0.53'],\n",
       " ['0.52'],\n",
       " ['0.52'],\n",
       " ['0.52'],\n",
       " ['0.52'],\n",
       " ['0.50'],\n",
       " ['0.48'],\n",
       " ['0.48'],\n",
       " ['0.46'],\n",
       " ['0.46'],\n",
       " ['0.45'],\n",
       " ['0.41'],\n",
       " ['0.32'],\n",
       " ['0.31'],\n",
       " ['0.31'],\n",
       " ['0.30'],\n",
       " ['0.29'],\n",
       " ['0.29'],\n",
       " ['0.21'],\n",
       " ['0.20'],\n",
       " ['0.13'],\n",
       " ['0.12'],\n",
       " ['0.12'],\n",
       " ['0.12'],\n",
       " ['0.11'],\n",
       " ['0.11'],\n",
       " ['0.11'],\n",
       " ['0.10'],\n",
       " ['0.07'],\n",
       " ['0.06'],\n",
       " ['0.06'],\n",
       " ['0.02'],\n",
       " ['0.01'],\n",
       " ['0.01'],\n",
       " ['0.00'],\n",
       " ['-0.05'],\n",
       " ['-0.08'],\n",
       " ['-0.08'],\n",
       " ['-0.09'],\n",
       " ['-0.09'],\n",
       " ['-0.10'],\n",
       " ['-0.10'],\n",
       " ['-0.12'],\n",
       " ['-0.13'],\n",
       " ['-0.14'],\n",
       " ['-0.15'],\n",
       " ['-0.18'],\n",
       " ['-0.19'],\n",
       " ['-0.19'],\n",
       " ['-0.22'],\n",
       " ['-0.23'],\n",
       " ['-0.23'],\n",
       " ['-0.24'],\n",
       " ['-0.24'],\n",
       " ['-0.25'],\n",
       " ['-0.27'],\n",
       " ['-0.27'],\n",
       " ['-0.27'],\n",
       " ['-0.30'],\n",
       " ['-0.31'],\n",
       " ['-0.34'],\n",
       " ['-0.35'],\n",
       " ['-0.35'],\n",
       " ['-0.36'],\n",
       " ['-0.36'],\n",
       " ['-0.37'],\n",
       " ['-0.38'],\n",
       " ['-0.38'],\n",
       " ['-0.40'],\n",
       " ['-0.41'],\n",
       " ['-0.43'],\n",
       " ['-0.45'],\n",
       " ['-0.47'],\n",
       " ['-0.48'],\n",
       " ['-0.51'],\n",
       " ['-0.53'],\n",
       " ['-0.54'],\n",
       " ['-0.54'],\n",
       " ['-0.54'],\n",
       " ['-0.55'],\n",
       " ['-0.55'],\n",
       " ['-0.56'],\n",
       " ['-0.58'],\n",
       " ['-0.62'],\n",
       " ['-0.65'],\n",
       " ['-0.66'],\n",
       " ['-0.68'],\n",
       " ['-0.70'],\n",
       " ['-0.71'],\n",
       " ['-0.72'],\n",
       " ['-0.75'],\n",
       " ['-0.78'],\n",
       " ['-0.78'],\n",
       " ['-0.81'],\n",
       " ['-0.83'],\n",
       " ['-0.83'],\n",
       " ['-0.83'],\n",
       " ['-0.88'],\n",
       " ['-0.89'],\n",
       " ['-0.90'],\n",
       " ['-0.92'],\n",
       " ['-0.92'],\n",
       " ['-0.96'],\n",
       " ['-1.00'],\n",
       " ['-1.03'],\n",
       " ['-1.07'],\n",
       " ['-1.12'],\n",
       " ['-1.19'],\n",
       " ['-1.26'],\n",
       " ['-1.28'],\n",
       " ['-1.34'],\n",
       " ['-1.34'],\n",
       " ['-1.40'],\n",
       " ['-1.45'],\n",
       " ['-1.52'],\n",
       " ['-1.56'],\n",
       " ['-1.64'],\n",
       " ['-1.65'],\n",
       " ['-1.67'],\n",
       " ['-1.70'],\n",
       " ['-1.81'],\n",
       " ['-1.93'],\n",
       " ['-1.94'],\n",
       " ['-2.15'],\n",
       " ['-2.18'],\n",
       " ['-2.25'],\n",
       " ['-2.38'],\n",
       " ['-2.56'],\n",
       " ['-2.57'],\n",
       " ['-2.65'],\n",
       " ['-2.73'],\n",
       " ['-2.77']]"
      ]
     },
     "execution_count": 395,
     "metadata": {},
     "output_type": "execute_result"
    }
   ],
   "source": [
    "political_stability=political_stability[:194]\n",
    "political_stability"
   ]
  },
  {
   "cell_type": "code",
   "execution_count": 397,
   "metadata": {
    "collapsed": true
   },
   "outputs": [
    {
     "data": {
      "text/html": [
       "<div>\n",
       "<style scoped>\n",
       "    .dataframe tbody tr th:only-of-type {\n",
       "        vertical-align: middle;\n",
       "    }\n",
       "\n",
       "    .dataframe tbody tr th {\n",
       "        vertical-align: top;\n",
       "    }\n",
       "\n",
       "    .dataframe thead th {\n",
       "        text-align: right;\n",
       "    }\n",
       "</style>\n",
       "<table border=\"1\" class=\"dataframe\">\n",
       "  <thead>\n",
       "    <tr style=\"text-align: right;\">\n",
       "      <th></th>\n",
       "      <th>Country</th>\n",
       "      <th>political_stability</th>\n",
       "    </tr>\n",
       "  </thead>\n",
       "  <tbody>\n",
       "    <tr>\n",
       "      <th>0</th>\n",
       "      <td>Iceland</td>\n",
       "      <td>1.66</td>\n",
       "    </tr>\n",
       "    <tr>\n",
       "      <th>1</th>\n",
       "      <td>Liechtenstein</td>\n",
       "      <td>1.63</td>\n",
       "    </tr>\n",
       "    <tr>\n",
       "      <th>2</th>\n",
       "      <td>Andorra</td>\n",
       "      <td>1.62</td>\n",
       "    </tr>\n",
       "    <tr>\n",
       "      <th>3</th>\n",
       "      <td>Monaco</td>\n",
       "      <td>1.59</td>\n",
       "    </tr>\n",
       "    <tr>\n",
       "      <th>4</th>\n",
       "      <td>Singapore</td>\n",
       "      <td>1.53</td>\n",
       "    </tr>\n",
       "    <tr>\n",
       "      <th>...</th>\n",
       "      <td>...</td>\n",
       "      <td>...</td>\n",
       "    </tr>\n",
       "    <tr>\n",
       "      <th>189</th>\n",
       "      <td>Iraq</td>\n",
       "      <td>-2.56</td>\n",
       "    </tr>\n",
       "    <tr>\n",
       "      <th>190</th>\n",
       "      <td>Libya</td>\n",
       "      <td>-2.57</td>\n",
       "    </tr>\n",
       "    <tr>\n",
       "      <th>191</th>\n",
       "      <td>Afghanistan</td>\n",
       "      <td>-2.65</td>\n",
       "    </tr>\n",
       "    <tr>\n",
       "      <th>192</th>\n",
       "      <td>Syria</td>\n",
       "      <td>-2.73</td>\n",
       "    </tr>\n",
       "    <tr>\n",
       "      <th>193</th>\n",
       "      <td>Yemen</td>\n",
       "      <td>-2.77</td>\n",
       "    </tr>\n",
       "  </tbody>\n",
       "</table>\n",
       "<p>194 rows × 2 columns</p>\n",
       "</div>"
      ],
      "text/plain": [
       "           Country  political_stability\n",
       "0          Iceland                 1.66\n",
       "1    Liechtenstein                 1.63\n",
       "2          Andorra                 1.62\n",
       "3           Monaco                 1.59\n",
       "4        Singapore                 1.53\n",
       "..             ...                  ...\n",
       "189           Iraq                -2.56\n",
       "190          Libya                -2.57\n",
       "191    Afghanistan                -2.65\n",
       "192          Syria                -2.73\n",
       "193          Yemen                -2.77\n",
       "\n",
       "[194 rows x 2 columns]"
      ]
     },
     "execution_count": 397,
     "metadata": {},
     "output_type": "execute_result"
    }
   ],
   "source": [
    "df7 = pd.DataFrame(countries3, columns = ['Country'])\n",
    "df8=pd.DataFrame(political_stability, columns = ['political_stability'])\n",
    "df7['political_stability']=[float(str(i)) for i in df8[\"political_stability\"]]\n",
    "df7"
   ]
  },
  {
   "cell_type": "code",
   "execution_count": 511,
   "metadata": {},
   "outputs": [],
   "source": [
    "#Creating the fifth dataframe"
   ]
  },
  {
   "cell_type": "code",
   "execution_count": 398,
   "metadata": {},
   "outputs": [
    {
     "name": "stdout",
     "output_type": "stream",
     "text": [
      "<Response [200]>\n"
     ]
    }
   ],
   "source": [
    "url6='https://www.theglobaleconomy.com/rankings/kof_overall_glob/'\n",
    "reques=requests.get(url6)\n",
    "print(reques)\n",
    "soup6=BeautifulSoup(reques.text,'html.parser')"
   ]
  },
  {
   "cell_type": "code",
   "execution_count": 399,
   "metadata": {},
   "outputs": [],
   "source": [
    "countries4=[]\n",
    "for div in soup6.find_all('div','outsideTitleElement'):\n",
    "    e=div.find('a','graph_outside_link',href=True,text=True)\n",
    "    if e:\n",
    "        countries4.append([e.text])"
   ]
  },
  {
   "cell_type": "code",
   "execution_count": 405,
   "metadata": {},
   "outputs": [
    {
     "data": {
      "text/plain": [
       "191"
      ]
     },
     "execution_count": 405,
     "metadata": {},
     "output_type": "execute_result"
    }
   ],
   "source": [
    "len(countries4)"
   ]
  },
  {
   "cell_type": "code",
   "execution_count": 402,
   "metadata": {},
   "outputs": [],
   "source": [
    "globalization=[]\n",
    "globalization_values=soup6.find_all('div','fl')[6]\n",
    "for s in globalization_values.find_all('div')[3::2]:\n",
    "    globalization.append([s.text.strip()])"
   ]
  },
  {
   "cell_type": "code",
   "execution_count": 404,
   "metadata": {},
   "outputs": [],
   "source": [
    "globalization=globalization[:191]"
   ]
  },
  {
   "cell_type": "code",
   "execution_count": 407,
   "metadata": {
    "collapsed": true
   },
   "outputs": [
    {
     "data": {
      "text/html": [
       "<div>\n",
       "<style scoped>\n",
       "    .dataframe tbody tr th:only-of-type {\n",
       "        vertical-align: middle;\n",
       "    }\n",
       "\n",
       "    .dataframe tbody tr th {\n",
       "        vertical-align: top;\n",
       "    }\n",
       "\n",
       "    .dataframe thead th {\n",
       "        text-align: right;\n",
       "    }\n",
       "</style>\n",
       "<table border=\"1\" class=\"dataframe\">\n",
       "  <thead>\n",
       "    <tr style=\"text-align: right;\">\n",
       "      <th></th>\n",
       "      <th>Country</th>\n",
       "      <th>globalization</th>\n",
       "    </tr>\n",
       "  </thead>\n",
       "  <tbody>\n",
       "    <tr>\n",
       "      <th>0</th>\n",
       "      <td>Switzerland</td>\n",
       "      <td>90.79</td>\n",
       "    </tr>\n",
       "    <tr>\n",
       "      <th>1</th>\n",
       "      <td>Netherlands</td>\n",
       "      <td>90.68</td>\n",
       "    </tr>\n",
       "    <tr>\n",
       "      <th>2</th>\n",
       "      <td>Belgium</td>\n",
       "      <td>90.46</td>\n",
       "    </tr>\n",
       "    <tr>\n",
       "      <th>3</th>\n",
       "      <td>Sweden</td>\n",
       "      <td>89.44</td>\n",
       "    </tr>\n",
       "    <tr>\n",
       "      <th>4</th>\n",
       "      <td>UK</td>\n",
       "      <td>89.39</td>\n",
       "    </tr>\n",
       "    <tr>\n",
       "      <th>...</th>\n",
       "      <td>...</td>\n",
       "      <td>...</td>\n",
       "    </tr>\n",
       "    <tr>\n",
       "      <th>186</th>\n",
       "      <td>G.-Bissau</td>\n",
       "      <td>39.33</td>\n",
       "    </tr>\n",
       "    <tr>\n",
       "      <th>187</th>\n",
       "      <td>Afghanistan</td>\n",
       "      <td>38.52</td>\n",
       "    </tr>\n",
       "    <tr>\n",
       "      <th>188</th>\n",
       "      <td>C.A. Republic</td>\n",
       "      <td>37.90</td>\n",
       "    </tr>\n",
       "    <tr>\n",
       "      <th>189</th>\n",
       "      <td>Eritrea</td>\n",
       "      <td>30.99</td>\n",
       "    </tr>\n",
       "    <tr>\n",
       "      <th>190</th>\n",
       "      <td>Somalia</td>\n",
       "      <td>30.16</td>\n",
       "    </tr>\n",
       "  </tbody>\n",
       "</table>\n",
       "<p>191 rows × 2 columns</p>\n",
       "</div>"
      ],
      "text/plain": [
       "           Country  globalization\n",
       "0      Switzerland          90.79\n",
       "1      Netherlands          90.68\n",
       "2          Belgium          90.46\n",
       "3           Sweden          89.44\n",
       "4               UK          89.39\n",
       "..             ...            ...\n",
       "186      G.-Bissau          39.33\n",
       "187    Afghanistan          38.52\n",
       "188  C.A. Republic          37.90\n",
       "189        Eritrea          30.99\n",
       "190        Somalia          30.16\n",
       "\n",
       "[191 rows x 2 columns]"
      ]
     },
     "execution_count": 407,
     "metadata": {},
     "output_type": "execute_result"
    }
   ],
   "source": [
    "df9 = pd.DataFrame(countries4, columns = ['Country'])\n",
    "df10=pd.DataFrame(globalization, columns = ['globalization'])\n",
    "df9['globalization']=[float(str(i)) for i in df10[\"globalization\"]]\n",
    "df9"
   ]
  },
  {
   "cell_type": "markdown",
   "metadata": {},
   "source": [
    "#### <span style='background :#ffe6f0' >We have completed scrapping all the data that we need, now we have to combine it meaningfully to get a dataframe."
   ]
  },
  {
   "cell_type": "markdown",
   "metadata": {},
   "source": [
    "let's look at the obtained dataframes."
   ]
  },
  {
   "cell_type": "code",
   "execution_count": 415,
   "metadata": {},
   "outputs": [
    {
     "data": {
      "text/html": [
       "<div>\n",
       "<style scoped>\n",
       "    .dataframe tbody tr th:only-of-type {\n",
       "        vertical-align: middle;\n",
       "    }\n",
       "\n",
       "    .dataframe tbody tr th {\n",
       "        vertical-align: top;\n",
       "    }\n",
       "\n",
       "    .dataframe thead th {\n",
       "        text-align: right;\n",
       "    }\n",
       "</style>\n",
       "<table border=\"1\" class=\"dataframe\">\n",
       "  <thead>\n",
       "    <tr style=\"text-align: right;\">\n",
       "      <th></th>\n",
       "      <th>Country</th>\n",
       "      <th>Happiness_value</th>\n",
       "    </tr>\n",
       "  </thead>\n",
       "  <tbody>\n",
       "    <tr>\n",
       "      <th>0</th>\n",
       "      <td>Finland</td>\n",
       "      <td>7.84</td>\n",
       "    </tr>\n",
       "    <tr>\n",
       "      <th>1</th>\n",
       "      <td>Denmark</td>\n",
       "      <td>7.62</td>\n",
       "    </tr>\n",
       "    <tr>\n",
       "      <th>2</th>\n",
       "      <td>Switzerland</td>\n",
       "      <td>7.57</td>\n",
       "    </tr>\n",
       "  </tbody>\n",
       "</table>\n",
       "</div>"
      ],
      "text/plain": [
       "       Country  Happiness_value\n",
       "0      Finland             7.84\n",
       "1      Denmark             7.62\n",
       "2  Switzerland             7.57"
      ]
     },
     "execution_count": 415,
     "metadata": {},
     "output_type": "execute_result"
    }
   ],
   "source": [
    "df2.head(3)"
   ]
  },
  {
   "cell_type": "code",
   "execution_count": 416,
   "metadata": {},
   "outputs": [
    {
     "data": {
      "text/html": [
       "<div>\n",
       "<style scoped>\n",
       "    .dataframe tbody tr th:only-of-type {\n",
       "        vertical-align: middle;\n",
       "    }\n",
       "\n",
       "    .dataframe tbody tr th {\n",
       "        vertical-align: top;\n",
       "    }\n",
       "\n",
       "    .dataframe thead th {\n",
       "        text-align: right;\n",
       "    }\n",
       "</style>\n",
       "<table border=\"1\" class=\"dataframe\">\n",
       "  <thead>\n",
       "    <tr style=\"text-align: right;\">\n",
       "      <th></th>\n",
       "      <th>Country</th>\n",
       "      <th>Life_Expectancy</th>\n",
       "    </tr>\n",
       "  </thead>\n",
       "  <tbody>\n",
       "    <tr>\n",
       "      <th>0</th>\n",
       "      <td>Hong Kong</td>\n",
       "      <td>85.08</td>\n",
       "    </tr>\n",
       "    <tr>\n",
       "      <th>1</th>\n",
       "      <td>Japan</td>\n",
       "      <td>84.36</td>\n",
       "    </tr>\n",
       "    <tr>\n",
       "      <th>2</th>\n",
       "      <td>Macao</td>\n",
       "      <td>84.24</td>\n",
       "    </tr>\n",
       "  </tbody>\n",
       "</table>\n",
       "</div>"
      ],
      "text/plain": [
       "     Country  Life_Expectancy\n",
       "0  Hong Kong            85.08\n",
       "1      Japan            84.36\n",
       "2      Macao            84.24"
      ]
     },
     "execution_count": 416,
     "metadata": {},
     "output_type": "execute_result"
    }
   ],
   "source": [
    "df3.head(3)"
   ]
  },
  {
   "cell_type": "code",
   "execution_count": 418,
   "metadata": {},
   "outputs": [
    {
     "data": {
      "text/html": [
       "<div>\n",
       "<style scoped>\n",
       "    .dataframe tbody tr th:only-of-type {\n",
       "        vertical-align: middle;\n",
       "    }\n",
       "\n",
       "    .dataframe tbody tr th {\n",
       "        vertical-align: top;\n",
       "    }\n",
       "\n",
       "    .dataframe thead th {\n",
       "        text-align: right;\n",
       "    }\n",
       "</style>\n",
       "<table border=\"1\" class=\"dataframe\">\n",
       "  <thead>\n",
       "    <tr style=\"text-align: right;\">\n",
       "      <th></th>\n",
       "      <th>Country</th>\n",
       "      <th>Free_From_Corruption</th>\n",
       "    </tr>\n",
       "  </thead>\n",
       "  <tbody>\n",
       "    <tr>\n",
       "      <th>0</th>\n",
       "      <td>Finland</td>\n",
       "      <td>97.0</td>\n",
       "    </tr>\n",
       "    <tr>\n",
       "      <th>1</th>\n",
       "      <td>Norway</td>\n",
       "      <td>96.0</td>\n",
       "    </tr>\n",
       "    <tr>\n",
       "      <th>2</th>\n",
       "      <td>New Zealand</td>\n",
       "      <td>95.0</td>\n",
       "    </tr>\n",
       "  </tbody>\n",
       "</table>\n",
       "</div>"
      ],
      "text/plain": [
       "       Country  Free_From_Corruption\n",
       "0      Finland                  97.0\n",
       "1       Norway                  96.0\n",
       "2  New Zealand                  95.0"
      ]
     },
     "execution_count": 418,
     "metadata": {},
     "output_type": "execute_result"
    }
   ],
   "source": [
    "df5.head(3)"
   ]
  },
  {
   "cell_type": "code",
   "execution_count": 419,
   "metadata": {},
   "outputs": [
    {
     "data": {
      "text/html": [
       "<div>\n",
       "<style scoped>\n",
       "    .dataframe tbody tr th:only-of-type {\n",
       "        vertical-align: middle;\n",
       "    }\n",
       "\n",
       "    .dataframe tbody tr th {\n",
       "        vertical-align: top;\n",
       "    }\n",
       "\n",
       "    .dataframe thead th {\n",
       "        text-align: right;\n",
       "    }\n",
       "</style>\n",
       "<table border=\"1\" class=\"dataframe\">\n",
       "  <thead>\n",
       "    <tr style=\"text-align: right;\">\n",
       "      <th></th>\n",
       "      <th>Country</th>\n",
       "      <th>political_stability</th>\n",
       "    </tr>\n",
       "  </thead>\n",
       "  <tbody>\n",
       "    <tr>\n",
       "      <th>0</th>\n",
       "      <td>Iceland</td>\n",
       "      <td>1.66</td>\n",
       "    </tr>\n",
       "    <tr>\n",
       "      <th>1</th>\n",
       "      <td>Liechtenstein</td>\n",
       "      <td>1.63</td>\n",
       "    </tr>\n",
       "    <tr>\n",
       "      <th>2</th>\n",
       "      <td>Andorra</td>\n",
       "      <td>1.62</td>\n",
       "    </tr>\n",
       "  </tbody>\n",
       "</table>\n",
       "</div>"
      ],
      "text/plain": [
       "         Country  political_stability\n",
       "0        Iceland                 1.66\n",
       "1  Liechtenstein                 1.63\n",
       "2        Andorra                 1.62"
      ]
     },
     "execution_count": 419,
     "metadata": {},
     "output_type": "execute_result"
    }
   ],
   "source": [
    "df7.head(3)"
   ]
  },
  {
   "cell_type": "code",
   "execution_count": 420,
   "metadata": {},
   "outputs": [
    {
     "data": {
      "text/html": [
       "<div>\n",
       "<style scoped>\n",
       "    .dataframe tbody tr th:only-of-type {\n",
       "        vertical-align: middle;\n",
       "    }\n",
       "\n",
       "    .dataframe tbody tr th {\n",
       "        vertical-align: top;\n",
       "    }\n",
       "\n",
       "    .dataframe thead th {\n",
       "        text-align: right;\n",
       "    }\n",
       "</style>\n",
       "<table border=\"1\" class=\"dataframe\">\n",
       "  <thead>\n",
       "    <tr style=\"text-align: right;\">\n",
       "      <th></th>\n",
       "      <th>Country</th>\n",
       "      <th>globalization</th>\n",
       "    </tr>\n",
       "  </thead>\n",
       "  <tbody>\n",
       "    <tr>\n",
       "      <th>0</th>\n",
       "      <td>Switzerland</td>\n",
       "      <td>90.79</td>\n",
       "    </tr>\n",
       "    <tr>\n",
       "      <th>1</th>\n",
       "      <td>Netherlands</td>\n",
       "      <td>90.68</td>\n",
       "    </tr>\n",
       "    <tr>\n",
       "      <th>2</th>\n",
       "      <td>Belgium</td>\n",
       "      <td>90.46</td>\n",
       "    </tr>\n",
       "  </tbody>\n",
       "</table>\n",
       "</div>"
      ],
      "text/plain": [
       "       Country  globalization\n",
       "0  Switzerland          90.79\n",
       "1  Netherlands          90.68\n",
       "2      Belgium          90.46"
      ]
     },
     "execution_count": 420,
     "metadata": {},
     "output_type": "execute_result"
    }
   ],
   "source": [
    "df9.head(3)"
   ]
  },
  {
   "cell_type": "markdown",
   "metadata": {},
   "source": [
    "### <span style='color:Blue'> Let's merge all the data frames on common countries."
   ]
  },
  {
   "cell_type": "code",
   "execution_count": 430,
   "metadata": {},
   "outputs": [],
   "source": [
    "merged_df_1_2 = df2.merge(df3, how = 'inner', on = ['Country'])"
   ]
  },
  {
   "cell_type": "code",
   "execution_count": 431,
   "metadata": {},
   "outputs": [
    {
     "data": {
      "text/html": [
       "<div>\n",
       "<style scoped>\n",
       "    .dataframe tbody tr th:only-of-type {\n",
       "        vertical-align: middle;\n",
       "    }\n",
       "\n",
       "    .dataframe tbody tr th {\n",
       "        vertical-align: top;\n",
       "    }\n",
       "\n",
       "    .dataframe thead th {\n",
       "        text-align: right;\n",
       "    }\n",
       "</style>\n",
       "<table border=\"1\" class=\"dataframe\">\n",
       "  <thead>\n",
       "    <tr style=\"text-align: right;\">\n",
       "      <th></th>\n",
       "      <th>Country</th>\n",
       "      <th>Happiness_value</th>\n",
       "      <th>Life_Expectancy</th>\n",
       "    </tr>\n",
       "  </thead>\n",
       "  <tbody>\n",
       "    <tr>\n",
       "      <th>0</th>\n",
       "      <td>Finland</td>\n",
       "      <td>7.84</td>\n",
       "      <td>81.79</td>\n",
       "    </tr>\n",
       "    <tr>\n",
       "      <th>1</th>\n",
       "      <td>Denmark</td>\n",
       "      <td>7.62</td>\n",
       "      <td>81.20</td>\n",
       "    </tr>\n",
       "    <tr>\n",
       "      <th>2</th>\n",
       "      <td>Switzerland</td>\n",
       "      <td>7.57</td>\n",
       "      <td>83.70</td>\n",
       "    </tr>\n",
       "    <tr>\n",
       "      <th>3</th>\n",
       "      <td>Iceland</td>\n",
       "      <td>7.55</td>\n",
       "      <td>82.56</td>\n",
       "    </tr>\n",
       "    <tr>\n",
       "      <th>4</th>\n",
       "      <td>Netherlands</td>\n",
       "      <td>7.46</td>\n",
       "      <td>82.01</td>\n",
       "    </tr>\n",
       "    <tr>\n",
       "      <th>...</th>\n",
       "      <td>...</td>\n",
       "      <td>...</td>\n",
       "      <td>...</td>\n",
       "    </tr>\n",
       "    <tr>\n",
       "      <th>144</th>\n",
       "      <td>C.A. Republic</td>\n",
       "      <td>3.48</td>\n",
       "      <td>53.28</td>\n",
       "    </tr>\n",
       "    <tr>\n",
       "      <th>145</th>\n",
       "      <td>Botswana</td>\n",
       "      <td>3.47</td>\n",
       "      <td>69.59</td>\n",
       "    </tr>\n",
       "    <tr>\n",
       "      <th>146</th>\n",
       "      <td>Rwanda</td>\n",
       "      <td>3.42</td>\n",
       "      <td>69.02</td>\n",
       "    </tr>\n",
       "    <tr>\n",
       "      <th>147</th>\n",
       "      <td>Zimbabwe</td>\n",
       "      <td>3.15</td>\n",
       "      <td>61.49</td>\n",
       "    </tr>\n",
       "    <tr>\n",
       "      <th>148</th>\n",
       "      <td>Afghanistan</td>\n",
       "      <td>2.52</td>\n",
       "      <td>64.83</td>\n",
       "    </tr>\n",
       "  </tbody>\n",
       "</table>\n",
       "<p>149 rows × 3 columns</p>\n",
       "</div>"
      ],
      "text/plain": [
       "           Country  Happiness_value  Life_Expectancy\n",
       "0          Finland             7.84            81.79\n",
       "1          Denmark             7.62            81.20\n",
       "2      Switzerland             7.57            83.70\n",
       "3          Iceland             7.55            82.56\n",
       "4      Netherlands             7.46            82.01\n",
       "..             ...              ...              ...\n",
       "144  C.A. Republic             3.48            53.28\n",
       "145       Botswana             3.47            69.59\n",
       "146         Rwanda             3.42            69.02\n",
       "147       Zimbabwe             3.15            61.49\n",
       "148    Afghanistan             2.52            64.83\n",
       "\n",
       "[149 rows x 3 columns]"
      ]
     },
     "execution_count": 431,
     "metadata": {},
     "output_type": "execute_result"
    }
   ],
   "source": [
    "merged_df_1_2"
   ]
  },
  {
   "cell_type": "code",
   "execution_count": 440,
   "metadata": {},
   "outputs": [],
   "source": [
    "merged_1_2_3= merged_df_1_2.merge(df5, how = 'inner', on = ['Country'])"
   ]
  },
  {
   "cell_type": "code",
   "execution_count": 441,
   "metadata": {},
   "outputs": [
    {
     "data": {
      "text/html": [
       "<div>\n",
       "<style scoped>\n",
       "    .dataframe tbody tr th:only-of-type {\n",
       "        vertical-align: middle;\n",
       "    }\n",
       "\n",
       "    .dataframe tbody tr th {\n",
       "        vertical-align: top;\n",
       "    }\n",
       "\n",
       "    .dataframe thead th {\n",
       "        text-align: right;\n",
       "    }\n",
       "</style>\n",
       "<table border=\"1\" class=\"dataframe\">\n",
       "  <thead>\n",
       "    <tr style=\"text-align: right;\">\n",
       "      <th></th>\n",
       "      <th>Country</th>\n",
       "      <th>Happiness_value</th>\n",
       "      <th>Life_Expectancy</th>\n",
       "      <th>Free_From_Corruption</th>\n",
       "    </tr>\n",
       "  </thead>\n",
       "  <tbody>\n",
       "    <tr>\n",
       "      <th>0</th>\n",
       "      <td>Finland</td>\n",
       "      <td>7.84</td>\n",
       "      <td>81.79</td>\n",
       "      <td>97.0</td>\n",
       "    </tr>\n",
       "    <tr>\n",
       "      <th>1</th>\n",
       "      <td>Denmark</td>\n",
       "      <td>7.62</td>\n",
       "      <td>81.20</td>\n",
       "      <td>93.0</td>\n",
       "    </tr>\n",
       "    <tr>\n",
       "      <th>2</th>\n",
       "      <td>Switzerland</td>\n",
       "      <td>7.57</td>\n",
       "      <td>83.70</td>\n",
       "      <td>88.0</td>\n",
       "    </tr>\n",
       "    <tr>\n",
       "      <th>3</th>\n",
       "      <td>Iceland</td>\n",
       "      <td>7.55</td>\n",
       "      <td>82.56</td>\n",
       "      <td>91.0</td>\n",
       "    </tr>\n",
       "    <tr>\n",
       "      <th>4</th>\n",
       "      <td>Netherlands</td>\n",
       "      <td>7.46</td>\n",
       "      <td>82.01</td>\n",
       "      <td>91.0</td>\n",
       "    </tr>\n",
       "    <tr>\n",
       "      <th>...</th>\n",
       "      <td>...</td>\n",
       "      <td>...</td>\n",
       "      <td>...</td>\n",
       "      <td>...</td>\n",
       "    </tr>\n",
       "    <tr>\n",
       "      <th>141</th>\n",
       "      <td>C.A. Republic</td>\n",
       "      <td>3.48</td>\n",
       "      <td>53.28</td>\n",
       "      <td>22.0</td>\n",
       "    </tr>\n",
       "    <tr>\n",
       "      <th>142</th>\n",
       "      <td>Botswana</td>\n",
       "      <td>3.47</td>\n",
       "      <td>69.59</td>\n",
       "      <td>49.0</td>\n",
       "    </tr>\n",
       "    <tr>\n",
       "      <th>143</th>\n",
       "      <td>Rwanda</td>\n",
       "      <td>3.42</td>\n",
       "      <td>69.02</td>\n",
       "      <td>59.0</td>\n",
       "    </tr>\n",
       "    <tr>\n",
       "      <th>144</th>\n",
       "      <td>Zimbabwe</td>\n",
       "      <td>3.15</td>\n",
       "      <td>61.49</td>\n",
       "      <td>21.0</td>\n",
       "    </tr>\n",
       "    <tr>\n",
       "      <th>145</th>\n",
       "      <td>Afghanistan</td>\n",
       "      <td>2.52</td>\n",
       "      <td>64.83</td>\n",
       "      <td>29.0</td>\n",
       "    </tr>\n",
       "  </tbody>\n",
       "</table>\n",
       "<p>146 rows × 4 columns</p>\n",
       "</div>"
      ],
      "text/plain": [
       "           Country  Happiness_value  Life_Expectancy  Free_From_Corruption\n",
       "0          Finland             7.84            81.79                  97.0\n",
       "1          Denmark             7.62            81.20                  93.0\n",
       "2      Switzerland             7.57            83.70                  88.0\n",
       "3          Iceland             7.55            82.56                  91.0\n",
       "4      Netherlands             7.46            82.01                  91.0\n",
       "..             ...              ...              ...                   ...\n",
       "141  C.A. Republic             3.48            53.28                  22.0\n",
       "142       Botswana             3.47            69.59                  49.0\n",
       "143         Rwanda             3.42            69.02                  59.0\n",
       "144       Zimbabwe             3.15            61.49                  21.0\n",
       "145    Afghanistan             2.52            64.83                  29.0\n",
       "\n",
       "[146 rows x 4 columns]"
      ]
     },
     "execution_count": 441,
     "metadata": {},
     "output_type": "execute_result"
    }
   ],
   "source": [
    "merged_1_2_3"
   ]
  },
  {
   "cell_type": "code",
   "execution_count": 442,
   "metadata": {},
   "outputs": [],
   "source": [
    "merged_1_2_3_4=merged_1_2_3.merge(df7, how = 'inner', on = ['Country'])"
   ]
  },
  {
   "cell_type": "code",
   "execution_count": 443,
   "metadata": {},
   "outputs": [
    {
     "data": {
      "text/html": [
       "<div>\n",
       "<style scoped>\n",
       "    .dataframe tbody tr th:only-of-type {\n",
       "        vertical-align: middle;\n",
       "    }\n",
       "\n",
       "    .dataframe tbody tr th {\n",
       "        vertical-align: top;\n",
       "    }\n",
       "\n",
       "    .dataframe thead th {\n",
       "        text-align: right;\n",
       "    }\n",
       "</style>\n",
       "<table border=\"1\" class=\"dataframe\">\n",
       "  <thead>\n",
       "    <tr style=\"text-align: right;\">\n",
       "      <th></th>\n",
       "      <th>Country</th>\n",
       "      <th>Happiness_value</th>\n",
       "      <th>Life_Expectancy</th>\n",
       "      <th>Free_From_Corruption</th>\n",
       "      <th>political_stability</th>\n",
       "    </tr>\n",
       "  </thead>\n",
       "  <tbody>\n",
       "    <tr>\n",
       "      <th>0</th>\n",
       "      <td>Finland</td>\n",
       "      <td>7.84</td>\n",
       "      <td>81.79</td>\n",
       "      <td>97.0</td>\n",
       "      <td>0.91</td>\n",
       "    </tr>\n",
       "    <tr>\n",
       "      <th>1</th>\n",
       "      <td>Denmark</td>\n",
       "      <td>7.62</td>\n",
       "      <td>81.20</td>\n",
       "      <td>93.0</td>\n",
       "      <td>1.01</td>\n",
       "    </tr>\n",
       "    <tr>\n",
       "      <th>2</th>\n",
       "      <td>Switzerland</td>\n",
       "      <td>7.57</td>\n",
       "      <td>83.70</td>\n",
       "      <td>88.0</td>\n",
       "      <td>1.34</td>\n",
       "    </tr>\n",
       "    <tr>\n",
       "      <th>3</th>\n",
       "      <td>Iceland</td>\n",
       "      <td>7.55</td>\n",
       "      <td>82.56</td>\n",
       "      <td>91.0</td>\n",
       "      <td>1.66</td>\n",
       "    </tr>\n",
       "    <tr>\n",
       "      <th>4</th>\n",
       "      <td>Netherlands</td>\n",
       "      <td>7.46</td>\n",
       "      <td>82.01</td>\n",
       "      <td>91.0</td>\n",
       "      <td>0.86</td>\n",
       "    </tr>\n",
       "    <tr>\n",
       "      <th>...</th>\n",
       "      <td>...</td>\n",
       "      <td>...</td>\n",
       "      <td>...</td>\n",
       "      <td>...</td>\n",
       "      <td>...</td>\n",
       "    </tr>\n",
       "    <tr>\n",
       "      <th>141</th>\n",
       "      <td>C.A. Republic</td>\n",
       "      <td>3.48</td>\n",
       "      <td>53.28</td>\n",
       "      <td>22.0</td>\n",
       "      <td>-2.18</td>\n",
       "    </tr>\n",
       "    <tr>\n",
       "      <th>142</th>\n",
       "      <td>Botswana</td>\n",
       "      <td>3.47</td>\n",
       "      <td>69.59</td>\n",
       "      <td>49.0</td>\n",
       "      <td>1.01</td>\n",
       "    </tr>\n",
       "    <tr>\n",
       "      <th>143</th>\n",
       "      <td>Rwanda</td>\n",
       "      <td>3.42</td>\n",
       "      <td>69.02</td>\n",
       "      <td>59.0</td>\n",
       "      <td>0.12</td>\n",
       "    </tr>\n",
       "    <tr>\n",
       "      <th>144</th>\n",
       "      <td>Zimbabwe</td>\n",
       "      <td>3.15</td>\n",
       "      <td>61.49</td>\n",
       "      <td>21.0</td>\n",
       "      <td>-0.92</td>\n",
       "    </tr>\n",
       "    <tr>\n",
       "      <th>145</th>\n",
       "      <td>Afghanistan</td>\n",
       "      <td>2.52</td>\n",
       "      <td>64.83</td>\n",
       "      <td>29.0</td>\n",
       "      <td>-2.65</td>\n",
       "    </tr>\n",
       "  </tbody>\n",
       "</table>\n",
       "<p>146 rows × 5 columns</p>\n",
       "</div>"
      ],
      "text/plain": [
       "           Country  Happiness_value  Life_Expectancy  Free_From_Corruption  \\\n",
       "0          Finland             7.84            81.79                  97.0   \n",
       "1          Denmark             7.62            81.20                  93.0   \n",
       "2      Switzerland             7.57            83.70                  88.0   \n",
       "3          Iceland             7.55            82.56                  91.0   \n",
       "4      Netherlands             7.46            82.01                  91.0   \n",
       "..             ...              ...              ...                   ...   \n",
       "141  C.A. Republic             3.48            53.28                  22.0   \n",
       "142       Botswana             3.47            69.59                  49.0   \n",
       "143         Rwanda             3.42            69.02                  59.0   \n",
       "144       Zimbabwe             3.15            61.49                  21.0   \n",
       "145    Afghanistan             2.52            64.83                  29.0   \n",
       "\n",
       "     political_stability  \n",
       "0                   0.91  \n",
       "1                   1.01  \n",
       "2                   1.34  \n",
       "3                   1.66  \n",
       "4                   0.86  \n",
       "..                   ...  \n",
       "141                -2.18  \n",
       "142                 1.01  \n",
       "143                 0.12  \n",
       "144                -0.92  \n",
       "145                -2.65  \n",
       "\n",
       "[146 rows x 5 columns]"
      ]
     },
     "execution_count": 443,
     "metadata": {},
     "output_type": "execute_result"
    }
   ],
   "source": [
    "merged_1_2_3_4"
   ]
  },
  {
   "cell_type": "code",
   "execution_count": 444,
   "metadata": {},
   "outputs": [],
   "source": [
    "merged_1_2_3_4_5=merged_1_2_3_4.merge(df9, how = 'inner', on = ['Country'])"
   ]
  },
  {
   "cell_type": "code",
   "execution_count": 445,
   "metadata": {},
   "outputs": [
    {
     "data": {
      "text/html": [
       "<div>\n",
       "<style scoped>\n",
       "    .dataframe tbody tr th:only-of-type {\n",
       "        vertical-align: middle;\n",
       "    }\n",
       "\n",
       "    .dataframe tbody tr th {\n",
       "        vertical-align: top;\n",
       "    }\n",
       "\n",
       "    .dataframe thead th {\n",
       "        text-align: right;\n",
       "    }\n",
       "</style>\n",
       "<table border=\"1\" class=\"dataframe\">\n",
       "  <thead>\n",
       "    <tr style=\"text-align: right;\">\n",
       "      <th></th>\n",
       "      <th>Country</th>\n",
       "      <th>Happiness_value</th>\n",
       "      <th>Life_Expectancy</th>\n",
       "      <th>Free_From_Corruption</th>\n",
       "      <th>political_stability</th>\n",
       "      <th>globalization</th>\n",
       "    </tr>\n",
       "  </thead>\n",
       "  <tbody>\n",
       "    <tr>\n",
       "      <th>0</th>\n",
       "      <td>Finland</td>\n",
       "      <td>7.84</td>\n",
       "      <td>81.79</td>\n",
       "      <td>97.0</td>\n",
       "      <td>0.91</td>\n",
       "      <td>87.70</td>\n",
       "    </tr>\n",
       "    <tr>\n",
       "      <th>1</th>\n",
       "      <td>Denmark</td>\n",
       "      <td>7.62</td>\n",
       "      <td>81.20</td>\n",
       "      <td>93.0</td>\n",
       "      <td>1.01</td>\n",
       "      <td>87.96</td>\n",
       "    </tr>\n",
       "    <tr>\n",
       "      <th>2</th>\n",
       "      <td>Switzerland</td>\n",
       "      <td>7.57</td>\n",
       "      <td>83.70</td>\n",
       "      <td>88.0</td>\n",
       "      <td>1.34</td>\n",
       "      <td>90.79</td>\n",
       "    </tr>\n",
       "    <tr>\n",
       "      <th>3</th>\n",
       "      <td>Iceland</td>\n",
       "      <td>7.55</td>\n",
       "      <td>82.56</td>\n",
       "      <td>91.0</td>\n",
       "      <td>1.66</td>\n",
       "      <td>71.91</td>\n",
       "    </tr>\n",
       "    <tr>\n",
       "      <th>4</th>\n",
       "      <td>Netherlands</td>\n",
       "      <td>7.46</td>\n",
       "      <td>82.01</td>\n",
       "      <td>91.0</td>\n",
       "      <td>0.86</td>\n",
       "      <td>90.68</td>\n",
       "    </tr>\n",
       "    <tr>\n",
       "      <th>...</th>\n",
       "      <td>...</td>\n",
       "      <td>...</td>\n",
       "      <td>...</td>\n",
       "      <td>...</td>\n",
       "      <td>...</td>\n",
       "      <td>...</td>\n",
       "    </tr>\n",
       "    <tr>\n",
       "      <th>141</th>\n",
       "      <td>C.A. Republic</td>\n",
       "      <td>3.48</td>\n",
       "      <td>53.28</td>\n",
       "      <td>22.0</td>\n",
       "      <td>-2.18</td>\n",
       "      <td>37.90</td>\n",
       "    </tr>\n",
       "    <tr>\n",
       "      <th>142</th>\n",
       "      <td>Botswana</td>\n",
       "      <td>3.47</td>\n",
       "      <td>69.59</td>\n",
       "      <td>49.0</td>\n",
       "      <td>1.01</td>\n",
       "      <td>55.59</td>\n",
       "    </tr>\n",
       "    <tr>\n",
       "      <th>143</th>\n",
       "      <td>Rwanda</td>\n",
       "      <td>3.42</td>\n",
       "      <td>69.02</td>\n",
       "      <td>59.0</td>\n",
       "      <td>0.12</td>\n",
       "      <td>51.61</td>\n",
       "    </tr>\n",
       "    <tr>\n",
       "      <th>144</th>\n",
       "      <td>Zimbabwe</td>\n",
       "      <td>3.15</td>\n",
       "      <td>61.49</td>\n",
       "      <td>21.0</td>\n",
       "      <td>-0.92</td>\n",
       "      <td>51.78</td>\n",
       "    </tr>\n",
       "    <tr>\n",
       "      <th>145</th>\n",
       "      <td>Afghanistan</td>\n",
       "      <td>2.52</td>\n",
       "      <td>64.83</td>\n",
       "      <td>29.0</td>\n",
       "      <td>-2.65</td>\n",
       "      <td>38.52</td>\n",
       "    </tr>\n",
       "  </tbody>\n",
       "</table>\n",
       "<p>146 rows × 6 columns</p>\n",
       "</div>"
      ],
      "text/plain": [
       "           Country  Happiness_value  Life_Expectancy  Free_From_Corruption  \\\n",
       "0          Finland             7.84            81.79                  97.0   \n",
       "1          Denmark             7.62            81.20                  93.0   \n",
       "2      Switzerland             7.57            83.70                  88.0   \n",
       "3          Iceland             7.55            82.56                  91.0   \n",
       "4      Netherlands             7.46            82.01                  91.0   \n",
       "..             ...              ...              ...                   ...   \n",
       "141  C.A. Republic             3.48            53.28                  22.0   \n",
       "142       Botswana             3.47            69.59                  49.0   \n",
       "143         Rwanda             3.42            69.02                  59.0   \n",
       "144       Zimbabwe             3.15            61.49                  21.0   \n",
       "145    Afghanistan             2.52            64.83                  29.0   \n",
       "\n",
       "     political_stability  globalization  \n",
       "0                   0.91          87.70  \n",
       "1                   1.01          87.96  \n",
       "2                   1.34          90.79  \n",
       "3                   1.66          71.91  \n",
       "4                   0.86          90.68  \n",
       "..                   ...            ...  \n",
       "141                -2.18          37.90  \n",
       "142                 1.01          55.59  \n",
       "143                 0.12          51.61  \n",
       "144                -0.92          51.78  \n",
       "145                -2.65          38.52  \n",
       "\n",
       "[146 rows x 6 columns]"
      ]
     },
     "execution_count": 445,
     "metadata": {},
     "output_type": "execute_result"
    }
   ],
   "source": [
    "merged_1_2_3_4_5"
   ]
  },
  {
   "cell_type": "code",
   "execution_count": 446,
   "metadata": {},
   "outputs": [],
   "source": [
    "final_df=merged_1_2_3_4_5"
   ]
  },
  {
   "cell_type": "markdown",
   "metadata": {},
   "source": [
    "###   <span style='color:Blue'>We have the final data frame ready to analyse, the names of the countries are arranged in terams of their happiness index, that is the topmost countries are the happiest and the value decreases down the column.\n",
    "\n",
    "let's analyse and visualize the data."
   ]
  },
  {
   "cell_type": "markdown",
   "metadata": {},
   "source": [
    "# --------------------------------------------------------------------------------------------------------"
   ]
  },
  {
   "cell_type": "markdown",
   "metadata": {},
   "source": [
    "# --------------------------------------------------------------------------------------------------------"
   ]
  },
  {
   "cell_type": "markdown",
   "metadata": {},
   "source": [
    "# <span style='color:Blue'> Analysis and Visualizations"
   ]
  },
  {
   "cell_type": "code",
   "execution_count": 455,
   "metadata": {},
   "outputs": [],
   "source": [
    "import matplotlib.pyplot as plt\n",
    "import seaborn as sns"
   ]
  },
  {
   "cell_type": "markdown",
   "metadata": {},
   "source": [
    "### <span style='color:red'>  Lets look at the distribution of happiness scores in our dataset"
   ]
  },
  {
   "cell_type": "code",
   "execution_count": 459,
   "metadata": {
    "scrolled": true
   },
   "outputs": [
    {
     "data": {
      "text/plain": [
       "Text(0.5, 1.0, 'Distribution of Happiness scores')"
      ]
     },
     "execution_count": 459,
     "metadata": {},
     "output_type": "execute_result"
    },
    {
     "data": {
      "image/png": "[encoded data removed]",
      "text/plain": [
       "<Figure size 720x432 with 1 Axes>"
      ]
     },
     "metadata": {
      "needs_background": "light"
     },
     "output_type": "display_data"
    }
   ],
   "source": [
    "plt.figure(figsize=(10,6))\n",
    "a=10\n",
    "plt.hist(final_df.Happiness_value,a,alpha=0.3,color='red')\n",
    "\n",
    "plt.ylabel('No. of countries',size=13)\n",
    "\n",
    "plt.title('Distribution of Happiness scores',size=16)"
   ]
  },
  {
   "cell_type": "markdown",
   "metadata": {},
   "source": [
    "#### The above chart shows the distribution of happiness scores, we can analyse on which range the score generally falls."
   ]
  },
  {
   "cell_type": "markdown",
   "metadata": {},
   "source": [
    "## --------------------------------------------------------------------------------------------------------------------------"
   ]
  },
  {
   "cell_type": "markdown",
   "metadata": {},
   "source": [
    "### <span style='color:red'>  Let's look at the Correlating features with the Happiness Scores"
   ]
  },
  {
   "cell_type": "markdown",
   "metadata": {},
   "source": [
    "The happiness values will be correlated to the other parameters in the dataframe, lets plot a heatmap to analyze the extend of correlation."
   ]
  },
  {
   "cell_type": "code",
   "execution_count": 461,
   "metadata": {},
   "outputs": [
    {
     "data": {
      "text/plain": [
       "<AxesSubplot:>"
      ]
     },
     "execution_count": 461,
     "metadata": {},
     "output_type": "execute_result"
    },
    {
     "data": {
      "image/png": "[encoded data removed]",
      "text/plain": [
       "<Figure size 720x432 with 2 Axes>"
      ]
     },
     "metadata": {
      "needs_background": "light"
     },
     "output_type": "display_data"
    }
   ],
   "source": [
    "#get correlation\n",
    "corr=final_df.corr()\n",
    "plt.figure(figsize=(10,6))\n",
    "#Plot heatmap\n",
    "sns.heatmap(corr,annot=True)"
   ]
  },
  {
   "cell_type": "markdown",
   "metadata": {},
   "source": [
    "#### 1. <span style='color:green'> How is Life Expectancy related to Happiness Score?\n",
    "\n",
    "<span style='background :#fffba8' >From the heatmaps, correlation coefficient between life expectancy and Score is ~ 0.76 indicating a strong positive relationship between life expectancy and the Happiness score. life expectancy is a tracker of the quality of life of a country. People in countries showing positive trends in life expectancy tend to be more happier as it leads to higher productivity and better standards of living. "
   ]
  },
  {
   "cell_type": "markdown",
   "metadata": {},
   "source": [
    "#### <span style='color:green'> 2. Relation between freedom from corruption and Happiness Score?\n",
    "\n",
    "<span style='background :#fffba8' >The correlation coefficient between Freedom from corruption and Happiness Score is 0.75 indicating a  positive relationship between the two.Hence we can conclude that genarally a less corrupt country tends to be happier. This might be due to fact that in a less corrupt country the genuine requirements of the citizens will be fairly treated which will inturn lead to the people being happy."
   ]
  },
  {
   "cell_type": "markdown",
   "metadata": {},
   "source": [
    "#### <span style='color:green'> 3. How is Life Expectancy related to Happiness Score?\n",
    "\n",
    "<span style='background :#fffba8' >The correlation coefficient between political stability and Happiness Score is exactly 0.75 indicating a moderately positive relationship between the two.Hence we can conclude that genarally a more politically stable country tends to be happier. This might be due to fact that in a politically stable country unrest would be less and the citizens would have lesser social things to worry about."
   ]
  },
  {
   "cell_type": "markdown",
   "metadata": {},
   "source": [
    "#### <span style='color:green'> 2. Relation between freedom from corruption and Happiness Score?\n",
    "\n",
    "<span style='background :#fffba8' >The correlation coefficient between globalization and Happiness Score is 0.78 indicating a positive relationship between the two.Hence we can conclude that genarally a highly globalized country tends to be happier. This might be due to fact that a highly globalized country will have more groth opportunities, will be well connected trade wise and economically across the globe, the employement rate would also be high which can inturn lead to people being happy."
   ]
  },
  {
   "cell_type": "markdown",
   "metadata": {},
   "source": [
    "## --------------------------------------------------------------------------------------------------------------------------"
   ]
  },
  {
   "cell_type": "markdown",
   "metadata": {},
   "source": [
    "### <span style='color:red'> Happiness Index for top 10 happiest and bottom 10 least happiest countries"
   ]
  },
  {
   "cell_type": "code",
   "execution_count": 488,
   "metadata": {},
   "outputs": [],
   "source": [
    "#filtering out top 10 happiest countries, sincet the data is already sorted accirding to the happiness values.\n",
    "final_df1=final_df.loc[:10]"
   ]
  },
  {
   "cell_type": "code",
   "execution_count": 489,
   "metadata": {},
   "outputs": [
    {
     "data": {
      "text/plain": [
       "<AxesSubplot:title={'center':'Happiness Scores across different countries'}, xlabel='Happiness_value', ylabel='Country'>"
      ]
     },
     "execution_count": 489,
     "metadata": {},
     "output_type": "execute_result"
    },
    {
     "data": {
      "image/png": "[encoded data removed]",
      "text/plain": [
       "<Figure size 720x504 with 1 Axes>"
      ]
     },
     "metadata": {
      "needs_background": "light"
     },
     "output_type": "display_data"
    }
   ],
   "source": [
    "#grouping by country taking the mean score and creating a new dataframe\n",
    "region=final_df1.groupby(['Country']).Happiness_value.mean()\n",
    "region_df=pd.DataFrame(data=region)\n",
    "#Sort values in accordance to happiness values (It already is but for comprehension doing the operation again)\n",
    "reg=region_df.sort_values(by='Happiness_value',ascending=False,axis=0)\n",
    "plt.figure(figsize=(10,7))\n",
    "plt.title('Happiness Scores across different countries')\n",
    "#Create the barplot\n",
    "sns.barplot(x='Happiness_value',y=reg.index,data=reg,palette='mako')"
   ]
  },
  {
   "cell_type": "markdown",
   "metadata": {},
   "source": [
    "#### <span style='color:green'> We can see that Finland is the happiest country with a value of 7.84 followed by Denmark with a happiness value of 7.62"
   ]
  },
  {
   "cell_type": "code",
   "execution_count": 501,
   "metadata": {},
   "outputs": [
    {
     "data": {
      "text/html": [
       "<div>\n",
       "<style scoped>\n",
       "    .dataframe tbody tr th:only-of-type {\n",
       "        vertical-align: middle;\n",
       "    }\n",
       "\n",
       "    .dataframe tbody tr th {\n",
       "        vertical-align: top;\n",
       "    }\n",
       "\n",
       "    .dataframe thead th {\n",
       "        text-align: right;\n",
       "    }\n",
       "</style>\n",
       "<table border=\"1\" class=\"dataframe\">\n",
       "  <thead>\n",
       "    <tr style=\"text-align: right;\">\n",
       "      <th></th>\n",
       "      <th>Happiness_value</th>\n",
       "    </tr>\n",
       "    <tr>\n",
       "      <th>Country</th>\n",
       "      <th></th>\n",
       "    </tr>\n",
       "  </thead>\n",
       "  <tbody>\n",
       "    <tr>\n",
       "      <th>Australia</th>\n",
       "      <td>7.18</td>\n",
       "    </tr>\n",
       "    <tr>\n",
       "      <th>Austria</th>\n",
       "      <td>7.27</td>\n",
       "    </tr>\n",
       "    <tr>\n",
       "      <th>Denmark</th>\n",
       "      <td>7.62</td>\n",
       "    </tr>\n",
       "    <tr>\n",
       "      <th>Finland</th>\n",
       "      <td>7.84</td>\n",
       "    </tr>\n",
       "    <tr>\n",
       "      <th>Iceland</th>\n",
       "      <td>7.55</td>\n",
       "    </tr>\n",
       "    <tr>\n",
       "      <th>Luxembourg</th>\n",
       "      <td>7.32</td>\n",
       "    </tr>\n",
       "    <tr>\n",
       "      <th>Netherlands</th>\n",
       "      <td>7.46</td>\n",
       "    </tr>\n",
       "    <tr>\n",
       "      <th>New Zealand</th>\n",
       "      <td>7.28</td>\n",
       "    </tr>\n",
       "    <tr>\n",
       "      <th>Norway</th>\n",
       "      <td>7.39</td>\n",
       "    </tr>\n",
       "    <tr>\n",
       "      <th>Sweden</th>\n",
       "      <td>7.36</td>\n",
       "    </tr>\n",
       "    <tr>\n",
       "      <th>Switzerland</th>\n",
       "      <td>7.57</td>\n",
       "    </tr>\n",
       "  </tbody>\n",
       "</table>\n",
       "</div>"
      ],
      "text/plain": [
       "             Happiness_value\n",
       "Country                     \n",
       "Australia               7.18\n",
       "Austria                 7.27\n",
       "Denmark                 7.62\n",
       "Finland                 7.84\n",
       "Iceland                 7.55\n",
       "Luxembourg              7.32\n",
       "Netherlands             7.46\n",
       "New Zealand             7.28\n",
       "Norway                  7.39\n",
       "Sweden                  7.36\n",
       "Switzerland             7.57"
      ]
     },
     "execution_count": 501,
     "metadata": {},
     "output_type": "execute_result"
    }
   ],
   "source": [
    "#data frame to view values accurately\n",
    "region_df"
   ]
  },
  {
   "cell_type": "markdown",
   "metadata": {},
   "source": [
    "Do the same process for bottom most 10 least happiest countries"
   ]
  },
  {
   "cell_type": "code",
   "execution_count": 484,
   "metadata": {},
   "outputs": [],
   "source": [
    "final_df2=final_df.loc[136:146]"
   ]
  },
  {
   "cell_type": "code",
   "execution_count": 487,
   "metadata": {},
   "outputs": [
    {
     "data": {
      "text/plain": [
       "<AxesSubplot:title={'center':'Happiness Scores across different regions'}, xlabel='Happiness_value', ylabel='Country'>"
      ]
     },
     "execution_count": 487,
     "metadata": {},
     "output_type": "execute_result"
    },
    {
     "data": {
      "image/png": "[encoded data removed]",
      "text/plain": [
       "<Figure size 720x504 with 1 Axes>"
      ]
     },
     "metadata": {
      "needs_background": "light"
     },
     "output_type": "display_data"
    }
   ],
   "source": [
    "region1=final_df2.groupby(['Country']).Happiness_value.mean()\n",
    "region1_df=pd.DataFrame(data=region1)\n",
    "reg1=region1_df.sort_values(by='Happiness_value',ascending=False,axis=0)\n",
    "plt.figure(figsize=(10,7))\n",
    "plt.title('Happiness Scores across different countries')\n",
    "sns.barplot(x='Happiness_value',y=reg1.index,data=reg1,palette='brg_r')"
   ]
  },
  {
   "cell_type": "markdown",
   "metadata": {},
   "source": [
    "#### <span style='color:green'> We can see that Afganisthan is the least happiest with happiness value of almost 2.6"
   ]
  },
  {
   "cell_type": "code",
   "execution_count": 500,
   "metadata": {},
   "outputs": [
    {
     "data": {
      "text/html": [
       "<div>\n",
       "<style scoped>\n",
       "    .dataframe tbody tr th:only-of-type {\n",
       "        vertical-align: middle;\n",
       "    }\n",
       "\n",
       "    .dataframe tbody tr th {\n",
       "        vertical-align: top;\n",
       "    }\n",
       "\n",
       "    .dataframe thead th {\n",
       "        text-align: right;\n",
       "    }\n",
       "</style>\n",
       "<table border=\"1\" class=\"dataframe\">\n",
       "  <thead>\n",
       "    <tr style=\"text-align: right;\">\n",
       "      <th></th>\n",
       "      <th>Happiness_value</th>\n",
       "    </tr>\n",
       "    <tr>\n",
       "      <th>Country</th>\n",
       "      <th></th>\n",
       "    </tr>\n",
       "  </thead>\n",
       "  <tbody>\n",
       "    <tr>\n",
       "      <th>Afghanistan</th>\n",
       "      <td>2.52</td>\n",
       "    </tr>\n",
       "    <tr>\n",
       "      <th>Botswana</th>\n",
       "      <td>3.47</td>\n",
       "    </tr>\n",
       "    <tr>\n",
       "      <th>C.A. Republic</th>\n",
       "      <td>3.48</td>\n",
       "    </tr>\n",
       "    <tr>\n",
       "      <th>Haiti</th>\n",
       "      <td>3.62</td>\n",
       "    </tr>\n",
       "    <tr>\n",
       "      <th>Lesotho</th>\n",
       "      <td>3.51</td>\n",
       "    </tr>\n",
       "    <tr>\n",
       "      <th>Malawi</th>\n",
       "      <td>3.60</td>\n",
       "    </tr>\n",
       "    <tr>\n",
       "      <th>Rwanda</th>\n",
       "      <td>3.42</td>\n",
       "    </tr>\n",
       "    <tr>\n",
       "      <th>Tanzania</th>\n",
       "      <td>3.62</td>\n",
       "    </tr>\n",
       "    <tr>\n",
       "      <th>Yemen</th>\n",
       "      <td>3.66</td>\n",
       "    </tr>\n",
       "    <tr>\n",
       "      <th>Zimbabwe</th>\n",
       "      <td>3.15</td>\n",
       "    </tr>\n",
       "  </tbody>\n",
       "</table>\n",
       "</div>"
      ],
      "text/plain": [
       "               Happiness_value\n",
       "Country                       \n",
       "Afghanistan               2.52\n",
       "Botswana                  3.47\n",
       "C.A. Republic             3.48\n",
       "Haiti                     3.62\n",
       "Lesotho                   3.51\n",
       "Malawi                    3.60\n",
       "Rwanda                    3.42\n",
       "Tanzania                  3.62\n",
       "Yemen                     3.66\n",
       "Zimbabwe                  3.15"
      ]
     },
     "execution_count": 500,
     "metadata": {},
     "output_type": "execute_result"
    }
   ],
   "source": [
    "#Data frame to read values accurately\n",
    "region1_df"
   ]
  },
  {
   "cell_type": "markdown",
   "metadata": {},
   "source": [
    "## --------------------------------------------------------------------------------------------------------------------------"
   ]
  },
  {
   "cell_type": "markdown",
   "metadata": {},
   "source": [
    "### <span style='color:red'>  Visualizing life expectancy of top 10 and bottom 10 countries"
   ]
  },
  {
   "cell_type": "code",
   "execution_count": 494,
   "metadata": {},
   "outputs": [
    {
     "data": {
      "text/plain": [
       "<AxesSubplot:title={'center':'Life_Expectancy Scores across different regions'}, xlabel='Life_Expectancy', ylabel='Country'>"
      ]
     },
     "execution_count": 494,
     "metadata": {},
     "output_type": "execute_result"
    },
    {
     "data": {
      "image/png": "[encoded data removed]",
      "text/plain": [
       "<Figure size 720x504 with 1 Axes>"
      ]
     },
     "metadata": {
      "needs_background": "light"
     },
     "output_type": "display_data"
    }
   ],
   "source": [
    "#grouping by country taking the mean life expectancy score and creating a new dataframe\n",
    "region3=final_df1.groupby(['Country']).Life_Expectancy.mean()\n",
    "region3_df=pd.DataFrame(data=region3)\n",
    "#sort values according to life expectancy \n",
    "reg3=region3_df.sort_values(by='Life_Expectancy',ascending=False,axis=0)\n",
    "plt.figure(figsize=(10,7))\n",
    "plt.title('Life_Expectancy Scores across different regions')\n",
    "#Plot the bar graph\n",
    "sns.barplot(x='Life_Expectancy',y=reg3.index,data=reg3,palette='Pastel1')"
   ]
  },
  {
   "cell_type": "code",
   "execution_count": 498,
   "metadata": {},
   "outputs": [
    {
     "data": {
      "text/html": [
       "<div>\n",
       "<style scoped>\n",
       "    .dataframe tbody tr th:only-of-type {\n",
       "        vertical-align: middle;\n",
       "    }\n",
       "\n",
       "    .dataframe tbody tr th {\n",
       "        vertical-align: top;\n",
       "    }\n",
       "\n",
       "    .dataframe thead th {\n",
       "        text-align: right;\n",
       "    }\n",
       "</style>\n",
       "<table border=\"1\" class=\"dataframe\">\n",
       "  <thead>\n",
       "    <tr style=\"text-align: right;\">\n",
       "      <th></th>\n",
       "      <th>Life_Expectancy</th>\n",
       "    </tr>\n",
       "    <tr>\n",
       "      <th>Country</th>\n",
       "      <th></th>\n",
       "    </tr>\n",
       "  </thead>\n",
       "  <tbody>\n",
       "    <tr>\n",
       "      <th>Australia</th>\n",
       "      <td>82.90</td>\n",
       "    </tr>\n",
       "    <tr>\n",
       "      <th>Austria</th>\n",
       "      <td>81.79</td>\n",
       "    </tr>\n",
       "    <tr>\n",
       "      <th>Denmark</th>\n",
       "      <td>81.20</td>\n",
       "    </tr>\n",
       "    <tr>\n",
       "      <th>Finland</th>\n",
       "      <td>81.79</td>\n",
       "    </tr>\n",
       "    <tr>\n",
       "      <th>Iceland</th>\n",
       "      <td>82.56</td>\n",
       "    </tr>\n",
       "    <tr>\n",
       "      <th>Luxembourg</th>\n",
       "      <td>82.45</td>\n",
       "    </tr>\n",
       "    <tr>\n",
       "      <th>Netherlands</th>\n",
       "      <td>82.01</td>\n",
       "    </tr>\n",
       "    <tr>\n",
       "      <th>New Zealand</th>\n",
       "      <td>81.71</td>\n",
       "    </tr>\n",
       "    <tr>\n",
       "      <th>Norway</th>\n",
       "      <td>82.91</td>\n",
       "    </tr>\n",
       "    <tr>\n",
       "      <th>Sweden</th>\n",
       "      <td>82.96</td>\n",
       "    </tr>\n",
       "    <tr>\n",
       "      <th>Switzerland</th>\n",
       "      <td>83.70</td>\n",
       "    </tr>\n",
       "  </tbody>\n",
       "</table>\n",
       "</div>"
      ],
      "text/plain": [
       "             Life_Expectancy\n",
       "Country                     \n",
       "Australia              82.90\n",
       "Austria                81.79\n",
       "Denmark                81.20\n",
       "Finland                81.79\n",
       "Iceland                82.56\n",
       "Luxembourg             82.45\n",
       "Netherlands            82.01\n",
       "New Zealand            81.71\n",
       "Norway                 82.91\n",
       "Sweden                 82.96\n",
       "Switzerland            83.70"
      ]
     },
     "execution_count": 498,
     "metadata": {},
     "output_type": "execute_result"
    }
   ],
   "source": [
    "#dataframe\n",
    "region3_df"
   ]
  },
  {
   "cell_type": "markdown",
   "metadata": {},
   "source": [
    "#### <span style='color:green'> we can see from the plot that that Switzerland and Sweden has the highest life expectancies "
   ]
  },
  {
   "cell_type": "markdown",
   "metadata": {},
   "source": [
    "doing the same things to determine the bottom most 10 countries in terms of life expectancy"
   ]
  },
  {
   "cell_type": "code",
   "execution_count": 497,
   "metadata": {},
   "outputs": [
    {
     "data": {
      "text/plain": [
       "<AxesSubplot:title={'center':'Life_Expectancy Scores across different regions'}, xlabel='Life_Expectancy', ylabel='Country'>"
      ]
     },
     "execution_count": 497,
     "metadata": {},
     "output_type": "execute_result"
    },
    {
     "data": {
      "image/png": "[encoded data removed]",
      "text/plain": [
       "<Figure size 720x504 with 1 Axes>"
      ]
     },
     "metadata": {
      "needs_background": "light"
     },
     "output_type": "display_data"
    }
   ],
   "source": [
    "#grouping by country taking the mean life expectancy score and creating a new dataframe\n",
    "region4=final_df2.groupby(['Country']).Life_Expectancy.mean()\n",
    "region4_df=pd.DataFrame(data=region4)\n",
    "#sort values according to life expectancy \n",
    "reg4=region4_df.sort_values(by='Life_Expectancy',ascending=False,axis=0)\n",
    "plt.figure(figsize=(10,7))\n",
    "plt.title('Life_Expectancy Scores across different regions')\n",
    "#Plot the bar graph\n",
    "sns.barplot(x='Life_Expectancy',y=reg4.index,data=reg4,palette='prism_r')"
   ]
  },
  {
   "cell_type": "markdown",
   "metadata": {},
   "source": [
    "####  <span style='color:green'>We can see from the graph that C.A Republic and Lesotho has the least life expectancy"
   ]
  },
  {
   "cell_type": "code",
   "execution_count": 499,
   "metadata": {},
   "outputs": [
    {
     "data": {
      "text/html": [
       "<div>\n",
       "<style scoped>\n",
       "    .dataframe tbody tr th:only-of-type {\n",
       "        vertical-align: middle;\n",
       "    }\n",
       "\n",
       "    .dataframe tbody tr th {\n",
       "        vertical-align: top;\n",
       "    }\n",
       "\n",
       "    .dataframe thead th {\n",
       "        text-align: right;\n",
       "    }\n",
       "</style>\n",
       "<table border=\"1\" class=\"dataframe\">\n",
       "  <thead>\n",
       "    <tr style=\"text-align: right;\">\n",
       "      <th></th>\n",
       "      <th>Life_Expectancy</th>\n",
       "    </tr>\n",
       "    <tr>\n",
       "      <th>Country</th>\n",
       "      <th></th>\n",
       "    </tr>\n",
       "  </thead>\n",
       "  <tbody>\n",
       "    <tr>\n",
       "      <th>Afghanistan</th>\n",
       "      <td>64.83</td>\n",
       "    </tr>\n",
       "    <tr>\n",
       "      <th>Botswana</th>\n",
       "      <td>69.59</td>\n",
       "    </tr>\n",
       "    <tr>\n",
       "      <th>C.A. Republic</th>\n",
       "      <td>53.28</td>\n",
       "    </tr>\n",
       "    <tr>\n",
       "      <th>Haiti</th>\n",
       "      <td>64.00</td>\n",
       "    </tr>\n",
       "    <tr>\n",
       "      <th>Lesotho</th>\n",
       "      <td>54.33</td>\n",
       "    </tr>\n",
       "    <tr>\n",
       "      <th>Malawi</th>\n",
       "      <td>64.26</td>\n",
       "    </tr>\n",
       "    <tr>\n",
       "      <th>Rwanda</th>\n",
       "      <td>69.02</td>\n",
       "    </tr>\n",
       "    <tr>\n",
       "      <th>Tanzania</th>\n",
       "      <td>65.46</td>\n",
       "    </tr>\n",
       "    <tr>\n",
       "      <th>Yemen</th>\n",
       "      <td>66.13</td>\n",
       "    </tr>\n",
       "    <tr>\n",
       "      <th>Zimbabwe</th>\n",
       "      <td>61.49</td>\n",
       "    </tr>\n",
       "  </tbody>\n",
       "</table>\n",
       "</div>"
      ],
      "text/plain": [
       "               Life_Expectancy\n",
       "Country                       \n",
       "Afghanistan              64.83\n",
       "Botswana                 69.59\n",
       "C.A. Republic            53.28\n",
       "Haiti                    64.00\n",
       "Lesotho                  54.33\n",
       "Malawi                   64.26\n",
       "Rwanda                   69.02\n",
       "Tanzania                 65.46\n",
       "Yemen                    66.13\n",
       "Zimbabwe                 61.49"
      ]
     },
     "execution_count": 499,
     "metadata": {},
     "output_type": "execute_result"
    }
   ],
   "source": [
    "#data frame\n",
    "region4_df"
   ]
  },
  {
   "cell_type": "markdown",
   "metadata": {},
   "source": [
    "# --------------------------------------------------------------------------------------------------------"
   ]
  }
 ],
 "metadata": {
  "kernelspec": {
   "display_name": "Python 3",
   "language": "python",
   "name": "python3"
  },
  "language_info": {
   "codemirror_mode": {
    "name": "ipython",
    "version": 3
   },
   "file_extension": ".py",
   "mimetype": "text/x-python",
   "name": "python",
   "nbconvert_exporter": "python",
   "pygments_lexer": "ipython3",
   "version": "3.8.5"
  }
 },
 "nbformat": 4,
 "nbformat_minor": 4
}
