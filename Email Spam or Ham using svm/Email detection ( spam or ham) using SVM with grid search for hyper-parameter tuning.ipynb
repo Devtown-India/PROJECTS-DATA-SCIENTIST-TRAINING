{
 "cells": [
  {
   "cell_type": "markdown",
   "metadata": {},
   "source": [
    "## Data\n",
    "- **The SMS (text) data was downloaded from UCI datasets.**\n",
    "- **It contains 5,574 SMS phone messages.**\n",
    "- **The data were collected for the purpose of mobile phone spam research and have already been labeled as either spam or ham**"
   ]
  },
  {
   "cell_type": "markdown",
   "metadata": {},
   "source": [
    "# Steps\n",
    "-  **Import all the necessary Libraries for analysis, Visualization, Algorithms**\n",
    "-   **Explore Data Analysis**\n",
    "-   **Using NLP stopwords, tokenization**\n",
    "-   **split the dataset**\n",
    "-   **Build the model** \n",
    "-   **Use statical model analysis perfrom classification report(Confusion matrix , cohhen_kappa_score, AUC, ROC,accuracy)**"
   ]
  },
  {
   "cell_type": "markdown",
   "metadata": {},
   "source": [
    "### Data Analysis\n",
    "\n",
    "> **PANDAS :**\n",
    "> - **Reference link for Pandas :** https://pandas.pydata.org/docs/reference/index.html \n",
    "    - Pandas provide high performance, fast, easy to use data structures and data analysis tools for manipulating numeric data and time series. Pandas is built on the numpy library and written in languages like Python, Cython, and C. In pandas, we can import data from various file formats like JSON, SQL, Microsoft Excel, etc.\n",
    ">    \n",
    "**NUMPY:**\n",
    "> - **Reference link for Numpy :**  https://numpy.org/doc/stable/reference/\n",
    "       - It is the fundamental library of python, used to perform scientific computing. It provides high-performance multidimensional arrays and tools to deal with them. A numpy array is a grid of values (of the same type) that are indexed by a tuple of positive integers, numpy arrays are fast, easy to understand, and give users the right to perform calculations across arrays.\n",
    "       \n",
    "       \n",
    " ### Data Visualizations\n",
    " - Data Visualization is the graphic representation of data. It converts a huge dataset into small graphs, thus aids in data analysis and predictions\n",
    "       \n",
    "**MATPLOTLIB**\n",
    ">-**Reference link for Matplotlib :** https://scipy-lectures.org/intro/matplotlib/index.html\n",
    "- It is a Python library used for plotting graphs with the help of other libraries like Numpy and Pandas. It is a powerful tool for visualizing data in Python. It is used for creating statical interferences and plotting 2D graphs of arrays\n",
    "\n",
    "**SEABORN:**\n",
    "> - **Reference link for Seaborn :** https://seaborn.pydata.org/api.html\n",
    "- It is also a Python library used for plotting graphs with the help of Matplotlib, Pandas, and Numpy. It is built on the roof of Matplotlib and is considered as a superset of the Matplotlib library. It helps in visualizing univariate and bivariate data\n",
    "\n",
    "**NLTK:**\n",
    "> - **Reference link fro NLTK is :** https://www.nltk.org/book/ch03.html\n",
    "> - pip install nltk to download the kit\n",
    "- It contains libraries and programs for statistical language processing.\n",
    "- It is one of the most powerful NLP libraries, which contains packages to make machines understand human language and reply to it with an appropriate response."
   ]
  },
  {
   "cell_type": "markdown",
   "metadata": {},
   "source": [
    "#### Import the modules needed."
   ]
  },
  {
   "cell_type": "code",
   "execution_count": 23,
   "metadata": {},
   "outputs": [],
   "source": [
    "# Import Pandas and NumPy\n",
    "\n",
    "\n",
    "# importing numpy be used as an efficient multi-dimensional container of generic data.\n",
    "import numpy as np  \n",
    "\n",
    "#importing pandas it allows you to perform data manipulation create, manipulate and wrangle the data in python.\n",
    "import pandas as pd\n",
    "\n",
    "\n",
    "#   ---------- # Visualizations---------\n",
    "\n",
    "# Import Libraries for plotting \n",
    "\n",
    "#Matplotlib is a Python 2D plotting library\n",
    "import matplotlib.pyplot as plt\n",
    "%matplotlib inline\n",
    "\n",
    "# Seaborn is high-level interface for drawing attractive and informative statistical graphics.\n",
    "import seaborn as sns\n",
    "\n",
    "\n",
    "# importing NLTK (Natrual Language Tool Kit)\n",
    "import nltk\n",
    "#importing stopwords\n",
    "from nltk.corpus import stopwords\n",
    "\n",
    "#import string\n",
    "import string\n",
    "\n",
    "\n",
    "# Supress Warnings\n",
    "import warnings\n",
    "warnings.filterwarnings('ignore')\n",
    "\n",
    "import re\n"
   ]
  },
  {
   "cell_type": "code",
   "execution_count": 6,
   "metadata": {},
   "outputs": [],
   "source": [
    "# Read the data of credit card fraud detection\n",
    "# Here file is CSV i.e Comma Seperated Values\n",
    "#df is a variable\n",
    "\n",
    "df = pd.read_csv(\"C:\\\\Users\\\\bharath\\\\Desktop\\\\SHAPEAI\\\\\\Project4\\\\spam.csv\")"
   ]
  },
  {
   "cell_type": "markdown",
   "metadata": {},
   "source": [
    "### EDA  (Exploratory Data Analysis) :\n",
    "- **head()**Understand your data using the head() function to look at the first few rows.\n",
    "- **shape()**Review the dimensions of your data with the shape property.\n",
    "- **info()**To know the information aboutvthe data\n",
    "- **Dtyes** Look at the data types for each attribute with the dtypes property.\n",
    "- **describe**Review the distribution of your data with the describe() function.\n",
    "- **Correlation** Calculate pairwise correlation between your variables using the corr() function."
   ]
  },
  {
   "cell_type": "code",
   "execution_count": 7,
   "metadata": {},
   "outputs": [
    {
     "data": {
      "text/html": [
       "<div>\n",
       "<style scoped>\n",
       "    .dataframe tbody tr th:only-of-type {\n",
       "        vertical-align: middle;\n",
       "    }\n",
       "\n",
       "    .dataframe tbody tr th {\n",
       "        vertical-align: top;\n",
       "    }\n",
       "\n",
       "    .dataframe thead th {\n",
       "        text-align: right;\n",
       "    }\n",
       "</style>\n",
       "<table border=\"1\" class=\"dataframe\">\n",
       "  <thead>\n",
       "    <tr style=\"text-align: right;\">\n",
       "      <th></th>\n",
       "      <th>Label</th>\n",
       "      <th>EmailText</th>\n",
       "    </tr>\n",
       "  </thead>\n",
       "  <tbody>\n",
       "    <tr>\n",
       "      <th>0</th>\n",
       "      <td>ham</td>\n",
       "      <td>Go until jurong point, crazy.. Available only ...</td>\n",
       "    </tr>\n",
       "    <tr>\n",
       "      <th>1</th>\n",
       "      <td>ham</td>\n",
       "      <td>Ok lar... Joking wif u oni...</td>\n",
       "    </tr>\n",
       "    <tr>\n",
       "      <th>2</th>\n",
       "      <td>spam</td>\n",
       "      <td>Free entry in 2 a wkly comp to win FA Cup fina...</td>\n",
       "    </tr>\n",
       "    <tr>\n",
       "      <th>3</th>\n",
       "      <td>ham</td>\n",
       "      <td>U dun say so early hor... U c already then say...</td>\n",
       "    </tr>\n",
       "    <tr>\n",
       "      <th>4</th>\n",
       "      <td>ham</td>\n",
       "      <td>Nah I don't think he goes to usf, he lives aro...</td>\n",
       "    </tr>\n",
       "  </tbody>\n",
       "</table>\n",
       "</div>"
      ],
      "text/plain": [
       "  Label                                          EmailText\n",
       "0   ham  Go until jurong point, crazy.. Available only ...\n",
       "1   ham                      Ok lar... Joking wif u oni...\n",
       "2  spam  Free entry in 2 a wkly comp to win FA Cup fina...\n",
       "3   ham  U dun say so early hor... U c already then say...\n",
       "4   ham  Nah I don't think he goes to usf, he lives aro..."
      ]
     },
     "execution_count": 7,
     "metadata": {},
     "output_type": "execute_result"
    }
   ],
   "source": [
    "df.head()\n",
    "#Understand your data using the head() function to look at the first few rows.\n",
    "\n",
    "# Checking the first 5 rows"
   ]
  },
  {
   "cell_type": "code",
   "execution_count": 8,
   "metadata": {},
   "outputs": [
    {
     "data": {
      "text/plain": [
       "ham     4825\n",
       "spam     747\n",
       "Name: Label, dtype: int64"
      ]
     },
     "execution_count": 8,
     "metadata": {},
     "output_type": "execute_result"
    }
   ],
   "source": [
    "df.Label.value_counts()"
   ]
  },
  {
   "cell_type": "markdown",
   "metadata": {},
   "source": [
    "#### shape \n",
    "- Know the shape of the dataset , how many rows and columns .\n",
    "- shape[0] is rows \n",
    "- shape[1] is columns "
   ]
  },
  {
   "cell_type": "code",
   "execution_count": 9,
   "metadata": {},
   "outputs": [
    {
     "name": "stdout",
     "output_type": "stream",
     "text": [
      "There are 5572 rows and 2 columns are present in the Data Set\n"
     ]
    }
   ],
   "source": [
    "\n",
    "print(\"There are {} rows and {} columns are present in the Data Set\".format(df.shape[0],df.shape[1]))\n",
    "\n",
    "#printing the rows and columns "
   ]
  },
  {
   "cell_type": "markdown",
   "metadata": {},
   "source": [
    "### info()\n",
    "> -This method prints information about a DataFrame including the index dtype and column dtypes, non-null values and memory usage"
   ]
  },
  {
   "cell_type": "code",
   "execution_count": 10,
   "metadata": {},
   "outputs": [
    {
     "name": "stdout",
     "output_type": "stream",
     "text": [
      "<class 'pandas.core.frame.DataFrame'>\n",
      "RangeIndex: 5572 entries, 0 to 5571\n",
      "Data columns (total 2 columns):\n",
      " #   Column     Non-Null Count  Dtype \n",
      "---  ------     --------------  ----- \n",
      " 0   Label      5572 non-null   object\n",
      " 1   EmailText  5572 non-null   object\n",
      "dtypes: object(2)\n",
      "memory usage: 87.2+ KB\n"
     ]
    }
   ],
   "source": [
    "df.info()\n",
    "\n",
    "# # To know the information of the dataset"
   ]
  },
  {
   "cell_type": "markdown",
   "metadata": {},
   "source": [
    "#### Note\n",
    "- By understanding the info() , we can say that all the columns are object type.\n",
    "- there is no null values are present, we can check the memory usage i.e 87.2+ KB"
   ]
  },
  {
   "cell_type": "code",
   "execution_count": 11,
   "metadata": {},
   "outputs": [
    {
     "data": {
      "text/plain": [
       "Label        object\n",
       "EmailText    object\n",
       "dtype: object"
      ]
     },
     "execution_count": 11,
     "metadata": {},
     "output_type": "execute_result"
    }
   ],
   "source": [
    "df.dtypes"
   ]
  },
  {
   "cell_type": "markdown",
   "metadata": {},
   "source": [
    "#### The describe() \n",
    "- Describe method from pandas provide a summary statistics"
   ]
  },
  {
   "cell_type": "code",
   "execution_count": 12,
   "metadata": {},
   "outputs": [
    {
     "data": {
      "text/html": [
       "<div>\n",
       "<style scoped>\n",
       "    .dataframe tbody tr th:only-of-type {\n",
       "        vertical-align: middle;\n",
       "    }\n",
       "\n",
       "    .dataframe tbody tr th {\n",
       "        vertical-align: top;\n",
       "    }\n",
       "\n",
       "    .dataframe thead th {\n",
       "        text-align: right;\n",
       "    }\n",
       "</style>\n",
       "<table border=\"1\" class=\"dataframe\">\n",
       "  <thead>\n",
       "    <tr style=\"text-align: right;\">\n",
       "      <th></th>\n",
       "      <th>Label</th>\n",
       "      <th>EmailText</th>\n",
       "    </tr>\n",
       "  </thead>\n",
       "  <tbody>\n",
       "    <tr>\n",
       "      <th>count</th>\n",
       "      <td>5572</td>\n",
       "      <td>5572</td>\n",
       "    </tr>\n",
       "    <tr>\n",
       "      <th>unique</th>\n",
       "      <td>2</td>\n",
       "      <td>5169</td>\n",
       "    </tr>\n",
       "    <tr>\n",
       "      <th>top</th>\n",
       "      <td>ham</td>\n",
       "      <td>Sorry, I'll call later</td>\n",
       "    </tr>\n",
       "    <tr>\n",
       "      <th>freq</th>\n",
       "      <td>4825</td>\n",
       "      <td>30</td>\n",
       "    </tr>\n",
       "  </tbody>\n",
       "</table>\n",
       "</div>"
      ],
      "text/plain": [
       "       Label               EmailText\n",
       "count   5572                    5572\n",
       "unique     2                    5169\n",
       "top      ham  Sorry, I'll call later\n",
       "freq    4825                      30"
      ]
     },
     "execution_count": 12,
     "metadata": {},
     "output_type": "execute_result"
    }
   ],
   "source": [
    "df.describe()"
   ]
  },
  {
   "cell_type": "markdown",
   "metadata": {},
   "source": [
    "**Note**\n",
    "- Let’s get the summary statistics and visualize the data. \n",
    "- The describe() method from pandas provide a summary statistics. Such as, there are 5,572 labels and messages. \n",
    "- There are two unique labels indicating for “ham” and “spam”.\n",
    "- We can also observe that there are less unique messages (5,169) than total message count(5,572) indicating some repeated messages.\n",
    "- The top label is “ham” and the top message in the data is “Sorry, I’ll call later”. \n",
    "- The duplicatedRow below shows, there are 403 duplicated messages."
   ]
  },
  {
   "cell_type": "code",
   "execution_count": 13,
   "metadata": {},
   "outputs": [
    {
     "data": {
      "text/html": [
       "<div>\n",
       "<style scoped>\n",
       "    .dataframe tbody tr th:only-of-type {\n",
       "        vertical-align: middle;\n",
       "    }\n",
       "\n",
       "    .dataframe tbody tr th {\n",
       "        vertical-align: top;\n",
       "    }\n",
       "\n",
       "    .dataframe thead th {\n",
       "        text-align: right;\n",
       "    }\n",
       "</style>\n",
       "<table border=\"1\" class=\"dataframe\">\n",
       "  <thead>\n",
       "    <tr style=\"text-align: right;\">\n",
       "      <th></th>\n",
       "      <th>Label</th>\n",
       "      <th>ham</th>\n",
       "      <th>spam</th>\n",
       "    </tr>\n",
       "  </thead>\n",
       "  <tbody>\n",
       "    <tr>\n",
       "      <th rowspan=\"4\" valign=\"top\">EmailText</th>\n",
       "      <th>count</th>\n",
       "      <td>4825</td>\n",
       "      <td>747</td>\n",
       "    </tr>\n",
       "    <tr>\n",
       "      <th>unique</th>\n",
       "      <td>4516</td>\n",
       "      <td>653</td>\n",
       "    </tr>\n",
       "    <tr>\n",
       "      <th>top</th>\n",
       "      <td>Sorry, I'll call later</td>\n",
       "      <td>Please call our customer service representativ...</td>\n",
       "    </tr>\n",
       "    <tr>\n",
       "      <th>freq</th>\n",
       "      <td>30</td>\n",
       "      <td>4</td>\n",
       "    </tr>\n",
       "  </tbody>\n",
       "</table>\n",
       "</div>"
      ],
      "text/plain": [
       "Label                                ham  \\\n",
       "EmailText count                     4825   \n",
       "          unique                    4516   \n",
       "          top     Sorry, I'll call later   \n",
       "          freq                        30   \n",
       "\n",
       "Label                                                          spam  \n",
       "EmailText count                                                 747  \n",
       "          unique                                                653  \n",
       "          top     Please call our customer service representativ...  \n",
       "          freq                                                    4  "
      ]
     },
     "execution_count": 13,
     "metadata": {},
     "output_type": "execute_result"
    }
   ],
   "source": [
    "df.groupby('Label').describe().T\n",
    "# Describe the Label column for better understanding"
   ]
  },
  {
   "cell_type": "markdown",
   "metadata": {},
   "source": [
    "### isnull()\n",
    "- To know the how many null values are present in the dataset"
   ]
  },
  {
   "cell_type": "code",
   "execution_count": 14,
   "metadata": {},
   "outputs": [
    {
     "data": {
      "text/plain": [
       "Label        0\n",
       "EmailText    0\n",
       "dtype: int64"
      ]
     },
     "execution_count": 14,
     "metadata": {},
     "output_type": "execute_result"
    }
   ],
   "source": [
    "df.isnull().sum()\n"
   ]
  },
  {
   "cell_type": "markdown",
   "metadata": {},
   "source": [
    "**Note**\n",
    "- There no null values are present in this spam detection dataset."
   ]
  },
  {
   "cell_type": "markdown",
   "metadata": {},
   "source": [
    "### Bar Graph :  \n",
    "> **Reference link for Bar Graph :** https://matplotlib.org/stable/api/_as_gen/matplotlib.pyplot.bar.html\n",
    "- Bar graph that plots data using rectangular bars or columns (called bins) that represent the total amount of observations in the data for that category.\n",
    "- We can draw in the form of vertical or horizontal rectangular bars.\n",
    "- It shows the relationship using two axes, in which the categories on one axis and the discrete values on the other axis.\n",
    "#### missingo \n",
    "> - **Reference link for missingo :** https://pypi.org/project/missingno/\n",
    "- To understand the distribution of missing values through informative visualization"
   ]
  },
  {
   "cell_type": "code",
   "execution_count": 15,
   "metadata": {},
   "outputs": [
    {
     "data": {
      "image/png": "[encoded data removed]",
      "text/plain": [
       "<Figure size 1728x720 with 3 Axes>"
      ]
     },
     "metadata": {
      "needs_background": "light"
     },
     "output_type": "display_data"
    }
   ],
   "source": [
    "#visualizing the null values for each attribute\n",
    "\n",
    "\n",
    "import missingno as msno\n",
    "\n",
    "#msgo ---->  It's also the name of a Python library for the exploratory visualization of missing data.\n",
    "\n",
    "msno.bar(df)\n",
    "#ploting the bar graph\n",
    "\n",
    "plt.show()\n",
    "#Show the image"
   ]
  },
  {
   "cell_type": "markdown",
   "metadata": {},
   "source": [
    "#### Note :\n",
    ">- There are no missing values in the credit card data set"
   ]
  },
  {
   "cell_type": "markdown",
   "metadata": {},
   "source": [
    "### countplot(): \n",
    "> - **Reference link for countplot:** https://seaborn.pydata.org/generated/seaborn.countplot.html\n",
    "- Countplot() method is used to Show the counts of observations in each categorical bin using bars.\n",
    "### Counter \n",
    "- Counter is a container which stores the count of elements in a dictionary format where element is the key and its value corrosponds to it's count."
   ]
  },
  {
   "cell_type": "code",
   "execution_count": 16,
   "metadata": {},
   "outputs": [
    {
     "name": "stdout",
     "output_type": "stream",
     "text": [
      "Counter({'ham': 4825, 'spam': 747})\n"
     ]
    },
    {
     "data": {
      "image/png": "[encoded data removed]",
      "text/plain": [
       "<Figure size 432x288 with 1 Axes>"
      ]
     },
     "metadata": {
      "needs_background": "light"
     },
     "output_type": "display_data"
    }
   ],
   "source": [
    "sns.countplot(x='Label', data = df)\n",
    "#is used to Show the counts of observations in each categorical bin using bar\n",
    "\n",
    "\n",
    "from collections import Counter\n",
    "#Counter is a container which stores the count of elements in a dictionary format where element is the key and its value corrosponds to it's count.\n",
    "\n",
    "counter = Counter( df [ 'Label' ])\n",
    "#passing 'Class' feature in the Counter , it tells no. of 1s and 0s present in the dataset\n",
    "\n",
    "print(counter)\n",
    "#print the counter variable\n",
    "\n"
   ]
  },
  {
   "cell_type": "markdown",
   "metadata": {},
   "source": [
    "**This indicates the imbalanced data had found**"
   ]
  },
  {
   "cell_type": "markdown",
   "metadata": {},
   "source": [
    "#### Duplicate() : \n",
    "> Reference link for duplicate() method is : https://pandas.pydata.org/docs/reference/api/pandas.DataFrame.duplicated.html\n",
    "     "
   ]
  },
  {
   "cell_type": "code",
   "execution_count": 17,
   "metadata": {},
   "outputs": [
    {
     "name": "stdout",
     "output_type": "stream",
     "text": [
      "     Label                                          EmailText\n",
      "102    ham  As per your request 'Melle Melle (Oru Minnamin...\n",
      "153    ham  As per your request 'Melle Melle (Oru Minnamin...\n",
      "206    ham  As I entered my cabin my PA said, '' Happy B'd...\n",
      "222    ham                             Sorry, I'll call later\n",
      "325    ham                   No calls..messages..missed calls\n",
      "...    ...                                                ...\n",
      "5524  spam  You are awarded a SiPix Digital Camera! call 0...\n",
      "5535   ham  I know you are thinkin malaria. But relax, chi...\n",
      "5539   ham                         Just sleeping..and surfing\n",
      "5553   ham                        Hahaha..use your brain dear\n",
      "5558   ham                             Sorry, I'll call later\n",
      "\n",
      "[403 rows x 2 columns]\n"
     ]
    }
   ],
   "source": [
    "duplicatedRow = df[df.duplicated()]\n",
    "print(duplicatedRow[:])"
   ]
  },
  {
   "cell_type": "markdown",
   "metadata": {},
   "source": [
    "**NOTE**\n",
    "- To know the duplicates on the data, There are 403 rows of duplicates "
   ]
  },
  {
   "cell_type": "markdown",
   "metadata": {},
   "source": [
    "#### Remove the duplicates"
   ]
  },
  {
   "cell_type": "code",
   "execution_count": 18,
   "metadata": {},
   "outputs": [],
   "source": [
    "#drop the duplicates by using duplicate maethod\n",
    "df.drop_duplicates(inplace = True)"
   ]
  },
  {
   "cell_type": "code",
   "execution_count": 19,
   "metadata": {},
   "outputs": [
    {
     "name": "stdout",
     "output_type": "stream",
     "text": [
      "There are 5169 rows and 2 columns are present in the Data Set\n"
     ]
    }
   ],
   "source": [
    "#show the new shape having number of rows and columns after duplication is dropped\n",
    "\n",
    "print(\"There are {} rows and {} columns are present in the Data Set\".format(df.shape[0],df.shape[1]))\n",
    "\n",
    "#printing the rows and columns "
   ]
  },
  {
   "cell_type": "markdown",
   "metadata": {},
   "source": [
    "**Note**\n",
    "> - **There are 403 duplicate records are present in the dataset so we are removed , now there is 5169 rows of data**"
   ]
  },
  {
   "cell_type": "markdown",
   "metadata": {},
   "source": [
    "### Pre-processing\n"
   ]
  },
  {
   "cell_type": "markdown",
   "metadata": {},
   "source": [
    "#### stop words -\n",
    ">  Repeating words are known as stop words\n",
    "- **How to remove stop words ?**\n",
    "- first convert all the words into lower case and using the method stopwords.word()"
   ]
  },
  {
   "cell_type": "code",
   "execution_count": 20,
   "metadata": {},
   "outputs": [],
   "source": [
    "from nltk.corpus import stopwords # for stop words"
   ]
  },
  {
   "cell_type": "code",
   "execution_count": 21,
   "metadata": {},
   "outputs": [],
   "source": [
    "\n",
    "\n",
    "def pre_processing(text):\n",
    "    \n",
    "    text = str(text).lower()  # Converted into lower case\n",
    "    \n",
    "    spl_char_text = re.sub(r'[^a-z]',' ',text) # removed numbers and special characters\n",
    "    \n",
    "    # remove aall punctuation\n",
    "    nopunc = [char for char in text if char not in string.punctuation]\n",
    "    nopunc = ''.join(nopunc)\n",
    "    \n",
    "    # remove all stop words\n",
    "    \n",
    "    clean_words = [word for word in nopunc.split() if word.lower() not in stopwords.words('english')]\n",
    "    \n",
    "    # return a list of clean text\n",
    "    return clean_words\n",
    "    \n"
   ]
  },
  {
   "cell_type": "code",
   "execution_count": null,
   "metadata": {},
   "outputs": [],
   "source": []
  },
  {
   "cell_type": "code",
   "execution_count": 24,
   "metadata": {},
   "outputs": [
    {
     "data": {
      "text/plain": [
       "0    [go, jurong, point, crazy, available, bugis, n...\n",
       "1                       [ok, lar, joking, wif, u, oni]\n",
       "2    [free, entry, 2, wkly, comp, win, fa, cup, fin...\n",
       "3        [u, dun, say, early, hor, u, c, already, say]\n",
       "4    [nah, dont, think, goes, usf, lives, around, t...\n",
       "Name: EmailText, dtype: object"
      ]
     },
     "execution_count": 24,
     "metadata": {},
     "output_type": "execute_result"
    }
   ],
   "source": [
    "df['EmailText'].head().apply(pre_processing)"
   ]
  },
  {
   "cell_type": "markdown",
   "metadata": {},
   "source": [
    "### CountVectorizer\n",
    ">- Reference link for CountVectorizer : https://scikit-learn.org/stable/modules/generated/sklearn.feature_extraction.text.CountVectorizer.html\n",
    "- It Convert a collection of text documents into a matrix of token counts"
   ]
  },
  {
   "cell_type": "code",
   "execution_count": 25,
   "metadata": {},
   "outputs": [],
   "source": [
    "from sklearn.feature_extraction.text import CountVectorizer\n",
    "#import a CountVectorizer"
   ]
  },
  {
   "cell_type": "code",
   "execution_count": 26,
   "metadata": {},
   "outputs": [],
   "source": [
    "# convvert a collection of EmailText to a matrix of tokens\n",
    "\n",
    "bow = CountVectorizer(analyzer= pre_processing).fit_transform(df['EmailText'],df['Label'])"
   ]
  },
  {
   "cell_type": "markdown",
   "metadata": {},
   "source": [
    "#### Dummies():\n",
    "- pd.get_dummies() is used for data manipulation. \n",
    "- It converts categorical data into dummy or indicator variables.\n",
    "Parameters:\n",
    "\n",
    "- data: whose data is to be manipulated.\n",
    "\n",
    "- columns: Column names in the DataFrame that needs to be encoded. Default value is None, If columns is None then all the columns with object or category dtype will be converted.\n",
    "\n",
    "- drop_first: Remove first level of dummies.\n",
    "- dtype: Data type for new columns. Only a single dtype is allowed. Default value is np.uint8.\n"
   ]
  },
  {
   "cell_type": "code",
   "execution_count": 29,
   "metadata": {},
   "outputs": [],
   "source": [
    " df1 = pd.get_dummies(df, columns=['Label'], drop_first=True)\n",
    "\n",
    "#spam = 1\n",
    "#Ham =0"
   ]
  },
  {
   "cell_type": "code",
   "execution_count": 30,
   "metadata": {},
   "outputs": [
    {
     "data": {
      "text/html": [
       "<div>\n",
       "<style scoped>\n",
       "    .dataframe tbody tr th:only-of-type {\n",
       "        vertical-align: middle;\n",
       "    }\n",
       "\n",
       "    .dataframe tbody tr th {\n",
       "        vertical-align: top;\n",
       "    }\n",
       "\n",
       "    .dataframe thead th {\n",
       "        text-align: right;\n",
       "    }\n",
       "</style>\n",
       "<table border=\"1\" class=\"dataframe\">\n",
       "  <thead>\n",
       "    <tr style=\"text-align: right;\">\n",
       "      <th></th>\n",
       "      <th>EmailText</th>\n",
       "      <th>Label_spam</th>\n",
       "    </tr>\n",
       "  </thead>\n",
       "  <tbody>\n",
       "    <tr>\n",
       "      <th>0</th>\n",
       "      <td>Go until jurong point, crazy.. Available only ...</td>\n",
       "      <td>0</td>\n",
       "    </tr>\n",
       "    <tr>\n",
       "      <th>1</th>\n",
       "      <td>Ok lar... Joking wif u oni...</td>\n",
       "      <td>0</td>\n",
       "    </tr>\n",
       "    <tr>\n",
       "      <th>2</th>\n",
       "      <td>Free entry in 2 a wkly comp to win FA Cup fina...</td>\n",
       "      <td>1</td>\n",
       "    </tr>\n",
       "    <tr>\n",
       "      <th>3</th>\n",
       "      <td>U dun say so early hor... U c already then say...</td>\n",
       "      <td>0</td>\n",
       "    </tr>\n",
       "    <tr>\n",
       "      <th>4</th>\n",
       "      <td>Nah I don't think he goes to usf, he lives aro...</td>\n",
       "      <td>0</td>\n",
       "    </tr>\n",
       "    <tr>\n",
       "      <th>...</th>\n",
       "      <td>...</td>\n",
       "      <td>...</td>\n",
       "    </tr>\n",
       "    <tr>\n",
       "      <th>5567</th>\n",
       "      <td>This is the 2nd time we have tried 2 contact u...</td>\n",
       "      <td>1</td>\n",
       "    </tr>\n",
       "    <tr>\n",
       "      <th>5568</th>\n",
       "      <td>Will Ã_ b going to esplanade fr home?</td>\n",
       "      <td>0</td>\n",
       "    </tr>\n",
       "    <tr>\n",
       "      <th>5569</th>\n",
       "      <td>Pity, * was in mood for that. So...any other s...</td>\n",
       "      <td>0</td>\n",
       "    </tr>\n",
       "    <tr>\n",
       "      <th>5570</th>\n",
       "      <td>The guy did some bitching but I acted like i'd...</td>\n",
       "      <td>0</td>\n",
       "    </tr>\n",
       "    <tr>\n",
       "      <th>5571</th>\n",
       "      <td>Rofl. Its true to its name</td>\n",
       "      <td>0</td>\n",
       "    </tr>\n",
       "  </tbody>\n",
       "</table>\n",
       "<p>5169 rows × 2 columns</p>\n",
       "</div>"
      ],
      "text/plain": [
       "                                              EmailText  Label_spam\n",
       "0     Go until jurong point, crazy.. Available only ...           0\n",
       "1                         Ok lar... Joking wif u oni...           0\n",
       "2     Free entry in 2 a wkly comp to win FA Cup fina...           1\n",
       "3     U dun say so early hor... U c already then say...           0\n",
       "4     Nah I don't think he goes to usf, he lives aro...           0\n",
       "...                                                 ...         ...\n",
       "5567  This is the 2nd time we have tried 2 contact u...           1\n",
       "5568             Will Ã_ b going to esplanade fr home?           0\n",
       "5569  Pity, * was in mood for that. So...any other s...           0\n",
       "5570  The guy did some bitching but I acted like i'd...           0\n",
       "5571                         Rofl. Its true to its name           0\n",
       "\n",
       "[5169 rows x 2 columns]"
      ]
     },
     "execution_count": 30,
     "metadata": {},
     "output_type": "execute_result"
    }
   ],
   "source": [
    "df1"
   ]
  },
  {
   "cell_type": "markdown",
   "metadata": {},
   "source": [
    "### Split the dataset into training and testing"
   ]
  },
  {
   "cell_type": "markdown",
   "metadata": {},
   "source": [
    "#### Train_Test_Split\n",
    "> - Reference link : https://scikit-learn.org/stable/modules/generated/sklearn.model_selection.train_test_split.html\n",
    "> - **Train-Test Split Evaluation**\n",
    "- The train-test split is a technique for evaluating the performance of a machine learning algorithm.\n",
    "\n",
    "- It can be used for classification or regression problems and can be used for any supervised learning algorithm.\n",
    "\n",
    "- The procedure involves taking a dataset and dividing it into two subsets. The first subset is used to fit the model and is referred to as the training dataset. The second subset is not used to train the model; instead, the input element of the dataset is provided to the model, then predictions are made and compared to the expected values. This second dataset is referred to as the test dataset.\n",
    "\n",
    "- Train Dataset: Used to fit the machine learning model.\n",
    "- Test Dataset: Used to evaluate the fit machine learning model.\n",
    "- The objective is to estimate the performance of the machine learning model on new data: data not used to train the model.\n",
    "\n",
    ">  common split percentages include:\n",
    "\n",
    "- Train: 80%, Test: 20%\n",
    "- Train: 67%, Test: 33%\n",
    "- Train: 50%, Test: 50%"
   ]
  },
  {
   "cell_type": "code",
   "execution_count": 31,
   "metadata": {},
   "outputs": [
    {
     "data": {
      "text/plain": [
       "(5169, 9431)"
      ]
     },
     "execution_count": 31,
     "metadata": {},
     "output_type": "execute_result"
    }
   ],
   "source": [
    "#Lets check the shape of the data, after pre_process,removed stopwords\n",
    "bow.shape"
   ]
  },
  {
   "cell_type": "code",
   "execution_count": 32,
   "metadata": {},
   "outputs": [],
   "source": [
    "\n",
    "#importing train_test_split\n",
    "from sklearn.model_selection import train_test_split\n",
    "\n",
    "## split into train tests sets\n",
    "x_train,x_test,y_train,y_test=train_test_split(bow,df1[\"Label_spam\"],test_size=0.2)"
   ]
  },
  {
   "cell_type": "markdown",
   "metadata": {},
   "source": [
    "### Build the model"
   ]
  },
  {
   "attachments": {
    "support-vector-machine-algorithm.png": {
     "image/png": "[encoded data removed]"
    }
   },
   "cell_type": "markdown",
   "metadata": {},
   "source": [
    "###  Support Vector Machine\n",
    "\n",
    "> - Reference link for SVM is : https://scikit-learn.org/stable/modules/generated/sklearn.svm.SVC.html\n",
    "- Support Vector Machine or SVM is one of the most popular Supervised Learning algorithms, which is used for Classification as well as Regression problems. However, primarily, it is used for Classification problems in Machine Learning.\n",
    "\n",
    "- The goal of the SVM algorithm is to create the best line or decision boundary that can segregate n-dimensional space into classes so that we can easily put the new data point in the correct category in the future. This best decision boundary is called a hyperplane.\n",
    "\n",
    "- SVM chooses the extreme points/vectors that help in creating the hyperplane. These extreme cases are called as support vectors, and hence algorithm is termed as Support Vector Machine. \n",
    "\n",
    "\n",
    "\n",
    "![support-vector-machine-algorithm.png](attachment:support-vector-machine-algorithm.png)"
   ]
  },
  {
   "cell_type": "markdown",
   "metadata": {},
   "source": [
    "### GridSearchCV\n",
    ">- Reference link for GridSearhCV is : https://scikit-learn.org/stable/modules/grid_search.html\n",
    "- A Machine Learning model is defined as a mathematical model with a number of parameters that need to be learned from the data. \n",
    "- However, there are some parameters, known as Hyperparameters and those cannot be directly learned. They are commonly chosen by human based on some intuition or hit and trial before the actual training begins.\n",
    "- These parameters exhibits their importance by improving performance of the model such as its complexity or its learning rate.\n",
    "- Models can have many hyper-parameters and finding the best combination of parameters can be treated as a search problem.\n",
    "\n",
    "> - Parameters are :\n",
    "- Kernel   ----> choose the best Kernel \n",
    "- gamma    ----> how far the influence of a single training\n",
    "- C        ----> C parameter trades off correct classification of training\n",
    "        "
   ]
  },
  {
   "cell_type": "code",
   "execution_count": 33,
   "metadata": {},
   "outputs": [],
   "source": [
    "# import the SVM\n",
    "\n",
    "from sklearn import svm\n",
    "\n",
    "#import GridSearchCV to know the best parameters\n",
    "from sklearn.model_selection import GridSearchCV"
   ]
  },
  {
   "cell_type": "code",
   "execution_count": 34,
   "metadata": {},
   "outputs": [
    {
     "name": "stdout",
     "output_type": "stream",
     "text": [
      "{'C': 100, 'gamma': 0.001, 'kernel': 'rbf'}\n"
     ]
    }
   ],
   "source": [
    "##Step: Build a model\n",
    "\n",
    "# Tunne all the parameters\n",
    "tuned_parameters = {'kernel': ['rbf','linear'], 'gamma': [1e-3, 1e-4],\n",
    "                     'C': [1, 10, 100, 1000]}\n",
    "\n",
    "#train the model with  perfrom all kernels, gamma, C \n",
    "model = GridSearchCV(svm.SVC(), tuned_parameters)\n",
    "\n",
    "#Build the model and fit to train and test\n",
    "\n",
    "model.fit(x_train,y_train)\n",
    "\n",
    "\n",
    "#See the best parameters\n",
    "print(model.best_params_)"
   ]
  },
  {
   "cell_type": "markdown",
   "metadata": {},
   "source": [
    "### NOTE : Best Parameters are :\n",
    "> - **'C':       100**\n",
    "> - **'gamma':   0.001**\n",
    "> - **'kernel':  'rbf'**"
   ]
  },
  {
   "cell_type": "code",
   "execution_count": 35,
   "metadata": {},
   "outputs": [],
   "source": [
    "#Train the model, using the best parameters\n",
    "\n",
    "model1=svm.SVC(C= 100, gamma= 0.001, kernel= 'rbf',probability=True)"
   ]
  },
  {
   "cell_type": "code",
   "execution_count": 36,
   "metadata": {},
   "outputs": [
    {
     "data": {
      "text/plain": [
       "SVC(C=100, break_ties=False, cache_size=200, class_weight=None, coef0=0.0,\n",
       "    decision_function_shape='ovr', degree=3, gamma=0.001, kernel='rbf',\n",
       "    max_iter=-1, probability=True, random_state=None, shrinking=True, tol=0.001,\n",
       "    verbose=False)"
      ]
     },
     "execution_count": 36,
     "metadata": {},
     "output_type": "execute_result"
    }
   ],
   "source": [
    "# fit the model on x_train, y_train\n",
    "model1.fit(x_train,y_train)"
   ]
  },
  {
   "cell_type": "code",
   "execution_count": 51,
   "metadata": {},
   "outputs": [],
   "source": [
    "#predict the model on test \n",
    "y_pred=model1.predict(x_test)"
   ]
  },
  {
   "cell_type": "code",
   "execution_count": 52,
   "metadata": {},
   "outputs": [],
   "source": [
    "#predict the models and probabilities\n",
    "y_pred_proba=model1.predict_proba(x_test)[:,1]"
   ]
  },
  {
   "cell_type": "code",
   "execution_count": 53,
   "metadata": {},
   "outputs": [
    {
     "data": {
      "text/plain": [
       "array([0.00053274, 0.00220692, 0.01705265, ..., 0.00079616, 0.00515363,\n",
       "       0.00305332])"
      ]
     },
     "execution_count": 53,
     "metadata": {},
     "output_type": "execute_result"
    }
   ],
   "source": [
    "#check the all probabilities\n",
    "y_pred_proba"
   ]
  },
  {
   "attachments": {
    "Interpretation-of-Kappa-Statistic-21.png": {
     "image/png": "[encoded data removed]"
    }
   },
   "cell_type": "markdown",
   "metadata": {},
   "source": [
    "### Classification Matrix \n",
    ">  **Confusion matrix**\n",
    "\n",
    "> - **Reference link for Confusion Matrix** - https://scikit-learn.org/stable/modules/generated/sklearn.metrics.confusion_matrix.html\n",
    "- A confusion matrix is a table that is often used to describe the performance of a classification model \n",
    "- true positives (TP): These are cases in which we predicted yes (they have the disease), and they do have the disease.\n",
    "- true negatives (TN): We predicted no, and they don't have the disease.\n",
    "- false positives (FP): We predicted yes, but they don't actually have the disease. (Also known as a \"Type I error.\")\n",
    "- false negatives (FN): We predicted no, but they actually do have the disease. (Also known as a \"Type II error.\")\n",
    "\n",
    "\n",
    "> \n",
    "\n",
    "> - precision - What proportion of positive identifications was actually correct?\n",
    "> - recall - What proportion of actual positives was identified correctly?\n",
    ">\n",
    "\n",
    "> **F1 Score**\n",
    "- F1 Score is the weighted average of Precision and Recall\n",
    "-  F1 is usually more useful than accuracy, especially if you have an uneven class distribution.\n",
    "\n",
    "\n",
    "### Note : \n",
    "\n",
    "> Kappa Score : \n",
    "-  It can also be used to assess the performance of a classification model.\n",
    "-  we know that Cohen’s kappa is a useful evaluation metric when dealing with imbalanced data\n",
    "- Cohen's kappa coefficient (κ) is a statistic that is used to measure inter-rater reliability\n",
    "- Cohen’s kappa tries to correct the evaluation bias by taking into account the correct classification by a random guess\n",
    "\n",
    "![Interpretation-of-Kappa-Statistic-21.png](attachment:Interpretation-of-Kappa-Statistic-21.png)\n",
    "   \n",
    "\n",
    "\n",
    "> AUC \n",
    "- Its provies an aggregative measure of performance occurs all posibile classification thresholds\n",
    "- it talks about linearty about the dataset\n",
    "- AUC starts from 0 to 1\n",
    "- The higher the AUC, the better the performance of the model at distinguishing between the positive and negative classes.\n",
    ">\n",
    "\n",
    "> ROC (Receiver Operating Characterstic curve):\n",
    "- It shows the performance of the model through all thresholds\n",
    "- curve plot between two parameters\n",
    "> Tpr (Sensivity)\n",
    ">Fpr  (specifity)\n"
   ]
  },
  {
   "cell_type": "code",
   "execution_count": 54,
   "metadata": {},
   "outputs": [],
   "source": [
    "#import the libraries for stats metrices\n",
    "import numpy as np\n",
    "\n",
    "#importing the Confusion matrix metrics and classification reports\n",
    "from sklearn.metrics import confusion_matrix, classification_report\n",
    "\n",
    "#Importing cohen_kappa_score and roc_auc_score metrices\n",
    "from sklearn.metrics import cohen_kappa_score, roc_auc_score\n",
    "from sklearn.metrics import roc_curve, auc\n",
    "\n",
    "#importing visualizing library\n",
    "import matplotlib.pyplot as plt\n",
    "import seaborn as sns\n",
    "\n",
    "#logloss to check is there loss or difference\n",
    "from sklearn.metrics import log_loss\n",
    "\n",
    "#Creating a Function name called Classification Metric\n",
    "def classification_metric(y_test,y_pred,y_prob,label,n=1,verbose=False):\n",
    "    \"\"\"\n",
    "    Note: only for binary classification\n",
    "    confusionmatrix(y_true,y_pred,labels=['Ham','Spam'])\n",
    "    \"\"\"\n",
    "    # confusion matrix\n",
    "    \n",
    "    cm = confusion_matrix(y_test,y_pred)\n",
    "    row_sum = cm.sum(axis=0)\n",
    "    cm = np.append(cm,row_sum.reshape(1,-1),axis=0)\n",
    "    col_sum = cm.sum(axis=1)\n",
    "    cm = np.append(cm,col_sum.reshape(-1,1),axis=1)\n",
    "\n",
    "    labels = label+['Total']\n",
    "    \n",
    "    plt.figure(figsize=(10,6))\n",
    "    #plotting a fig size as 10 width and 6 height\n",
    "    \n",
    "    \n",
    "    sns.heatmap(cm,annot=True,cmap='summer',fmt='0.2f',xticklabels=labels,\n",
    "                yticklabels=labels,linewidths=3,cbar=None,)\n",
    "    #create a heapmap using seaborn libarary and used various parametere\n",
    "\n",
    "    plt.xlabel('Predicted Values')\n",
    "    #ploting the values on x- axis as Predicted values\n",
    "    \n",
    "    plt.ylabel('Actual Values')\n",
    "    #ploting the values on y- axis as actual values\n",
    "    \n",
    "    plt.title('Confusion Matrix')\n",
    "    # Mentioning the title of the figure\n",
    "    \n",
    "    plt.show()\n",
    "    #show the image\n",
    "    \n",
    "    print('*'*30+'Classifcation Report'+'*'*30+'\\n\\n')\n",
    "    #showing * are to put a  line to style\n",
    "    \n",
    "    #created classification report\n",
    "    cr = classification_report(y_test,y_pred)\n",
    "    \n",
    "    #print the classifiaction report\n",
    "    print(cr)\n",
    "    \n",
    "    print('\\n'+'*'*36+'Kappa Score'+'*'*36+'\\n\\n')\n",
    "    \n",
    "    \n",
    "    # Kappa score\n",
    "    kappa = cohen_kappa_score(y_test,y_pred) # Kappa Score\n",
    "    print('Kappa Score =',kappa)\n",
    "    \n",
    "    print('\\n'+'*'*30+'Area Under Curve Score'+'*'*30+'\\n\\n')\n",
    "    # Kappa score\n",
    "    roc_a = roc_auc_score(y_test,y_pred) # Kappa Score\n",
    "    print('AUC Score =',roc_a)\n",
    "    \n",
    "    # ROC\n",
    "    \n",
    "    \n",
    "    plt.figure(figsize=(8,5))\n",
    "    #plot the figuare based on width and height sizes\n",
    "    \n",
    "    fpr,tpr, thresh = roc_curve(y_test,y_prob)\n",
    "    #fpr false positive rate\n",
    "    #tpr true positive rate\n",
    "    \n",
    "    plt.plot(fpr,tpr,'r')\n",
    "    print('Number of probabilities to build ROC =',len(fpr))\n",
    "    if verbose == True:\n",
    "        for i in range(len(thresh)):\n",
    "            if i%n == 0:\n",
    "                plt.text(fpr[i],tpr[i],'%0.2f'%thresh[i])\n",
    "                plt.plot(fpr[i],tpr[i],'v')\n",
    "\n",
    "\n",
    "    plt.xlabel('False Positive Rate')\n",
    "    #fpr on x -axis \n",
    "    \n",
    "    plt.ylabel('True Positive Rate')\n",
    "    #tpr on y axis\n",
    "    \n",
    "    plt.title('Receiver Operating Characterstic')\n",
    "    #mentioning the title of the figuare\n",
    "    \n",
    "    plt.legend(['AUC = {}'.format(roc_a)])\n",
    "    #assign the legend to the figuare\n",
    "    \n",
    "    plt.plot([0,1],[0,1],'b--',linewidth=2.0)\n",
    "    #mentioning then line width as 2.0\n",
    "    \n",
    "    plt.grid()\n",
    "    # show the grid lines to the image\n",
    "    \n",
    "    plt.show()\n",
    "    #display the image\n",
    "    \n",
    "  # A point beyond which there is a change in the manner a program executes  \n",
    "class threshold():\n",
    "    '''\n",
    "    Setting up the threshold points\n",
    "    '''\n",
    "    def __init__(self):\n",
    "        self.th = 0.5\n",
    "        \n",
    "    def predict_threshold(self,y):\n",
    "        if y >= self.th:\n",
    "            return 1\n",
    "        else:\n",
    "            return 0"
   ]
  },
  {
   "cell_type": "code",
   "execution_count": 56,
   "metadata": {},
   "outputs": [
    {
     "data": {
      "image/png": "[encoded data removed]",
      "text/plain": [
       "<Figure size 720x432 with 1 Axes>"
      ]
     },
     "metadata": {
      "needs_background": "light"
     },
     "output_type": "display_data"
    },
    {
     "name": "stdout",
     "output_type": "stream",
     "text": [
      "******************************Classifcation Report******************************\n",
      "\n",
      "\n",
      "              precision    recall  f1-score   support\n",
      "\n",
      "           0       0.98      0.99      0.99       899\n",
      "           1       0.96      0.84      0.90       135\n",
      "\n",
      "    accuracy                           0.97      1034\n",
      "   macro avg       0.97      0.92      0.94      1034\n",
      "weighted avg       0.97      0.97      0.97      1034\n",
      "\n",
      "\n",
      "************************************Kappa Score************************************\n",
      "\n",
      "\n",
      "Kappa Score = 0.8833696302916193\n",
      "\n",
      "******************************Area Under Curve Score******************************\n",
      "\n",
      "\n",
      "AUC Score = 0.9194413545915215\n",
      "Number of probabilities to build ROC = 54\n"
     ]
    },
    {
     "data": {
      "image/png": "[encoded data removed]",
      "text/plain": [
       "<Figure size 576x360 with 1 Axes>"
      ]
     },
     "metadata": {
      "needs_background": "light"
     },
     "output_type": "display_data"
    }
   ],
   "source": [
    "#Calling the Classification_metric function. It will displays all the metrices which are we created earlier\n",
    "\n",
    "classification_metric(y_test,y_pred,y_pred_proba,['ham','spam'],n=10,verbose=True)\n",
    "\n",
    "# VERBOSE : This flag allows you to write regular expressions that look nicer and are more readable by allowing you to visually separate logical sections of the pattern and add comments."
   ]
  },
  {
   "cell_type": "markdown",
   "metadata": {},
   "source": [
    "## Note :- \n",
    "> - **Accuracy** - 0.97\n",
    "> - **Kappa Score** - 0.88\n",
    "> - **AUC SCORE** -   0.91\n"
   ]
  },
  {
   "cell_type": "code",
   "execution_count": null,
   "metadata": {},
   "outputs": [],
   "source": []
  }
 ],
 "metadata": {
  "kernelspec": {
   "display_name": "Python 3",
   "language": "python",
   "name": "python3"
  },
  "language_info": {
   "codemirror_mode": {
    "name": "ipython",
    "version": 3
   },
   "file_extension": ".py",
   "mimetype": "text/x-python",
   "name": "python",
   "nbconvert_exporter": "python",
   "pygments_lexer": "ipython3",
   "version": "3.7.3"
  }
 },
 "nbformat": 4,
 "nbformat_minor": 2
}
