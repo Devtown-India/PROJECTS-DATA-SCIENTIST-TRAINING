{
  "nbformat": 4,
  "nbformat_minor": 0,
  "metadata": {
    "kernelspec": {
      "language": "python",
      "display_name": "Python 3",
      "name": "python3"
    },
    "language_info": {
      "name": "python",
      "version": "3.7.10",
      "mimetype": "text/x-python",
      "codemirror_mode": {
        "name": "ipython",
        "version": 3
      },
      "pygments_lexer": "ipython3",
      "nbconvert_exporter": "python",
      "file_extension": ".py"
    },
    "colab": {
      "name": "text_summarizer.ipynb",
      "provenance": [],
      "collapsed_sections": []
    }
  },
  "cells": [
    {
      "cell_type": "code",
      "metadata": {
        "_uuid": "8f2839f25d086af736a60e9eeb907d3b93b6e0e5",
        "_cell_guid": "b1076dfc-b9ad-4769-8c92-a6c4dae69d19",
        "execution": {
          "iopub.status.busy": "2021-07-11T19:38:08.324424Z",
          "iopub.execute_input": "2021-07-11T19:38:08.324995Z",
          "iopub.status.idle": "2021-07-11T19:38:14.848543Z",
          "shell.execute_reply.started": "2021-07-11T19:38:08.324853Z",
          "shell.execute_reply": "2021-07-11T19:38:14.847262Z"
        },
        "trusted": true,
        "id": "NYgazCfmQCCC"
      },
      "source": [
        "import re\n",
        "import os\n",
        "import time\n",
        "import pandas as pd\n",
        "import numpy as np\n",
        "import tensorflow as tf\n",
        "import matplotlib.pyplot as plt\n",
        "from tensorflow.compat.v1 import ConfigProto, InteractiveSession\n",
        "from sklearn.model_selection import train_test_split\n",
        "from tensorflow.keras.preprocessing.text import Tokenizer\n",
        "from tensorflow.keras.preprocessing.sequence import pad_sequences"
      ],
      "execution_count": null,
      "outputs": []
    },
    {
      "cell_type": "markdown",
      "metadata": {
        "id": "xNB1xuljnU5v"
      },
      "source": [
        "# Context\n",
        "Text summarization is a way to condense the large amount of information into a concise form by the process of selection of important information and discarding unimportant and redundant information. With the amount of textual information present in the world wide web the area of text summarization is becoming very important. The extractive summarization is the one where the exact sentences present in the document are used as summaries. The extractive summarization is simpler and is the general practice among the automatic text summarization researchers at the present time. Extractive summarization process involves giving scores to sentences using some method and then using the sentences that achieve highest scores as summaries. As the exact sentence present in the document is used the semantic factor can be ignored which results in generation of less calculation intensive summarization procedure. This kind of summary is generally completely unsupervised and language independent too. Although this kind of summary does its job in conveying the essential information it may not be necessarily smooth or fluent. Sometimes there can be almost no connection between adjacent sentences in the summary resulting in the text lacking in readability.\n",
        "\n",
        "# Content\n",
        "This dataset for extractive text summarization has four hundred and seventeen political news articles of BBC from 2004 to 2005 in the News Articles folder. For each articles, five summaries are provided in the Summaries folder. The first clause of the text of articles is the respective title."
      ]
    },
    {
      "cell_type": "code",
      "metadata": {
        "id": "mO5f5FHvncs_"
      },
      "source": [
        ""
      ],
      "execution_count": null,
      "outputs": []
    },
    {
      "cell_type": "code",
      "metadata": {
        "execution": {
          "iopub.status.busy": "2021-07-11T19:38:14.850671Z",
          "iopub.execute_input": "2021-07-11T19:38:14.851304Z",
          "iopub.status.idle": "2021-07-11T19:38:29.501173Z",
          "shell.execute_reply.started": "2021-07-11T19:38:14.851259Z",
          "shell.execute_reply": "2021-07-11T19:38:29.500116Z"
        },
        "trusted": true,
        "id": "HKLOkFoWQCCD",
        "outputId": "e8acdad3-7c44-4965-cca0-4bc2dfceb764"
      },
      "source": [
        "classes = os.listdir('../input/bbc-news-summary/BBC News Summary/News Articles')\n",
        "Articles_dir = '../input/bbc-news-summary/BBC News Summary/News Articles/'\n",
        "Summaries_dir = '../input/bbc-news-summary/BBC News Summary/Summaries/'\n",
        "\n",
        "articles = []\n",
        "summaries = []\n",
        "file_arr = []\n",
        "for cls in classes:\n",
        "    files = os.listdir(Articles_dir + cls)\n",
        "    for file in files:\n",
        "        article_file_path = Articles_dir + cls + '/' + file\n",
        "        summary_file_path = Summaries_dir + cls + '/' + file\n",
        "        try:\n",
        "            with open (article_file_path,'r') as f:\n",
        "                articles.append('.'.join([line.rstrip() for line in f.readlines()]))\n",
        "            with open (summary_file_path,'r') as f:\n",
        "                summaries.append('.'.join([line.rstrip() for line in f.readlines()]))\n",
        "            file_arr.append(cls + '/' + file)\n",
        "        except:\n",
        "            pass\n",
        "            \n",
        "dataset = pd.DataFrame({'File_path':file_arr,'Articles': articles,'Summaries':summaries})\n",
        "# dataset['Articles'][0]\n",
        "dataset.head()"
      ],
      "execution_count": null,
      "outputs": [
        {
          "output_type": "execute_result",
          "data": {
            "text/plain": [
              "          File_path                                           Articles  \\\n",
              "0  politics/361.txt  Budget to set scene for election..Gordon Brown...   \n",
              "1  politics/245.txt  Army chiefs in regiments decision..Military ch...   \n",
              "2  politics/141.txt  Howard denies split over ID cards..Michael How...   \n",
              "3  politics/372.txt  Observers to monitor UK election..Ministers wi...   \n",
              "4  politics/333.txt  Kilroy names election seat target..Ex-chat sho...   \n",
              "\n",
              "                                           Summaries  \n",
              "0  - Increase in the stamp duty threshold from £6...  \n",
              "1  \"They are very much not for the good and will ...  \n",
              "2  Michael Howard has denied his shadow cabinet w...  \n",
              "3  The report said individual registration should...  \n",
              "4  UKIP's leader, Roger Knapman, has said he is g...  "
            ],
            "text/html": [
              "<div>\n",
              "<style scoped>\n",
              "    .dataframe tbody tr th:only-of-type {\n",
              "        vertical-align: middle;\n",
              "    }\n",
              "\n",
              "    .dataframe tbody tr th {\n",
              "        vertical-align: top;\n",
              "    }\n",
              "\n",
              "    .dataframe thead th {\n",
              "        text-align: right;\n",
              "    }\n",
              "</style>\n",
              "<table border=\"1\" class=\"dataframe\">\n",
              "  <thead>\n",
              "    <tr style=\"text-align: right;\">\n",
              "      <th></th>\n",
              "      <th>File_path</th>\n",
              "      <th>Articles</th>\n",
              "      <th>Summaries</th>\n",
              "    </tr>\n",
              "  </thead>\n",
              "  <tbody>\n",
              "    <tr>\n",
              "      <th>0</th>\n",
              "      <td>politics/361.txt</td>\n",
              "      <td>Budget to set scene for election..Gordon Brown...</td>\n",
              "      <td>- Increase in the stamp duty threshold from £6...</td>\n",
              "    </tr>\n",
              "    <tr>\n",
              "      <th>1</th>\n",
              "      <td>politics/245.txt</td>\n",
              "      <td>Army chiefs in regiments decision..Military ch...</td>\n",
              "      <td>\"They are very much not for the good and will ...</td>\n",
              "    </tr>\n",
              "    <tr>\n",
              "      <th>2</th>\n",
              "      <td>politics/141.txt</td>\n",
              "      <td>Howard denies split over ID cards..Michael How...</td>\n",
              "      <td>Michael Howard has denied his shadow cabinet w...</td>\n",
              "    </tr>\n",
              "    <tr>\n",
              "      <th>3</th>\n",
              "      <td>politics/372.txt</td>\n",
              "      <td>Observers to monitor UK election..Ministers wi...</td>\n",
              "      <td>The report said individual registration should...</td>\n",
              "    </tr>\n",
              "    <tr>\n",
              "      <th>4</th>\n",
              "      <td>politics/333.txt</td>\n",
              "      <td>Kilroy names election seat target..Ex-chat sho...</td>\n",
              "      <td>UKIP's leader, Roger Knapman, has said he is g...</td>\n",
              "    </tr>\n",
              "  </tbody>\n",
              "</table>\n",
              "</div>"
            ]
          },
          "metadata": {
            "tags": []
          },
          "execution_count": 2
        }
      ]
    },
    {
      "cell_type": "markdown",
      "metadata": {
        "id": "ZakeE3_nmjxB"
      },
      "source": [
        "# Expanding Contractions\n",
        " \n",
        "Contractions are shortened version of words or syllables. They often exist in either written or spoken forms in the English language. These shortened versions or contractions of words are created by removing specific letters and sounds. In case of English contractions, they are often created by removing one of the vowels from the word. Examples would be, do not to don’t and I would to I’d. Converting each contraction to its expanded, original form helps with text standardization."
      ]
    },
    {
      "cell_type": "code",
      "metadata": {
        "execution": {
          "iopub.status.busy": "2021-07-11T19:38:29.503984Z",
          "iopub.execute_input": "2021-07-11T19:38:29.504493Z",
          "iopub.status.idle": "2021-07-11T19:38:29.520160Z",
          "shell.execute_reply.started": "2021-07-11T19:38:29.504446Z",
          "shell.execute_reply": "2021-07-11T19:38:29.518732Z"
        },
        "trusted": true,
        "id": "m2Wk_PFCQCCE"
      },
      "source": [
        "contractions_dictionary = {\"ain't\": \"is not\", \"aren't\": \"are not\",\"can't\": \"cannot\", \"'cause\": \"because\", \"could've\": \"could have\", \"couldn't\": \"could not\",\n",
        "\n",
        "                           \"didn't\": \"did not\", \"doesn't\": \"does not\", \"don't\": \"do not\", \"hadn't\": \"had not\", \"hasn't\": \"has not\", \"haven't\": \"have not\",\n",
        "\n",
        "                           \"he'd\": \"he would\",\"he'll\": \"he will\", \"he's\": \"he is\", \"how'd\": \"how did\", \"how'd'y\": \"how do you\", \"how'll\": \"how will\", \"how's\": \"how is\",\n",
        "\n",
        "                           \"I'd\": \"I would\", \"I'd've\": \"I would have\", \"I'll\": \"I will\", \"I'll've\": \"I will have\",\"I'm\": \"I am\", \"I've\": \"I have\", \"i'd\": \"i would\",\n",
        "\n",
        "                           \"i'd've\": \"i would have\", \"i'll\": \"i will\",  \"i'll've\": \"i will have\",\"i'm\": \"i am\", \"i've\": \"i have\", \"isn't\": \"is not\", \"it'd\": \"it would\",\n",
        "\n",
        "                           \"it'd've\": \"it would have\", \"it'll\": \"it will\", \"it'll've\": \"it will have\",\"it's\": \"it is\", \"let's\": \"let us\", \"ma'am\": \"madam\",\n",
        "\n",
        "                           \"mayn't\": \"may not\", \"might've\": \"might have\",\"mightn't\": \"might not\",\"mightn't've\": \"might not have\", \"must've\": \"must have\",\n",
        "\n",
        "                           \"mustn't\": \"must not\", \"mustn't've\": \"must not have\", \"needn't\": \"need not\", \"needn't've\": \"need not have\",\"o'clock\": \"of the clock\",\n",
        "\n",
        "                           \"oughtn't\": \"ought not\", \"oughtn't've\": \"ought not have\", \"shan't\": \"shall not\", \"sha'n't\": \"shall not\", \"shan't've\": \"shall not have\",\n",
        "\n",
        "                           \"she'd\": \"she would\", \"she'd've\": \"she would have\", \"she'll\": \"she will\", \"she'll've\": \"she will have\", \"she's\": \"she is\",\n",
        "\n",
        "                           \"should've\": \"should have\", \"shouldn't\": \"should not\", \"shouldn't've\": \"should not have\", \"so've\": \"so have\",\"so's\": \"so as\",\n",
        "\n",
        "                           \"this's\": \"this is\",\"that'd\": \"that would\", \"that'd've\": \"that would have\", \"that's\": \"that is\", \"there'd\": \"there would\",\n",
        "\n",
        "                           \"there'd've\": \"there would have\", \"there's\": \"there is\", \"here's\": \"here is\",\"they'd\": \"they would\", \"they'd've\": \"they would have\",\n",
        "\n",
        "                           \"they'll\": \"they will\", \"they'll've\": \"they will have\", \"they're\": \"they are\", \"they've\": \"they have\", \"to've\": \"to have\",\n",
        "\n",
        "                           \"wasn't\": \"was not\", \"we'd\": \"we would\", \"we'd've\": \"we would have\", \"we'll\": \"we will\", \"we'll've\": \"we will have\", \"we're\": \"we are\",\n",
        "\n",
        "                           \"we've\": \"we have\", \"weren't\": \"were not\", \"what'll\": \"what will\", \"what'll've\": \"what will have\", \"what're\": \"what are\",\n",
        "\n",
        "                           \"what's\": \"what is\", \"what've\": \"what have\", \"when's\": \"when is\", \"when've\": \"when have\", \"where'd\": \"where did\", \"where's\": \"where is\",\n",
        "\n",
        "                           \"where've\": \"where have\", \"who'll\": \"who will\", \"who'll've\": \"who will have\", \"who's\": \"who is\", \"who've\": \"who have\",\n",
        "\n",
        "                           \"why's\": \"why is\", \"why've\": \"why have\", \"will've\": \"will have\", \"won't\": \"will not\", \"won't've\": \"will not have\",\n",
        "\n",
        "                           \"would've\": \"would have\", \"wouldn't\": \"would not\", \"wouldn't've\": \"would not have\", \"y'all\": \"you all\",\n",
        "\n",
        "                           \"y'all'd\": \"you all would\",\"y'all'd've\": \"you all would have\",\"y'all're\": \"you all are\",\"y'all've\": \"you all have\",\n",
        "\n",
        "                           \"you'd\": \"you would\", \"you'd've\": \"you would have\", \"you'll\": \"you will\", \"you'll've\": \"you will have\",\n",
        "\n",
        "                           \"you're\": \"you are\", \"you've\": \"you have\"}"
      ],
      "execution_count": null,
      "outputs": []
    },
    {
      "cell_type": "code",
      "metadata": {
        "execution": {
          "iopub.status.busy": "2021-07-11T19:38:29.522832Z",
          "iopub.execute_input": "2021-07-11T19:38:29.523343Z",
          "iopub.status.idle": "2021-07-11T19:38:30.603227Z",
          "shell.execute_reply.started": "2021-07-11T19:38:29.523279Z",
          "shell.execute_reply": "2021-07-11T19:38:30.601950Z"
        },
        "trusted": true,
        "id": "NRxijDNNQCCF"
      },
      "source": [
        "from string import digits\n",
        "import re\n",
        "\n",
        "def Filter(text):\n",
        "#     pattern = r'[0-9]'\n",
        "\n",
        "# # Match all digits in the string and replace them with an empty string\n",
        "#     text = re.sub(pattern, '', text)\n",
        "#     remove_digits = str.maketrans('', '', digits)\n",
        "#     text = text.translate(remove_digits)\n",
        "    text=text.lower()\n",
        "    text=' '.join([contractions_dictionary[i] if i in contractions_dictionary.keys() else i for i in text.split()])\n",
        "    text=re.sub(r'\\(.*\\)',\"\",text)\n",
        "    text=re.sub(\"'s\",\"\",text)\n",
        "    text=re.sub('\"','',text)\n",
        "    text=' '.join([i for i in text.split() if i.isalpha()])\n",
        "    text=re.sub('[^a-zA-Z]',\" \",text)\n",
        "    \n",
        "    return text\n",
        "\n",
        "dataset['File_path'] = dataset['File_path'].apply(Filter)\n",
        "dataset['Articles'] = dataset['Articles'].apply(Filter)\n",
        "dataset['Summaries'] = dataset['Summaries'].apply(Filter)"
      ],
      "execution_count": null,
      "outputs": []
    },
    {
      "cell_type": "code",
      "metadata": {
        "execution": {
          "iopub.status.busy": "2021-07-11T19:38:30.604814Z",
          "iopub.execute_input": "2021-07-11T19:38:30.605344Z",
          "iopub.status.idle": "2021-07-11T19:38:30.613332Z",
          "shell.execute_reply.started": "2021-07-11T19:38:30.605278Z",
          "shell.execute_reply": "2021-07-11T19:38:30.611798Z"
        },
        "trusted": true,
        "id": "yBdb7oaYQCCG",
        "outputId": "1d9f9649-99b0-413a-f354-b0457a1abe56"
      },
      "source": [
        "dataset.shape"
      ],
      "execution_count": null,
      "outputs": [
        {
          "output_type": "execute_result",
          "data": {
            "text/plain": [
              "(2224, 3)"
            ]
          },
          "metadata": {
            "tags": []
          },
          "execution_count": 5
        }
      ]
    },
    {
      "cell_type": "markdown",
      "metadata": {
        "id": "PcaF0p_mm5yA"
      },
      "source": [
        "# tf.keras.preprocessing.text.Tokenizer\n",
        "\n",
        "Text tokenization utility class.\n",
        "\n",
        "```\n",
        "\n",
        "tf.keras.preprocessing.text.Tokenizer(\n",
        "    num_words=None,\n",
        "    filters='!\"#$%&()*+,-./:;<=>?@[\\\\]^_`{|}~\\t\\n',\n",
        "    lower=True, split=' ', char_level=False, oov_token=None,\n",
        "    document_count=0, **kwargs\n",
        ")\n",
        "```\n",
        "\n",
        "\n",
        "\n",
        "\n",
        "This class allows to vectorize a text corpus, by turning each text into either a sequence of integers (each integer being the index of a token in a dictionary) or into a vector where the coefficient for each token could be binary, based on word count, based on tf-idf...\n",
        "\n",
        "Arguments\n",
        "num_words\tthe maximum number of words to keep, based on word frequency. Only the most common num_words-1 words will be kept.\n",
        "filters\ta string where each element is a character that will be filtered from the texts. The default is all punctuation, plus tabs and line breaks, minus the ' character.\n",
        "lower\tboolean. Whether to convert the texts to lowercase.\n",
        "split\tstr. Separator for word splitting.\n",
        "char_level\tif True, every character will be treated as a token.\n",
        "oov_token\tif given, it will be added to word_index and used to replace out-of-vocabulary words during text_to_sequence calls\n",
        "By default, all punctuation is removed, turning the texts into space-separated sequences of words (words maybe include the ' character). These sequences are then split into lists of tokens. They will then be indexed or vectorized.\n",
        "\n",
        "0 is a reserved index that won't be assigned to any word."
      ]
    },
    {
      "cell_type": "code",
      "metadata": {
        "execution": {
          "iopub.status.busy": "2021-07-11T19:38:30.615177Z",
          "iopub.execute_input": "2021-07-11T19:38:30.615962Z",
          "iopub.status.idle": "2021-07-11T19:38:32.029397Z",
          "shell.execute_reply.started": "2021-07-11T19:38:30.615915Z",
          "shell.execute_reply": "2021-07-11T19:38:32.028215Z"
        },
        "trusted": true,
        "id": "4kvy4P3TQCCG"
      },
      "source": [
        "from tensorflow.keras.preprocessing.text import Tokenizer\n",
        "from tensorflow.keras.preprocessing.sequence import pad_sequences\n",
        "\n",
        "vocab_size = 3000\n",
        "embedding_dim = 100\n",
        "max_length = 100\n",
        "trunc_type='post'\n",
        "padding_type='post'\n",
        "oov_tok = \"<OOV>\"\n",
        "training_size = 2000\n",
        "\n",
        "# training_articles = dataset['Articles'][0:training_size]\n",
        "# testing_articles = dataset['Articles'][training_size:]\n",
        "# training_summaries = dataset['Summaries'][0:training_size]\n",
        "# testing_summaries = dataset['Summaries'][training_size:]\n",
        "\n",
        "articles_tokenizer = Tokenizer(num_words=vocab_size, oov_token=oov_tok)\n",
        "articles_tokenizer.fit_on_texts(dataset['Articles'])\n",
        "\n",
        "summaries_tokenizer = Tokenizer(num_words=vocab_size, oov_token=oov_tok)\n",
        "summaries_tokenizer.fit_on_texts(dataset['Summaries'])\n",
        "\n",
        "# word_index = tokenizer.word_index\n",
        "\n",
        "training_sequences = articles_tokenizer.texts_to_sequences(dataset['Articles'])\n",
        "training_x_padded = pad_sequences(training_sequences, maxlen=max_length, padding=padding_type, truncating=trunc_type)\n",
        "\n",
        "training_sequences = summaries_tokenizer.texts_to_sequences(dataset['Summaries'])\n",
        "training_y_padded = pad_sequences(training_sequences, maxlen=30, padding=padding_type, truncating=trunc_type)\n",
        "\n"
      ],
      "execution_count": null,
      "outputs": []
    },
    {
      "cell_type": "code",
      "metadata": {
        "execution": {
          "iopub.status.busy": "2021-07-11T19:38:32.031025Z",
          "iopub.execute_input": "2021-07-11T19:38:32.031523Z",
          "iopub.status.idle": "2021-07-11T19:38:32.039508Z",
          "shell.execute_reply.started": "2021-07-11T19:38:32.031481Z",
          "shell.execute_reply": "2021-07-11T19:38:32.037723Z"
        },
        "trusted": true,
        "id": "I2FnoWZGQCCH",
        "outputId": "706764ba-dd59-45ab-a8bf-97ac0e2b39e5"
      },
      "source": [
        "training_x_padded[1].shape"
      ],
      "execution_count": null,
      "outputs": [
        {
          "output_type": "execute_result",
          "data": {
            "text/plain": [
              "(100,)"
            ]
          },
          "metadata": {
            "tags": []
          },
          "execution_count": 7
        }
      ]
    },
    {
      "cell_type": "code",
      "metadata": {
        "execution": {
          "iopub.status.busy": "2021-07-11T19:38:32.043229Z",
          "iopub.execute_input": "2021-07-11T19:38:32.043722Z",
          "iopub.status.idle": "2021-07-11T19:38:33.182969Z",
          "shell.execute_reply.started": "2021-07-11T19:38:32.043660Z",
          "shell.execute_reply": "2021-07-11T19:38:33.181752Z"
        },
        "trusted": true,
        "id": "ZWswZthHQCCH"
      },
      "source": [
        "NUM_TRAIN = 2224\n",
        "article_map = dict(map(reversed, articles_tokenizer.word_index.items()))\n",
        "summaries_map = dict(map(reversed, summaries_tokenizer.word_index.items()))\n",
        "\n",
        "article = np.zeros((NUM_TRAIN,100,vocab_size))\n",
        "summ = np.zeros((NUM_TRAIN,30,vocab_size))\n",
        "summ_target = np.zeros((NUM_TRAIN,30,vocab_size))\n",
        "for i,sequence in enumerate(training_x_padded):\n",
        "    for j,word in enumerate(sequence):\n",
        "        article[i,j,word ] = 1\n",
        "        \n",
        "for i,sequence in enumerate(training_y_padded):\n",
        "    for j,word in enumerate(sequence):\n",
        "        summ[i,j,word] = 1\n",
        "        if j>0:\n",
        "            summ_target[i,j-1,word] = 1\n"
      ],
      "execution_count": null,
      "outputs": []
    },
    {
      "cell_type": "code",
      "metadata": {
        "execution": {
          "iopub.status.busy": "2021-07-11T19:38:33.184879Z",
          "iopub.execute_input": "2021-07-11T19:38:33.185455Z",
          "iopub.status.idle": "2021-07-11T19:38:33.195578Z",
          "shell.execute_reply.started": "2021-07-11T19:38:33.185403Z",
          "shell.execute_reply": "2021-07-11T19:38:33.194073Z"
        },
        "trusted": true,
        "id": "xJ9vO3RdQCCH",
        "outputId": "df3a8472-17ca-48c1-bc42-74b6edc360ca"
      },
      "source": [
        "training_x = article\n",
        "training_y = summ\n",
        "training_y_target = summ_target\n",
        "# testing_x_padded = np.array(testing_x_padded)\n",
        "# testing_y_padded = np.array(testing_y_padded)\n",
        "\n",
        "print(training_x.shape)\n",
        "print(training_y.shape)\n",
        "print(training_y_target.shape)\n",
        "# print(testing_x_padded.shape)\n",
        "# print(testing_y_padded.shape)"
      ],
      "execution_count": null,
      "outputs": [
        {
          "output_type": "stream",
          "text": [
            "(2224, 100, 3000)\n",
            "(2224, 30, 3000)\n",
            "(2224, 30, 3000)\n"
          ],
          "name": "stdout"
        }
      ]
    },
    {
      "cell_type": "code",
      "metadata": {
        "id": "SyJnkOkxl41U"
      },
      "source": [
        ""
      ],
      "execution_count": null,
      "outputs": []
    },
    {
      "cell_type": "markdown",
      "metadata": {
        "id": "5zXDcp3Rl9_X"
      },
      "source": [
        "You have two set of LSTMs (green and blue below). Each set respectively sharing weights (i.e. each of the 4 green cells have the same weights and similarly with the blue cells). The first is a many to one LSTM, which summarises the question at the last hidden layer/ cell memory.\n",
        "\n",
        "The second set (blue) is a Many to Many LSTM which has different weights to the first set of LSTMs. The input is simply the answer sentence while the output is the same sentence shifted by one.\n",
        "\n",
        "![YjlBt.png](data:image/png;base64,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)\n"
      ]
    },
    {
      "cell_type": "code",
      "metadata": {
        "execution": {
          "iopub.status.busy": "2021-07-11T19:39:03.913561Z",
          "iopub.execute_input": "2021-07-11T19:39:03.913932Z",
          "iopub.status.idle": "2021-07-11T19:39:04.502729Z",
          "shell.execute_reply.started": "2021-07-11T19:39:03.913899Z",
          "shell.execute_reply": "2021-07-11T19:39:04.500393Z"
        },
        "trusted": true,
        "id": "-MnJHhAfQCCI",
        "outputId": "f1778eac-fc0a-451b-9175-e4466237a47c"
      },
      "source": [
        "encoder_inputs = tf.keras.layers.Input(shape=(None, vocab_size))\n",
        "encoder = tf.keras.layers.LSTM(embedding_dim, return_state=True)\n",
        "encoder_outputs, state_h, state_c = encoder(encoder_inputs)\n",
        "\n",
        "encoder_states = [state_h, state_c]\n",
        "\n",
        "\n",
        "decoder_inputs = tf.keras.layers.Input(shape=(None, vocab_size))\n",
        "decoder_lstm = tf.keras.layers.LSTM(embedding_dim, return_sequences=True, return_state=True)\n",
        "decoder_outputs, _, _ = decoder_lstm(decoder_inputs, initial_state=encoder_states)\n",
        "decoder_dense = tf.keras.layers.Dense(vocab_size, activation='softmax')\n",
        "decoder_outputs = decoder_dense(decoder_outputs)\n",
        "\n",
        "model = tf.keras.Model([encoder_inputs, decoder_inputs], decoder_outputs)\n",
        "model.compile(loss='categorical_crossentropy', optimizer='adam',metrics = ['accuracy'])\n",
        "model.summary()"
      ],
      "execution_count": null,
      "outputs": [
        {
          "output_type": "stream",
          "text": [
            "Model: \"model_1\"\n",
            "__________________________________________________________________________________________________\n",
            "Layer (type)                    Output Shape         Param #     Connected to                     \n",
            "==================================================================================================\n",
            "input_3 (InputLayer)            [(None, None, 3000)] 0                                            \n",
            "__________________________________________________________________________________________________\n",
            "input_4 (InputLayer)            [(None, None, 3000)] 0                                            \n",
            "__________________________________________________________________________________________________\n",
            "lstm_2 (LSTM)                   [(None, 100), (None, 1240400     input_3[0][0]                    \n",
            "__________________________________________________________________________________________________\n",
            "lstm_3 (LSTM)                   [(None, None, 100),  1240400     input_4[0][0]                    \n",
            "                                                                 lstm_2[0][1]                     \n",
            "                                                                 lstm_2[0][2]                     \n",
            "__________________________________________________________________________________________________\n",
            "dense_1 (Dense)                 (None, None, 3000)   303000      lstm_3[0][0]                     \n",
            "==================================================================================================\n",
            "Total params: 2,783,800\n",
            "Trainable params: 2,783,800\n",
            "Non-trainable params: 0\n",
            "__________________________________________________________________________________________________\n"
          ],
          "name": "stdout"
        }
      ]
    },
    {
      "cell_type": "code",
      "metadata": {
        "execution": {
          "iopub.status.busy": "2021-07-11T19:39:05.953355Z",
          "iopub.execute_input": "2021-07-11T19:39:05.953793Z",
          "iopub.status.idle": "2021-07-11T19:39:06.016995Z",
          "shell.execute_reply.started": "2021-07-11T19:39:05.953762Z",
          "shell.execute_reply": "2021-07-11T19:39:06.015778Z"
        },
        "trusted": true,
        "id": "fBrdTbtOQCCI",
        "outputId": "b9881267-e4df-46f0-d91c-eb4e31ae78a1"
      },
      "source": [
        "model.load_weights('./my_checkpoint')"
      ],
      "execution_count": null,
      "outputs": [
        {
          "output_type": "execute_result",
          "data": {
            "text/plain": [
              "<tensorflow.python.training.tracking.util.CheckpointLoadStatus at 0x7f671048ce50>"
            ]
          },
          "metadata": {
            "tags": []
          },
          "execution_count": 14
        }
      ]
    },
    {
      "cell_type": "code",
      "metadata": {
        "execution": {
          "iopub.status.busy": "2021-07-11T19:38:46.823280Z",
          "iopub.execute_input": "2021-07-11T19:38:46.823641Z",
          "iopub.status.idle": "2021-07-11T19:38:47.526020Z",
          "shell.execute_reply.started": "2021-07-11T19:38:46.823611Z",
          "shell.execute_reply": "2021-07-11T19:38:47.524823Z"
        },
        "trusted": true,
        "id": "SVmaOGcVQCCI"
      },
      "source": [
        "model = tf.keras.models.load_model('./model.h5')"
      ],
      "execution_count": null,
      "outputs": []
    },
    {
      "cell_type": "markdown",
      "metadata": {
        "id": "reBtvHThn5jt"
      },
      "source": [
        "# Callbacks\n",
        "\n",
        "When training a machine learning model, we would like to have the ability to monitor the model performance and perform certain actions depending on those performance measures. \n",
        "\n",
        "**CSVLogger**: a callback streams epoch results to a CSV file."
      ]
    },
    {
      "cell_type": "code",
      "metadata": {
        "execution": {
          "iopub.status.busy": "2021-07-11T19:39:11.664611Z",
          "iopub.execute_input": "2021-07-11T19:39:11.664990Z",
          "iopub.status.idle": "2021-07-11T19:41:10.584435Z",
          "shell.execute_reply.started": "2021-07-11T19:39:11.664956Z",
          "shell.execute_reply": "2021-07-11T19:41:10.583289Z"
        },
        "trusted": true,
        "id": "eYeJnOZ0QCCJ",
        "outputId": "f4e5af38-6e2e-4e48-f7c0-2f008c360343"
      },
      "source": [
        "\n",
        "model.fit([training_x,training_y],training_y_target,\n",
        "          epochs=30,\n",
        "          batch_size=64,\n",
        "          callbacks = [tf.keras.callbacks.CSVLogger('training.csv')]\n",
        "          )"
      ],
      "execution_count": null,
      "outputs": [
        {
          "output_type": "stream",
          "text": [
            "Epoch 1/30\n",
            "35/35 [==============================] - 13s 94ms/step - loss: 0.3860 - accuracy: 0.9066\n",
            "Epoch 2/30\n",
            "35/35 [==============================] - 4s 102ms/step - loss: 0.3930 - accuracy: 0.9051\n",
            "Epoch 3/30\n",
            "35/35 [==============================] - 3s 94ms/step - loss: 0.3836 - accuracy: 0.9077\n",
            "Epoch 4/30\n",
            "35/35 [==============================] - 3s 93ms/step - loss: 0.3997 - accuracy: 0.9029\n",
            "Epoch 5/30\n",
            "35/35 [==============================] - 4s 102ms/step - loss: 0.3928 - accuracy: 0.9045\n",
            "Epoch 6/30\n",
            "35/35 [==============================] - 3s 92ms/step - loss: 0.4080 - accuracy: 0.9015\n",
            "Epoch 7/30\n",
            "35/35 [==============================] - 3s 92ms/step - loss: 0.4220 - accuracy: 0.8979\n",
            "Epoch 8/30\n",
            "35/35 [==============================] - 4s 113ms/step - loss: 0.4232 - accuracy: 0.8965\n",
            "Epoch 9/30\n",
            "35/35 [==============================] - 3s 94ms/step - loss: 0.4288 - accuracy: 0.8949\n",
            "Epoch 10/30\n",
            "35/35 [==============================] - 3s 93ms/step - loss: 0.4443 - accuracy: 0.8897\n",
            "Epoch 11/30\n",
            "35/35 [==============================] - 3s 94ms/step - loss: 0.4333 - accuracy: 0.8947\n",
            "Epoch 12/30\n",
            "35/35 [==============================] - 3s 98ms/step - loss: 0.4294 - accuracy: 0.8952\n",
            "Epoch 13/30\n",
            "35/35 [==============================] - 3s 94ms/step - loss: 0.4108 - accuracy: 0.8985\n",
            "Epoch 14/30\n",
            "35/35 [==============================] - 3s 94ms/step - loss: 0.4292 - accuracy: 0.8955\n",
            "Epoch 15/30\n",
            "35/35 [==============================] - 4s 101ms/step - loss: 0.4225 - accuracy: 0.8977\n",
            "Epoch 16/30\n",
            "35/35 [==============================] - 3s 94ms/step - loss: 0.3983 - accuracy: 0.9026\n",
            "Epoch 17/30\n",
            "35/35 [==============================] - 3s 100ms/step - loss: 0.4029 - accuracy: 0.9017\n",
            "Epoch 18/30\n",
            "35/35 [==============================] - 4s 108ms/step - loss: 0.3970 - accuracy: 0.9043\n",
            "Epoch 19/30\n",
            "35/35 [==============================] - 3s 94ms/step - loss: 0.3864 - accuracy: 0.9053\n",
            "Epoch 20/30\n",
            "35/35 [==============================] - 3s 93ms/step - loss: 0.3822 - accuracy: 0.9067\n",
            "Epoch 21/30\n",
            "35/35 [==============================] - 3s 99ms/step - loss: 0.3685 - accuracy: 0.9102\n",
            "Epoch 22/30\n",
            "35/35 [==============================] - 3s 93ms/step - loss: 0.3774 - accuracy: 0.9092\n",
            "Epoch 23/30\n",
            "35/35 [==============================] - 3s 94ms/step - loss: 0.3812 - accuracy: 0.9072\n",
            "Epoch 24/30\n",
            "35/35 [==============================] - 3s 92ms/step - loss: 0.3878 - accuracy: 0.9055\n",
            "Epoch 25/30\n",
            "35/35 [==============================] - 4s 102ms/step - loss: 0.3706 - accuracy: 0.9100\n",
            "Epoch 26/30\n",
            "35/35 [==============================] - 3s 96ms/step - loss: 0.3748 - accuracy: 0.9087\n",
            "Epoch 27/30\n",
            "35/35 [==============================] - 4s 107ms/step - loss: 0.3731 - accuracy: 0.9084\n",
            "Epoch 28/30\n",
            "35/35 [==============================] - 4s 102ms/step - loss: 0.3833 - accuracy: 0.9060\n",
            "Epoch 29/30\n",
            "35/35 [==============================] - 3s 95ms/step - loss: 0.4041 - accuracy: 0.9020\n",
            "Epoch 30/30\n",
            "35/35 [==============================] - 3s 91ms/step - loss: 0.4184 - accuracy: 0.8975\n"
          ],
          "name": "stdout"
        },
        {
          "output_type": "execute_result",
          "data": {
            "text/plain": [
              "<tensorflow.python.keras.callbacks.History at 0x7f671017e310>"
            ]
          },
          "metadata": {
            "tags": []
          },
          "execution_count": 15
        }
      ]
    },
    {
      "cell_type": "code",
      "metadata": {
        "execution": {
          "iopub.status.busy": "2021-07-11T19:42:34.634505Z",
          "iopub.execute_input": "2021-07-11T19:42:34.634910Z",
          "iopub.status.idle": "2021-07-11T19:42:35.129629Z",
          "shell.execute_reply.started": "2021-07-11T19:42:34.634877Z",
          "shell.execute_reply": "2021-07-11T19:42:35.128448Z"
        },
        "trusted": true,
        "id": "3KRFMfBjQCCJ"
      },
      "source": [
        "model.save('model.h5')\n",
        "\n",
        "model.save_weights('./my_checkpoint')\n",
        "\n",
        "\n",
        "encoder_model = tf.keras.Model(encoder_inputs, encoder_states)\n",
        "decoder_state_input_h = tf.keras.layers.Input(shape=(embedding_dim,))\n",
        "decoder_state_input_c = tf.keras.layers.Input(shape=(embedding_dim,))\n",
        "decoder_states_inputs = [decoder_state_input_h, decoder_state_input_c]\n",
        "decoder_outputs, state_h, state_c = decoder_lstm(decoder_inputs, initial_state=decoder_states_inputs)\n",
        "decoder_states = [state_h, state_c]\n",
        "decoder_outputs = decoder_dense(decoder_outputs)\n",
        "decoder_model = tf.keras.Model([decoder_inputs] + decoder_states_inputs, [decoder_outputs] + decoder_states)"
      ],
      "execution_count": null,
      "outputs": []
    },
    {
      "cell_type": "code",
      "metadata": {
        "colab": {
          "base_uri": "https://localhost:8080/",
          "height": 545
        },
        "id": "EhafuUXi68sG",
        "outputId": "a7facb60-1244-4a78-d9e8-2e73cef9c66e"
      },
      "source": [
        "## Visualising the Accuracy and loss plots\n",
        "\n",
        "callback_csv = pd.read_csv('/content/training.csv')\n",
        "acc = callback_csv['accuracy']\n",
        "loss = callback_csv['loss']\n",
        "\n",
        "epochs = range(len(acc))\n",
        "\n",
        "plt.plot(epochs, acc, 'bo', label='Training accuracy')\n",
        "\n",
        "plt.title('Training and validation accuracy')\n",
        "\n",
        "plt.figure()\n",
        "\n",
        "plt.plot(epochs, loss, 'bo', label='Training Loss')\n",
        "\n",
        "plt.title('Training and validation loss')\n",
        "plt.legend()\n",
        "\n",
        "plt.show()"
      ],
      "execution_count": null,
      "outputs": [
        {
          "output_type": "display_data",
          "data": {
            "image/png": "[encoded data removed]",
            "text/plain": [
              "<Figure size 432x288 with 1 Axes>"
            ]
          },
          "metadata": {
            "tags": [],
            "needs_background": "light"
          }
        },
        {
          "output_type": "display_data",
          "data": {
            "image/png": "[encoded data removed]",
            "text/plain": [
              "<Figure size 432x288 with 1 Axes>"
            ]
          },
          "metadata": {
            "tags": [],
            "needs_background": "light"
          }
        }
      ]
    },
    {
      "cell_type": "code",
      "metadata": {
        "execution": {
          "iopub.status.busy": "2021-07-11T20:16:29.219305Z",
          "iopub.execute_input": "2021-07-11T20:16:29.219714Z",
          "iopub.status.idle": "2021-07-11T20:16:29.229603Z",
          "shell.execute_reply.started": "2021-07-11T20:16:29.219680Z",
          "shell.execute_reply": "2021-07-11T20:16:29.227895Z"
        },
        "trusted": true,
        "id": "XE7MzHcCQCCJ"
      },
      "source": [
        "\n",
        "#Define Decode Sequence\n",
        "def decode_sequence(input_seq):\n",
        "    #Encode the input as state vectors.\n",
        "    states_value = encoder_model.predict(input_seq)\n",
        "\n",
        "    #Generate empty target sequence of length 1.\n",
        "    target_seq = np.zeros((1, 1, 3000))\n",
        "    #Get the first character of target sequence with the start character.\n",
        "    target_seq[0, 0, summaries_tokenizer.word_index['<OOV>']] = 1.\n",
        "\n",
        "    #Sampling loop for a batch of sequences\n",
        "    #(to simplify, here we assume a batch of size 1).\n",
        "    stop_condition = False\n",
        "    decoded_sentence = ''\n",
        "    while not stop_condition:\n",
        "        output_tokens, h, c = decoder_model.predict([target_seq] + states_value)\n",
        "\n",
        "        #Sample a token\n",
        "        sampled_token_index = np.argmax(output_tokens[0, -1, :])\n",
        "        sampled_char = summaries_map[sampled_token_index]\n",
        "        decoded_sentence += ' '+ sampled_char\n",
        "        \n",
        "        #Exit condition: either hit max length\n",
        "        #or find stop character.\n",
        "        if (sampled_char == '\\n' or\n",
        "           len(decoded_sentence) > 70):\n",
        "            stop_condition = True\n",
        "\n",
        "        #Update the target sequence (of length 1).\n",
        "        target_seq = np.zeros((1, 1, 3000))\n",
        "        target_seq[0, 0, sampled_token_index] = 1.\n",
        "\n",
        "        #Update states\n",
        "        states_value = [h, c]\n",
        "\n",
        "    return decoded_sentence"
      ],
      "execution_count": null,
      "outputs": []
    },
    {
      "cell_type": "code",
      "metadata": {
        "execution": {
          "iopub.status.busy": "2021-07-11T20:16:30.094828Z",
          "iopub.execute_input": "2021-07-11T20:16:30.095254Z",
          "iopub.status.idle": "2021-07-11T20:16:37.694527Z",
          "shell.execute_reply.started": "2021-07-11T20:16:30.095220Z",
          "shell.execute_reply": "2021-07-11T20:16:37.693166Z"
        },
        "trusted": true,
        "id": "_C-jp12VQCCK",
        "outputId": "3759e82e-a065-425d-dd65-3f3ea7ef0cf1"
      },
      "source": [
        "for seq_index in range(10):\n",
        "    input_seq = training_x[seq_index: seq_index + 1]\n",
        "    decoded_sentence = decode_sequence(input_seq)\n",
        "    print('-')\n",
        "    print('Input sentence:', dataset['Articles'][seq_index])\n",
        "    print('Decoded sentence:', decoded_sentence)"
      ],
      "execution_count": null,
      "outputs": [
        {
          "output_type": "stream",
          "text": [
            "-\n",
            "Input sentence: budget to set scene for brown will seek to put the economy at the centre of labour bid for a third term in power when he delivers his ninth budget at he is expected to stress the importance of continued economic with low unemployment and interest the chancellor is expected to freeze petrol duty and raise the stamp duty threshold from but the conservatives and lib dems insist voters face higher taxes and more under officials have said there will not be a but mr brown is thought to have about to increase in the stamp duty threshold from a freeze on petrol an extension of tax credit scheme for poorer possible help for pensioners the stamp duty threshold rise is intended to help first time buyers a likely theme of all three of the main general election ten years buyers had a much greater chance of avoiding stamp with close to half a million in england and wales selling for less than since average uk property prices have more than doubled while the starting threshold for stamp duty has not tax credits as a the number of properties incurring stamp duty has rocketed as has the government tax the liberal democrats unveiled their own proposals to raise the stamp duty threshold to in tories are also thought likely to propose increased with shadow chancellor oliver letwin branding stamp duty a classic labour stealth the tories say whatever the chancellor gives away will be clawed back in higher taxes if labour is returned to shadow treasury chief secretary george osborne everyone who looks at the british economy at the moment says there has been a sharp deterioration in the public that there is a black he if labour is elected there will be a very substantial tax increase in the budget after the of the order of around mr brown former advisor ed now a parliamentary said an examination of tory plans for the economy showed there would be a difference in investment by the end of the next parliament between the two main he i do not accept there is any need for any changes to the plans we have set out to meet our spending the lib dems david laws the chancellor will no doubt tell us today how wonderfully the economy is he but a lot of that is built on an increase in personal and consumer debt over the last few years that makes the economy quite vulnerable potentially if interest rates ever do have to go up in a significant snp leader alex salmond said his party would introduce a grant for first time reduce corporation tax and introduce a citizens pension free from means plaid cymru economics spokesman adam price said he wanted help to get people on the housing ladder and an increase in the minimum wage to an\n",
            "Decoded sentence:  said a computer and automatically <OOV> up to the election can to allow\n",
            "-\n",
            "Input sentence: army chiefs in regiments chiefs are expected to meet to make a final decision on the future of scotland army committee of the army which is made up of the most senior defence will discuss plans for restructuring regiments on the proposals include cutting scotland six regiments to five and merging these into a super the plans have faced stiff opposition from campaigners and politicians the committee decision must be ratified by defence secretary geoff hoon and prime minister tony it is expected that it will be made public next when ministers announced a reorganisation of the army it drew a question mark over the futures of the black the kings own scottish the royal the royal highland fusiliers and the argyll and sutherland in the council of scottish colonels proposed the merger of the royal scots and the king own scottish borderers into a single their it would be one of five in the new super the proposals to either merge or amalgamate the six regiments into a super regiment sparked a political with labour backbenchers and opposition politicians opposing the they felt the timing was insensitive because the black watch was in the frontline in suffering the save the scottish regiments campaigners were so angered they threatened to stand against labour at the next general ahead of the expected army board a spokesman the government and the army board have spent the past four months attempting to trick serving soldiers and the public into thinking their planned changes for the scottish regiments are for the good of the army and for that of the serving they are very much not for the good and will destroy scotland regiments by moulding them into a single super regiment which will lead to severe recruitment a loss of local connections to those regiments and a loss to scotland of an important part of her heritage most her future the regiments are the envy of armies around the an alternative blueprint had been put forward by labour mp eric who proposed going ahead with the merger while preserving the other for a brief there was speculation the prime minister might consider the but that now seems speaking in scotland last mr blair said the aim was to preserve tradition but introduce a more effective structure and hinted that a super regiment was he they do not want to get rid of the history or the traditions of the regiment or the local connections far from all they want to do is make sure they can transfer people easily across regiments and deploy them more the prime minister said he hoped concerns would be taken into account but the need for effective change had to be\n",
            "Decoded sentence:  it could not really made against the the national association mark <OOV>\n",
            "-\n",
            "Input sentence: howard denies split over id howard has denied his shadow cabinet was split over its decision to back controversial labour plans to introduce id tory leader said his front bench team had reached a collective view after holding a good but admitted it was not an easy he had decided to support the plans as the police said they would help fight crime and illegal the lib dems have pledged to oppose the bill when it is debated next sources say senior party figures had argued vociferously against the id card among those reported to have serious reservations over the strategy were senior shadow cabinet members david oliver letwin and tim but mr howard denied mr his transport and environment said the plans he also said he was confident shadow home secretary mr davis would set out the position very clearly when he stands up to debate the matter next mr howard said the police had said id cards could help them foil a terror bomb plot in which people could lose their he when the police say that you have to take them acknowledged there were good libertarian arguments against the but said the shadow cabinet had weighed up all the conflicting interests before reaching its i do not pretend that it is an easy decision but at the end of the day a decision has to be he also denied he was afraid of looking soft on the compared to the conservatives announced their support for the government plans on monday within the party told the bbc mr howard had always been in favour of id and tried to introduce them when he was home but the tories insisted they would hold ministers to account over the precise purpose of the said they would also press labour over whether objectives could be met and whether the home office would be able to deliver and they pledged to assess the cost effectiveness of id cards and whether people privacy would be properly it is important to remember that this bill will take a decade to come into full a spokesman lib dem home affairs spokesman mark oaten has branded the id scheme a waste of money and deeply he this has all the signs of michael howard overruling concerns over id chairman of the bar guy mansfield qc warned there was a real risk that people on the margins of society would be driven into the hands of what is going to happen to young asian men when there has been a bomb gone off they are going to be if they have not they are going to be tory douglas hogg said he opposed the plans for id cards branding them a regressive step which would intrude into the lives of ordinary citizens without any counterbalancing he predicted ultimately carrying the cards would become compulsory and that would lead to large numbers of britain ethnic minorities being stopped by\n",
            "Decoded sentence:  came said after the claimed ms between <OOV> in the fastest time in the\n",
            "-\n",
            "Input sentence: observers to monitor uk will invite international observers to check the forthcoming uk general election is fairly move comes amid claims the poll could be marred by electoral a report by two mps committees called on thursday for urgent changes to the electoral registration system to combat vote rigging and boost but in a written response to labour mp gordon the government said it would normally invite observers to any uk constitutional affairs minister christopher leslie i fully expect us to repeat our previous practice of doing so once the date for the next general election is the government has looked at ways of boosting voter which fell to in the last general election in trial ballots in four english regions last summer were hit by delays and some fraud liberal democrat peer lord greaves called last week for international observers at the general election saying otherwise there could be months of court challenges on a scale not seen since the thursday report was drawn up by two committees scrutinising the work of the office of the deputy prime minister it said with the growth of postal there was a strong case to tighten up fraud protection by requiring voters to register rather than by it also said about three million people eligible to vote are not registered to do for the general election suggest of people aged between and and of black voters were not on the electoral young people in shared accommodation are thought to miss out because no one acts as head of the household to fill in the odpm committee chairman andrew bennett said individual voter as opposed to registration by should be quickly introduced as it could dramatically reduce the chances of but his counterpart on the dca alan said it should be delayed until measures likely to increase registration have been put in place and proved shadow constitutional affairs secretary oliver heald accused the government of dragging its feet over this badly needed it is vital that we move ahead with the northern ireland system of individual electoral registration to safeguard the integrity of the britain electoral he report said individual registration should be treated carefully as of voters disappeared from the electoral roll in northern ireland when it was introduced in the report said the government should consider fines for unregistered but accepted many experts said it would be an expensive system that would be hard to it said incentives to such as council tax were likely to be seen as gimmicks and risked undermining the integrity of the mps instead they called for imaginative campaigns to boost\n",
            "Decoded sentence:  spokesman for the <OOV> said they have found more than to the new zealand\n",
            "-\n",
            "Input sentence: kilroy names election seat show host robert is to contest the derbyshire seat of erewash at the next general elizabeth blackman won the seat in and has a she says she will fight on her record as a constituency mr announced his plans a day after launching his new the latin for the east midlands who quit the uk independence wants his new group to change the face of uk his choice of election constituency quashes speculation that he would stand against defence secretary geoff hoon in ukip won of the vote in erewash in last june european elections with mr among their candidates for the until erewash had been held by the tories since ms blackman said she was proud of the government achievements in the she declined to give her view of mr at this he told a london news conference that veritas would avoid the old lies and he said our country was being stolen from us by mass immigration and promised a firm but fair policy on veritas says it hopes to contest most seats at the forthcoming general election but plans to announce detailed policies on health and defence over the next few leader roger knapman says he is glad to see the back of mr labour campaign spokesman fraser kemp said veritas was joining an already crowded field on the right of british mr was joined in the new venture by one of ukip two london assembly damien who is now deputy chairman petrina holdsworth has said the group will just be a parody of the party the men have mr quit ukip last week after months of tension as he vied unsuccessfully for the leadership of that he said he was ashamed to be a member of a ukip whose leadership had gone awol after the great opportunity offered by its third place at last june european ukip roger has said he is glad to see the back of mr he has remarkable ability to influence people after the election it became clear that he was more interested in the robert party than the uk independence party so it was nice knowing now he ukip officials also argue mr has not been straightforward in attacking the party he once wanted to\n",
            "Decoded sentence:  higher phil is said it his red would not those who selected there is increasing\n",
            "-\n",
            "Input sentence: donor attacks reported feud between tony blair and gordon brown has prompted a labour donor to say he will almost certainly refuse to give more bannatyne also attacked the government over iraq and its poor response to the asian tsunami his broadside came as secretary robin cook said he hoped mr brown would be premier at some mr bannatyne has previously given labour he made his fortune from care homes and health on tuesday said was he was reviewing his donations because of cabinet disunity and international his spokesman said it was highly unlikely he would give labour more although he would remain a supporter and not fund the peston new book has prompted more speculation about the rift with its claims that the prime minister broke a promise made in to stand mr bannatyne disunity in the cabinet has a corrosive effect on the gordon brown is a great chancellor who has delivered a stable but business wants that to continue and not be blown off course by petty squabbles based on personal the whose latest venture is a casino in also voiced concern about the ongoing violence in he branded the uk government response to the tsunami as piecemeal and the people there need practical help not just pledges of he the us has forces helping on the ground we can do british navy ships have helped the relief effort and the prime minister has said the government could ultimately give hundreds of millions of pounds in mr bannatyne is due to host a new television programme and is also appearing on business programme dragon but his spokesman insisted his attack on labour was not a publicity a separate robin cook gave his support to mr brown prime ministerial ambitions but told a lunch for political journalists winning the election had to be labour but he insisted the recent squabbles between mr blair and mr brown were not perceived as a problem by the adding there was no impression of governmental mr cook argued that more prominence was given to these matters because there was not an alternative source of opposition to the he warned the abstentions party was the real challenge to labour and they would not be motivated by mr blair promise to produce an unremittingly new labour election his comments come after dave the leader of britain biggest union told the daily record newspaper he wants a date to be set for mr blair to be replaced as labour\n",
            "Decoded sentence:  <OOV> henry previously <OOV> a <OOV> <OOV> has <OOV> its plans to buy us\n",
            "-\n",
            "Input sentence: research fears over kelly have expressed concerns that new education secretary ruth kelly religious views could hamper vital scientific who is is reported to be and has opposed embryo medical research council professor nancy rothwell said ms kelly views mattered as she was responsible for training future the department for education and skills would not comment on the spokeswoman it is not news that ms kelly is a catholic but we are not going into any details on but she added that claims ms kelly was in charge of a university research budget were not it was down to the higher education funding council and the research councils to decide on research british law is open to the cloning of human embryos to create stem master cells that can develop into all the body tissue this cloning activity is not permitted for reproductive purposes only for research into new disease it is controversial because it involves the destruction of who is also of research at manchester told the times higher education supplement it would worry her a great deal if ministers were she the views of ministers in the dfes do matter as they are responsible for training the next generation of you cannot have a higher education policy that is at odds with the government science head of developmental genetics at the national institute of medical professor robin said he had witnessed the confused situation in the us where many religious groups opposed the he if someone as senior as ruth kelly is not going to favour stem cell research we will end up with a similarly schizophrenic system in this it is very but fertility expert lord winston said he thought it was rather good ministers held ethical concerns have also been raised by organisations that ms kelly views might affect sex education policy in planning association chief anne said teaching pupils about contraception and abortion were young people must be informed about all the issues within sexual which include contraception and i think it is very important that the government maintains its commitment to the teenage pregnancy individual schools devise their own sex education policies based on a framework provided by the ms kelly has not set out her detailed views on either issue but has said she intends to put parents first in education this would include the quality of classroom discipline and academic standards in she\n",
            "Decoded sentence:  in the screen test service their role in a world record by human you cannot\n",
            "-\n",
            "Input sentence: chancellor rallies labour brown has issued a rallying telling supporters the stakes are too high to stay at home or protest vote in the forthcoming general chancellor said the vote expected to fall on may will give a clear and fundamental choice between labour investment and conservative speaking at labour spring conference in mr brown claimed the nhs was not safe in conservative he said tory plans to cut tax would cut deep into public a packed audience at gateshead sage the chancellor said the cuts proposed by shadow chancellor oliver letwin were the equivalent of sacking every gp and nurse in the he told laying into the conservative record in government he i give you this promise with britain will never return to the mistakes of erm and interest in lost one million in negative equity and three million never again tory boom and will be the central dividing line at the between a conservative party taking britain back and planning deep cuts of in our and a labour government taking britain which on a platform of stability will reform and renew our schools and public services i am proud to spend by turning to the the chancellor pledged to continue economic stability and growth in a third term in said after seven years labour had transformed from a party not trusted with the economy to the only party trusted with the it was now a party not just of but of employers and he in the speech which prompted a standing ovation from an audience clearly warm to mr brown he also promised to end teenage unemployment within the next five he also highlighted plans for debt relief for the world poorest a national minimum wage for and and the creation of a network of children centres and flexibility in maternity the prime minister is to take part later on saturday in an interactive question and answer fielding queries sent in by text message and telephone as part of labour attempt to engage the public in their\n",
            "Decoded sentence:  the tory report chose charles proposals from the coach sir paul <OOV> to\n",
            "-\n",
            "Input sentence: fox attacks blair tory blair lied when he took the uk to war so has no qualms about lying in the election say the liam fox was speaking after mr blair told labour members the tories offered a hard right dr fox told bbc if you are willing to lie about the reasons for going to i guess you are going to lie about anything at he would not discuss reports the party repaid to lord ashcroft after he predicted an election prime minister ratcheted up labour campaigning at the weekend with a helicopter tour of the country and his speech at the party spring he insisted he did not know the poll but it is widely expected to be what was seen as a highly personal speech in gateshead on mr blair i have the same passion and hunger as when i first walked through the door of downing he described his relationship with the public as starting then struggling to live up to the and reaching the point of raised voices and throwing he warned his supporters against it a fight for the future of our it is a fight that for britain and the people of britain we have to blair said that whether the public chose michael howard or mr it would result in a tory government not a labour government and a country that goes back and does not move dr fox accused mr blair and other cabinet ministers of telling lies about their policies and then attacking the what we learned at the weekend is what labour tactics are going to be and it is going to be fear and he told bbc the tory attacked labour six new pledges as vacuous and said mr blair was very worried voters would take revenge for his failure to dr fox refused to discuss weekend newspaper reports that the party had repaid to former tory treasurer lord ashcroft after he said the party could not win the we repay loans when they are due but do not comment to individual financial he insisting he enjoyed a warm and constructive relationship to lord lib dem leader charles kennedy is expected to attack mr blair words as he begins a nationwide tour on mr kennedy is accelerating lib dem election preparations this week as he visits dorset and he this is in the northern the contest is between labour and the liberal in southern and rural seats especially in the south west the principal contenders are the liberal democrats and the who are out of the running in scotland and the lib dems accuse mr blair of making a speech to labour delegates which will not help him regain public\n",
            "Decoded sentence:  sales still to in the game <OOV> into the northern football as coach <OOV>\n",
            "-\n",
            "Input sentence: tories unveil quango blitz to abolish quangos have been unveiled by the conservatives as part of their effort to show how government red tape can be government units would also be scrapped under proposals which the tories say would save more than among the targets are strategic health authorities and the new fair access regulator for tory frontbencher john redwood said britain needed a slimmer government and lower taxes to be plans would abolish regional assemblies and other regional such as boards tackling industrial development and their powers would be returned to elected local councils or national the tories say the strategic health authorities are not needed as it is better that local rather than run hospitals and the mr redwood mr blair has forgotten the interests of and has broken the pledges he far from improving public spending money on quangos has led only to more more regulation and higher his party michael argued a change in direction was needed to get a grip on labour are creating two the britain of the forgotten majority and bureaucratic he in the real people are working harder just to stand they have seen their pensions knocked for being squeezed by extra the forgotten majority are paying the price of bureaucratic government has announced plans to cut civil servants as part of its efficiency but chief secretary to the treasury paul boateng attacked the tory the conservatives are committed to cutting labour public spending plans by a massive he cuts on this scale cannot be found from cutting but would require massive cuts to public services such as hospitals and the the liberal democrats have said they would cut the number of whitehall departments to make sure money reaches frontline\n",
            "Decoded sentence:  government <OOV> also should local <OOV> rumours proposals that the other\n"
          ],
          "name": "stdout"
        }
      ]
    },
    {
      "cell_type": "code",
      "metadata": {
        "execution": {
          "iopub.status.busy": "2021-07-11T19:43:15.256901Z",
          "iopub.execute_input": "2021-07-11T19:43:15.257294Z",
          "iopub.status.idle": "2021-07-11T19:43:15.298679Z",
          "shell.execute_reply.started": "2021-07-11T19:43:15.257261Z",
          "shell.execute_reply": "2021-07-11T19:43:15.297423Z"
        },
        "trusted": true,
        "id": "vP28qO3OQCCK"
      },
      "source": [
        "encoder_model.save('encoder.h5')\n",
        "decoder_model.save('decoder.h5')"
      ],
      "execution_count": null,
      "outputs": []
    },
    {
      "cell_type": "code",
      "metadata": {
        "id": "RmeWyk32QCCK"
      },
      "source": [
        ""
      ],
      "execution_count": null,
      "outputs": []
    }
  ]
}