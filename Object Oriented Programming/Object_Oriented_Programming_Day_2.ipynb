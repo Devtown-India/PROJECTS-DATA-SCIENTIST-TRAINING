{
  "nbformat": 4,
  "nbformat_minor": 0,
  "metadata": {
    "colab": {
      "name": "Object Oriented Programming Day-2.ipynb",
      "provenance": [],
      "collapsed_sections": []
    },
    "kernelspec": {
      "name": "python3",
      "display_name": "Python 3"
    },
    "language_info": {
      "name": "python"
    }
  },
  "cells": [
    {
      "cell_type": "markdown",
      "metadata": {
        "id": "-3Dj3MSmJPsr"
      },
      "source": [
        "<H1><B>Object Oriented Programming</B></H1>\n",
        "<br>\n",
        "<b>Welcome to this lesson on object oriented programming! You'll learn about:</b>\n",
        "<li> Inheritance</li>\n",
        "<li> Class</li>\n",
        "<li>Object (Instance of  a Class)</li>\n",
        "<li>Class Variables vs Instance Variables</li>\n",
        "<li>Methods of Variables in a Class</li>\n",
        "<li>Scope of a variable in a class (Public/Private)</li>"
      ]
    },
    {
      "cell_type": "markdown",
      "metadata": {
        "id": "sQNP0MRmPmHg"
      },
      "source": [
        "##**Inheritance**"
      ]
    },
    {
      "cell_type": "code",
      "metadata": {
        "colab": {
          "base_uri": "https://localhost:8080/"
        },
        "id": "eCDHZUm_Pm42",
        "outputId": "beceed06-b62f-4976-a6ad-4765188e1479"
      },
      "source": [
        "class Parent():\n",
        "    \n",
        "    def show_hairColor(self): \n",
        "        return self.hairColor\n",
        "\n",
        "class Child(Parent):\n",
        "\n",
        "    def __init__(self, firstName, hairColor):\n",
        "        self.firstName = firstName\n",
        "        self.hairColor = hairColor\n",
        "\n",
        "ch = Child('Raj', 'Black')\n",
        "print(ch.firstName)\n",
        "print(ch.show_hairColor())  # This method is inherited from the Parent Class"
      ],
      "execution_count": null,
      "outputs": [
        {
          "output_type": "stream",
          "text": [
            "Raj\n",
            "Black\n"
          ],
          "name": "stdout"
        }
      ]
    },
    {
      "cell_type": "markdown",
      "metadata": {
        "id": "zlnUajSDj0Ad"
      },
      "source": [
        ">**NOTE:** When we create an instance of the Child class, by default the constructor of Parent class is called first, then the constructor of the Child gets executed."
      ]
    },
    {
      "cell_type": "code",
      "metadata": {
        "colab": {
          "base_uri": "https://localhost:8080/"
        },
        "id": "zHdrLRSIlg57",
        "outputId": "2ec6e1ab-3d04-4474-fb1c-f76034bd070e"
      },
      "source": [
        "class Parent():\n",
        "    \n",
        "    def __init__(self, hairColor, surname):\n",
        "        print(\"Inside the Parent Constructor\")\n",
        "        self.hairColor = hairColor\n",
        "        self.surname = surname\n",
        "\n",
        "    def show_hairColor(self): \n",
        "        return self.hairColor\n",
        "\n",
        "class Child(Parent):\n",
        "\n",
        "    def show_surname(self):\n",
        "      return self.surname\n",
        "\n",
        "ch = Child('Black', 'Cooper')\n",
        "print(ch.surname)   # accessing the vairable inherited from class Parent\n",
        "print(ch.show_hairColor())   # accessing Parent class' method"
      ],
      "execution_count": null,
      "outputs": [
        {
          "output_type": "stream",
          "text": [
            "Inside the Parent Constructor\n",
            "Goyal\n",
            "Black\n"
          ],
          "name": "stdout"
        }
      ]
    },
    {
      "cell_type": "code",
      "metadata": {
        "colab": {
          "base_uri": "https://localhost:8080/"
        },
        "id": "bRD20COSluaB",
        "outputId": "1dbbe396-b5e6-4a5d-909b-55a55d2b0fe3"
      },
      "source": [
        "class Parent():\n",
        "    \n",
        "    def __init__(self, hairColor, surname):\n",
        "        print(\"Inside the Parent Constructor\")\n",
        "        self.hairColor = hairColor\n",
        "        self.surname = surname\n",
        "\n",
        "    def show_hairColor(self): \n",
        "        return self.hairColor\n",
        "\n",
        "class Child(Parent):\n",
        "\n",
        "    def __init__(self, hairColor, surname):\n",
        "      print(\"Inside the Child Constructor\")\n",
        "      self.hairColor = hairColor\n",
        "      self.surname = surname\n",
        "\n",
        "    def show_surname(self):\n",
        "      return self.surname\n",
        "\n",
        "ch = Child('Black', 'Goyal')\n",
        "print(ch.surname)  \n",
        "print(ch.show_hairColor())"
      ],
      "execution_count": null,
      "outputs": [
        {
          "output_type": "stream",
          "text": [
            "Inside the Child Constructor\n",
            "Goyal\n",
            "Black\n"
          ],
          "name": "stdout"
        }
      ]
    },
    {
      "cell_type": "markdown",
      "metadata": {
        "id": "UTO7Sh3Gn7pZ"
      },
      "source": [
        "Notice when we defined our custom constructor, the Parent Class' constructor didn'i get called"
      ]
    },
    {
      "cell_type": "markdown",
      "metadata": {
        "id": "hIkDl0vqb0q_"
      },
      "source": [
        "###**super() in python**\n",
        "\n",
        "super() function plays a very important part when it comes to inheritance. It allows the reference to the parent class of the current child class.\n",
        " - The super() function has two major use cases:\n",
        "  - Avoid usage of super parent class explicitly.\n",
        "  - In multiple inheritances (We will see later more about multiple inheritance)."
      ]
    },
    {
      "cell_type": "code",
      "metadata": {
        "colab": {
          "base_uri": "https://localhost:8080/"
        },
        "id": "CSUHaAFqb7dp",
        "outputId": "58ed6990-390d-4219-81d1-3ea0fdec8ca6"
      },
      "source": [
        "class Parent():\n",
        "    \n",
        "    def __init__(self, hairColor, surname):\n",
        "        print(\"Inside the Parent Constructor\")\n",
        "        self.hairColor = hairColor\n",
        "        self.surname = surname\n",
        "\n",
        "    def show_hairColor(self): \n",
        "        return self.hairColor\n",
        "\n",
        "class Child(Parent):\n",
        "\n",
        "    def __init__(self, hairColor, surname):\n",
        "      print(\"Inside the Child Constructor\")\n",
        "      # Usage of super() to refer to the constructor of the Parent Class\n",
        "      super().__init__(hairColor, surname)\n",
        "      self.hairColor = hairColor\n",
        "      self.surname = surname\n",
        "\n",
        "    def show_surname(self):\n",
        "      return self.surname\n",
        "\n",
        "ch = Child('Black', 'Cooper')\n",
        "print(ch.surname)  \n",
        "print(ch.show_hairColor())"
      ],
      "execution_count": 1,
      "outputs": [
        {
          "output_type": "stream",
          "text": [
            "Inside the Child Constructor\n",
            "Inside the Parent Constructor\n",
            "Cooper\n",
            "Black\n"
          ],
          "name": "stdout"
        }
      ]
    },
    {
      "cell_type": "markdown",
      "metadata": {
        "id": "phEWn-19p3w-"
      },
      "source": [
        "####**Accessing private methods and variables from the Parent Class**"
      ]
    },
    {
      "cell_type": "code",
      "metadata": {
        "colab": {
          "base_uri": "https://localhost:8080/",
          "height": 229
        },
        "id": "CXEIUu8soIcm",
        "outputId": "25ee8e00-6d07-470f-b690-6f295cdbf34a"
      },
      "source": [
        "class Parent():\n",
        "    \n",
        "    def __init__(self, hairColor, surname):\n",
        "        print(\"Inside the Parent Constructor\")\n",
        "        self.hairColor = hairColor\n",
        "        self.surname = surname\n",
        "\n",
        "    # defining the private method in the parent class\n",
        "    def __show_hairColor(self): \n",
        "        return self.hairColor\n",
        "\n",
        "class Child(Parent):\n",
        "\n",
        "    def __init__(self, hairColor, surname):\n",
        "      print(\"Inside the Child Constructor\")\n",
        "      self.hairColor = hairColor\n",
        "      self.surname = surname\n",
        "\n",
        "    def show_surname(self):\n",
        "      return self.surname\n",
        "\n",
        "ch = Child('Black', 'Koothrappali')\n",
        "print(ch.surname)  \n",
        "# Acessing the parent class' private method\n",
        "print(ch.__show_hairColor())"
      ],
      "execution_count": null,
      "outputs": [
        {
          "output_type": "stream",
          "text": [
            "Inside the Child Constructor\n",
            "Goyal\n"
          ],
          "name": "stdout"
        },
        {
          "output_type": "error",
          "ename": "AttributeError",
          "evalue": "ignored",
          "traceback": [
            "\u001b[0;31m---------------------------------------------------------------------------\u001b[0m",
            "\u001b[0;31mAttributeError\u001b[0m                            Traceback (most recent call last)",
            "\u001b[0;32m<ipython-input-19-f22daab2df03>\u001b[0m in \u001b[0;36m<module>\u001b[0;34m()\u001b[0m\n\u001b[1;32m     21\u001b[0m \u001b[0mch\u001b[0m \u001b[0;34m=\u001b[0m \u001b[0mChild\u001b[0m\u001b[0;34m(\u001b[0m\u001b[0;34m'Black'\u001b[0m\u001b[0;34m,\u001b[0m \u001b[0;34m'Goyal'\u001b[0m\u001b[0;34m)\u001b[0m\u001b[0;34m\u001b[0m\u001b[0;34m\u001b[0m\u001b[0m\n\u001b[1;32m     22\u001b[0m \u001b[0mprint\u001b[0m\u001b[0;34m(\u001b[0m\u001b[0mch\u001b[0m\u001b[0;34m.\u001b[0m\u001b[0msurname\u001b[0m\u001b[0;34m)\u001b[0m\u001b[0;34m\u001b[0m\u001b[0;34m\u001b[0m\u001b[0m\n\u001b[0;32m---> 23\u001b[0;31m \u001b[0mprint\u001b[0m\u001b[0;34m(\u001b[0m\u001b[0mch\u001b[0m\u001b[0;34m.\u001b[0m\u001b[0m__show_hairColor\u001b[0m\u001b[0;34m(\u001b[0m\u001b[0;34m)\u001b[0m\u001b[0;34m)\u001b[0m\u001b[0;34m\u001b[0m\u001b[0;34m\u001b[0m\u001b[0m\n\u001b[0m",
            "\u001b[0;31mAttributeError\u001b[0m: 'Child' object has no attribute '__show_hairColor'"
          ]
        }
      ]
    },
    {
      "cell_type": "markdown",
      "metadata": {
        "id": "2RJ6_wCAqtiM"
      },
      "source": [
        "We can't directly access the Parent class' private variables or methods in the Child class, to access any private variable, we can take help of the getter method, and for the private method, we can take help of the special syntax that we have in python.\n",
        "```\n",
        "instanceName._parentClassName__[method/variable name]\n",
        "```"
      ]
    },
    {
      "cell_type": "code",
      "metadata": {
        "colab": {
          "base_uri": "https://localhost:8080/"
        },
        "id": "mv4wLt-toQxL",
        "outputId": "387a0963-8a0c-4427-e39b-3b2d399baca8"
      },
      "source": [
        "class Parent():\n",
        "    \n",
        "    def __init__(self, hairColor, surname):\n",
        "        print(\"Inside the Parent Constructor\")\n",
        "        self.hairColor = hairColor\n",
        "        self.surname = surname\n",
        "\n",
        "    # defining the private method in the parent class\n",
        "    def __show_hairColor(self): \n",
        "        return self.hairColor\n",
        "\n",
        "class Child(Parent):\n",
        "\n",
        "    def __init__(self, hairColor, surname):\n",
        "      print(\"Inside the Child Constructor\")\n",
        "      self.hairColor = hairColor\n",
        "      self.surname = surname\n",
        "\n",
        "    def show_surname(self):\n",
        "      return self.surname\n",
        "\n",
        "ch = Child('Black', 'Goyal')\n",
        "print(ch.surname)  \n",
        "# Acessing the parent class' private method\n",
        "print(ch._Parent__show_hairColor())"
      ],
      "execution_count": null,
      "outputs": [
        {
          "output_type": "stream",
          "text": [
            "Inside the Child Constructor\n",
            "Goyal\n",
            "Black\n"
          ],
          "name": "stdout"
        }
      ]
    },
    {
      "cell_type": "markdown",
      "metadata": {
        "id": "W_TnrvEzqqg9"
      },
      "source": [
        "##**Polymorphism**\n",
        "Polymorphism means the occurance of many forms. In our context it refers to occurance of many functions with same name. We can have more than one definition for any function based on the arguments passed to the function."
      ]
    },
    {
      "cell_type": "code",
      "metadata": {
        "colab": {
          "base_uri": "https://localhost:8080/"
        },
        "id": "Ls_pgfEZrggK",
        "outputId": "d8e56d06-d40b-4fb8-cf05-04a315176de9"
      },
      "source": [
        "# Polymorphism in a class\n",
        "\n",
        "class Mother():\n",
        "    \n",
        "    def __init__(self, hairColor, surname):\n",
        "        self.hairColor = hairColor\n",
        "        self.surname = surname\n",
        "\n",
        "    def getColor(self): \n",
        "        print(\"hair color is:\", self.hairColor)\n",
        "\n",
        "class Father():\n",
        "    \n",
        "    def __init__(self, hairColor, surname):\n",
        "        self.hairColor = hairColor\n",
        "        self.surname = surname\n",
        "\n",
        "    def getColor(self): \n",
        "        print(\"hair color is:\", self.hairColor)\n",
        "\n",
        "# Note that both the classes have methods with same name\n",
        "\n",
        "m = Mother(\"blonde\",\"bernadette\")\n",
        "f = Father(\"black\", \"wolowitz\")\n",
        "\n",
        "for parent in (m, f):\n",
        "  parent.getColor()\n",
        "\n"
      ],
      "execution_count": null,
      "outputs": [
        {
          "output_type": "stream",
          "text": [
            "hair color is: blonde\n",
            "hair color is: black\n"
          ],
          "name": "stdout"
        }
      ]
    },
    {
      "cell_type": "markdown",
      "metadata": {
        "id": "aAX1B0VAsjxQ"
      },
      "source": [
        " - In the above class, there are two methods both named getColor. \n",
        " - We didn't care about the which class the object belongs to while calling the function.\n",
        " - It's possible due to polymorphism"
      ]
    },
    {
      "cell_type": "markdown",
      "metadata": {
        "id": "0v_h6Tn1t1zY"
      },
      "source": [
        "##**Polymorhism and Inheritance**\n",
        " - The Child class and the Parent class can have different methods with the same name.\n",
        " - In such case, when we call the method from the child object, the method defined  in the Child class gets executed. This is called **Method Overriding**.\n",
        " - Polymorphism allows us to do Method Overriding."
      ]
    },
    {
      "cell_type": "code",
      "metadata": {
        "id": "cW88qInM80aN"
      },
      "source": [
        "class Parent():\n",
        "    \n",
        "    def __init__(self, hairColor, surname):\n",
        "        self.hairColor = hairColor\n",
        "        self.surname = surname\n",
        "\n",
        "    def show_hairColor(self): \n",
        "        print(\"In the Parent Class\")\n",
        "        return self.hairColor\n",
        "\n",
        "class Child(Parent):\n",
        "\n",
        "    def __init__(self, hairColor, surname):\n",
        "      self.hairColor = hairColor\n",
        "      self.surname = surname\n",
        "    \n",
        "    def show_hairColor(self): \n",
        "        print(\"In the Child Class\")\n",
        "        return self.hairColor\n",
        "\n",
        "    def show_surname(self):\n",
        "      return self.surname"
      ],
      "execution_count": null,
      "outputs": []
    },
    {
      "cell_type": "markdown",
      "metadata": {
        "id": "dp8iV1w3-aVK"
      },
      "source": [
        "The mehod show_hairColor is present in both the Parent class as well as the Child class. <br>\n",
        "Let's call the method show_hairColor from the Parent object as well as the Child object"
      ]
    },
    {
      "cell_type": "code",
      "metadata": {
        "colab": {
          "base_uri": "https://localhost:8080/"
        },
        "id": "YkeKdqqy-px1",
        "outputId": "3c2e0b67-fa39-450d-d40e-26bb30c3ba24"
      },
      "source": [
        "ch = Child(\"Black\", \"Leonard\")\n",
        "p = Parent(\"Blonde\",\"Beverly\")\n",
        "\n",
        "print(\"Calling the method from the parent object\")\n",
        "print(p.show_hairColor())\n",
        "print(\"Calling the method from the child object\")\n",
        "print(ch.show_hairColor())"
      ],
      "execution_count": null,
      "outputs": [
        {
          "output_type": "stream",
          "text": [
            "Calling the method from the parent object\n",
            "In the Parent Class\n",
            "Blonde\n",
            "Calling the method from the child object\n",
            "In the Child Class\n",
            "Black\n"
          ],
          "name": "stdout"
        }
      ]
    },
    {
      "cell_type": "markdown",
      "metadata": {
        "id": "gaEGmFz0_Ko5"
      },
      "source": [
        "##**Multiple Inheritance**"
      ]
    },
    {
      "cell_type": "markdown",
      "metadata": {
        "id": "kF5hnt7kbMl_"
      },
      "source": [
        "**PARALLEL INHERITANCE**\n",
        "\n",
        "In parallel inheritance, the child class inherits from more than one parent class\n",
        "\n",
        "![image.png](data:image/png;base64,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)"
      ]
    },
    {
      "cell_type": "code",
      "metadata": {
        "colab": {
          "base_uri": "https://localhost:8080/"
        },
        "id": "Z5jBy85kgk_d",
        "outputId": "c4460fad-546a-4082-bda3-8d4126976f95"
      },
      "source": [
        "# Parent Class\n",
        "class Father():\n",
        "    \n",
        "    def __init__(self, hairColor, surname):\n",
        "        self.hairColor = hairColor\n",
        "        self.surname = surname\n",
        "\n",
        "    def show_surname(self):\n",
        "      return self.surname\n",
        "\n",
        "# Parent Class\n",
        "class Mother():\n",
        "    \n",
        "    def __init__(self, hairColor, surname):\n",
        "        self.hairColor = hairColor\n",
        "        self.surname = surname\n",
        "\n",
        "    def show_hairColor(self): \n",
        "      return self.hairColor\n",
        "\n",
        "# Chile Class inheriting from the Parent Class\n",
        "class Child(Father, Mother):\n",
        "\n",
        "    def __init__(self, hairColor, surname):\n",
        "      self.hairColor = hairColor\n",
        "      self.surname = surname\n",
        "\n",
        "# Instance of child class\n",
        "ch = Child(\"Black\", \"Cooper\")\n",
        "\n",
        "# Calling method from Father Class\n",
        "print(ch.show_surname())\n",
        "\n",
        "# Calling method from Mother Class\n",
        "print(ch.show_hairColor())"
      ],
      "execution_count": 12,
      "outputs": [
        {
          "output_type": "stream",
          "text": [
            "Cooper\n",
            "Black\n"
          ],
          "name": "stdout"
        }
      ]
    },
    {
      "cell_type": "markdown",
      "metadata": {
        "id": "yc33mpOgsN6L"
      },
      "source": [
        "**super() in parallel inheritance**\n",
        "\n",
        "In parallel inheritance, the super keyword refers to the Parent class inherited first (starting from left to right).\n",
        "\n"
      ]
    },
    {
      "cell_type": "code",
      "metadata": {
        "colab": {
          "base_uri": "https://localhost:8080/"
        },
        "id": "dyY1p6StsMgH",
        "outputId": "fb55977f-6cf8-40f5-d4f7-b73eb38fe699"
      },
      "source": [
        "# Parent Class\n",
        "class Father():\n",
        "    \n",
        "    def __init__(self, hairColor, surname):\n",
        "        print(\"Father class start\")\n",
        "        self.hairColor = hairColor\n",
        "        self.surname = surname\n",
        "        print(\"Father class end\")\n",
        "\n",
        "    def show_surname(self):\n",
        "      return self.surname\n",
        "\n",
        "# Parent Class\n",
        "class Mother():\n",
        "    \n",
        "    def __init__(self, hairColor, surname):\n",
        "        print(\"Mother class start\")\n",
        "        self.hairColor = hairColor\n",
        "        self.surname = surname\n",
        "        print(\"Mother class end\")\n",
        "\n",
        "    def show_hairColor(self): \n",
        "      return self.hairColor\n",
        "\n",
        "# Chile Class inheriting from the Parent Class\n",
        "class Child(Father, Mother):\n",
        "\n",
        "    def __init__(self, hairColor, surname):\n",
        "      super().__init__(hairColor, surname)\n",
        "      print(\"Inside Child Class\")\n",
        "      self.hairColor = hairColor\n",
        "      self.surname = surname\n",
        "\n",
        "# Instance of child class\n",
        "ch = Child(\"Black\", \"Cooper\")\n",
        "\n",
        "# Calling method from Father Class\n",
        "print(ch.show_surname())\n",
        "\n",
        "# Calling method from Mother Class\n",
        "print(ch.show_hairColor())"
      ],
      "execution_count": 15,
      "outputs": [
        {
          "output_type": "stream",
          "text": [
            "Father class start\n",
            "Father class end\n",
            "Inside Child Class\n",
            "Cooper\n",
            "Black\n"
          ],
          "name": "stdout"
        }
      ]
    },
    {
      "cell_type": "markdown",
      "metadata": {
        "id": "DBorUegRtmMp"
      },
      "source": [
        "super() refered to the Father class (because it was inherited first starting from left).\n",
        "\n",
        "<br>\n",
        "\n",
        "**Polymorphism in Parallel Inheritance**\n",
        "\n",
        "If a method is present in more than one parent classes, a child is inheriting. Then the method executed will follow the same order in which the classes are inherited (from left to right). "
      ]
    },
    {
      "cell_type": "code",
      "metadata": {
        "colab": {
          "base_uri": "https://localhost:8080/"
        },
        "id": "gIESdYlVufSB",
        "outputId": "563643e6-7491-473a-f69b-cda1482c1735"
      },
      "source": [
        "# Parent Class 1\n",
        "class Father():\n",
        "    \n",
        "    def __init__(self, hairColor, surname):\n",
        "        self.hairColor = hairColor\n",
        "        self.surname = surname\n",
        "\n",
        "    def show_hairColor(self): \n",
        "      print(\"Father Class method\")\n",
        "      return self.hairColor\n",
        "\n",
        "\n",
        "# Parent Class 2\n",
        "class Mother():\n",
        "    \n",
        "    def __init__(self, hairColor, surname):\n",
        "        self.hairColor = hairColor\n",
        "        self.surname = surname\n",
        "\n",
        "    def show_hairColor(self): \n",
        "      print(\"Mother Class method\")\n",
        "      return self.hairColor\n",
        "\n",
        "    def show_surname(self): \n",
        "      print(\"Mother Class method\")\n",
        "      return self.surname\n",
        "\n",
        "# Chile Class inheriting from the Parent Class\n",
        "class Child(Father, Mother):\n",
        "\n",
        "    def __init__(self, hairColor, surname):\n",
        "      self.hairColor = hairColor\n",
        "      self.surname = surname\n",
        "\n",
        "# Instance of child class\n",
        "ch = Child(\"Black\", \"Cooper\")\n",
        "\n",
        "# Calling the common method\n",
        "print(ch.show_hairColor())\n",
        "\n",
        "# Calling method from Mother Class\n",
        "print(ch.show_surname())"
      ],
      "execution_count": 16,
      "outputs": [
        {
          "output_type": "stream",
          "text": [
            "Father Class method\n",
            "Black\n",
            "Mother Class method\n",
            "Cooper\n"
          ],
          "name": "stdout"
        }
      ]
    },
    {
      "cell_type": "markdown",
      "metadata": {
        "id": "nGN9upjUvMww"
      },
      "source": [
        " - The method, show_hairColor is used from the Father Class because Father Class comes first when we go from left to right.\n",
        "\n",
        " - For the method, that is not there in the Father Class, the method is used from the Mother Class"
      ]
    },
    {
      "cell_type": "markdown",
      "metadata": {
        "id": "Pp1DEgaflTB6"
      },
      "source": [
        "**SERIEL INHERITANCE**\n",
        "\n",
        "In seriel inheritance, class 2 inherits from class 1 while class 3 inherits from class 2\n",
        "\n",
        "\n",
        "![image.png](data:image/png;base64,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)"
      ]
    },
    {
      "cell_type": "code",
      "metadata": {
        "colab": {
          "base_uri": "https://localhost:8080/"
        },
        "id": "TpC_SJ4KnXhc",
        "outputId": "3f0fc792-2d3c-448e-b773-13a79f0e221d"
      },
      "source": [
        "class GrandParent():\n",
        "    \n",
        "    def __init__(self, hairColor, surname):\n",
        "        print(\"Inside Grand Parent Constructor\")\n",
        "        self.hairColor = hairColor\n",
        "        self.surname = surname\n",
        "\n",
        "    def show_hairColor(self): \n",
        "        return self.hairColor\n",
        "\n",
        "class Parent(GrandParent):\n",
        "    \n",
        "    def __init__(self, hairColor, surname):\n",
        "        print(\"Inside Parent Constructor\")\n",
        "        self.hairColor = hairColor\n",
        "        self.surname = surname\n",
        "\n",
        "    def show_surname(self): \n",
        "        return self.surname\n",
        "\n",
        "class Child(Parent):\n",
        "\n",
        "    def __init__(self, hairColor, surname):\n",
        "      print(\"Inside Child Constructor\")\n",
        "      self.hairColor = hairColor\n",
        "      self.surname = surname\n",
        "\n",
        "ch = Child(\"Black\", \"Koothrapauli\")\n",
        "\n",
        "## Accessing Parent class method\n",
        "print(ch.show_surname())\n",
        "\n",
        "## Accessing Grand Parent class method\n",
        "print(ch.show_hairColor())"
      ],
      "execution_count": 6,
      "outputs": [
        {
          "output_type": "stream",
          "text": [
            "Inside Child Constructor\n",
            "Koothrapauli\n",
            "Black\n"
          ],
          "name": "stdout"
        }
      ]
    },
    {
      "cell_type": "markdown",
      "metadata": {
        "id": "yAmjFjKKodw6"
      },
      "source": [
        "**Use of super()**"
      ]
    },
    {
      "cell_type": "code",
      "metadata": {
        "colab": {
          "base_uri": "https://localhost:8080/"
        },
        "id": "ii_mD2R4ooAw",
        "outputId": "f195dcc1-30b8-4b1f-b369-3423e4289325"
      },
      "source": [
        "class GrandParent():\n",
        "    \n",
        "    def __init__(self, hairColor, surname):\n",
        "        print(\"Inside Grand Parent Constructor\")\n",
        "        self.hairColor = hairColor\n",
        "        self.surname = surname\n",
        "\n",
        "    def show_hairColor(self): \n",
        "        return self.hairColor\n",
        "\n",
        "class Parent(GrandParent):\n",
        "    \n",
        "    def __init__(self, hairColor, surname):\n",
        "        super().__init__(hairColor, surname)\n",
        "        print(\"Inside Parent Constructor\")\n",
        "        self.hairColor = hairColor\n",
        "        self.surname = surname\n",
        "\n",
        "    def show_surname(self): \n",
        "        return self.surname\n",
        "\n",
        "class Child(Parent):\n",
        "\n",
        "    def __init__(self, hairColor, surname):\n",
        "      super().__init__(hairColor, surname)\n",
        "      print(\"Inside Child Constructor\")\n",
        "      self.hairColor = hairColor\n",
        "      self.surname = surname\n",
        "\n",
        "ch = Child(\"Black\", \"Koothrapauli\")\n",
        "\n",
        "## Accessing Parent class method\n",
        "print(ch.show_surname())\n",
        "\n",
        "## Accessing Grand Parent class method\n",
        "print(ch.show_hairColor())"
      ],
      "execution_count": 8,
      "outputs": [
        {
          "output_type": "stream",
          "text": [
            "Inside Grand Parent Constructor\n",
            "Inside Parent Constructor\n",
            "Inside Child Constructor\n",
            "Koothrapauli\n",
            "Black\n"
          ],
          "name": "stdout"
        }
      ]
    },
    {
      "cell_type": "markdown",
      "metadata": {
        "id": "lpZNEqUMpUAL"
      },
      "source": [
        "**Polymorphism in Seriel Inheritance**"
      ]
    },
    {
      "cell_type": "code",
      "metadata": {
        "colab": {
          "base_uri": "https://localhost:8080/"
        },
        "id": "PrGSHluIvyU4",
        "outputId": "b25ca4a4-0ba2-48b1-b8f4-6fbebe1bb8b3"
      },
      "source": [
        "# TRY IT YOUSELF\n",
        "# WHAT WILL BE THE OUTPUT FOR THE CODE WRITTEN BELOW\n",
        "\n",
        "# HINT: USE ALL THE KNOWLEDGE YOU HAVE TILL NOW ON OOP\n",
        "\n",
        "class GrandParent():\n",
        "    \n",
        "    def __init__(self):\n",
        "        print(\"Inside Grand Parent Constructor\")\n",
        "\n",
        "    def show_hairColor(self): \n",
        "        return self.hairColor\n",
        "\n",
        "    def show_surname(self): \n",
        "        return self.surname\n",
        "\n",
        "class Parent(GrandParent):\n",
        "\n",
        "    def show_hairColor(self): \n",
        "        return self.hairColor\n",
        "\n",
        "class Child(Parent):\n",
        "\n",
        "    def __init__(self, hairColor, surname):\n",
        "      print(\"Inside Child Constructor\")\n",
        "      super().__init__()\n",
        "      self.hairColor = hairColor\n",
        "      self.surname = surname\n",
        "\n",
        "ch = Child(\"Black\", \"Koothrapauli\")\n",
        "\n",
        "print(ch.show_hairColor())\n",
        "print(ch.show_surname())"
      ],
      "execution_count": 18,
      "outputs": [
        {
          "output_type": "stream",
          "text": [
            "Inside Child Constructor\n",
            "Inside Grand Parent Constructor\n",
            "Black\n",
            "Koothrapauli\n"
          ],
          "name": "stdout"
        }
      ]
    },
    {
      "cell_type": "code",
      "metadata": {
        "id": "lNi_LpiawiVG"
      },
      "source": [
        "# TRY IT YOUSELF\n",
        "# WHAT WILL BE THE OUTPUT FOR THE CODE WRITTEN BELOW\n",
        "\n",
        "# HINT: USE ALL THE KNOWLEDGE YOU HAVE TILL NOW ON OOP\n",
        "\n",
        "\n",
        "class GrandParent():\n",
        "    \n",
        "    def __init__(self, hairColor, surname):\n",
        "        self.hairColor = hairColor\n",
        "        self.surname = surname\n",
        "\n",
        "    def show_hairColor(self): \n",
        "        return self.hairColor\n",
        "\n",
        "class Parent(GrandParent):\n",
        "\n",
        "    def show_hairColor(self): \n",
        "        return self.hairColor\n",
        "\n",
        "    def show_surname(self): \n",
        "        return self.surname\n",
        "\n",
        "class Child(Parent):\n",
        "\n",
        "    def __init__(self, hairColor, surname):\n",
        "      print(\"Inside Child Constructor\")\n",
        "      super().__init__()\n",
        "      self.hairColor = hairColor\n",
        "      self.surname = surname\n",
        "\n",
        "ch = Child(\"Black\", \"Koothrapauli\")\n",
        "\n",
        "print(ch.show_hairColor())\n",
        "print(ch.show_surname())"
      ],
      "execution_count": null,
      "outputs": []
    },
    {
      "cell_type": "code",
      "metadata": {
        "id": "Nm4SVP70xAXe"
      },
      "source": [
        ""
      ],
      "execution_count": null,
      "outputs": []
    }
  ]
}